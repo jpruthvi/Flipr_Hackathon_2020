{
 "cells": [
  {
   "cell_type": "code",
   "execution_count": 1,
   "metadata": {
    "_cell_guid": "b1076dfc-b9ad-4769-8c92-a6c4dae69d19",
    "_uuid": "8f2839f25d086af736a60e9eeb907d3b93b6e0e5"
   },
   "outputs": [],
   "source": [
    "import numpy as np\n",
    "import pandas as pd\n",
    "from sklearn.linear_model import LinearRegression, Ridge, Lasso\n",
    "from sklearn.preprocessing import PolynomialFeatures, LabelEncoder\n",
    "from sklearn.metrics import mean_squared_error\n",
    "import pickle\n",
    "from statsmodels.tsa.statespace.varmax import VARMAX\n",
    "import matplotlib.pyplot as plt\n",
    "%matplotlib inline"
   ]
  },
  {
   "cell_type": "code",
   "execution_count": 2,
   "metadata": {
    "_cell_guid": "79c7e3d0-c299-4dcb-8224-4455121ee9b0",
    "_uuid": "d629ff2d2480ee46fbb7e2d37f6b5fab8052498a"
   },
   "outputs": [],
   "source": [
    "data = pd.read_excel(\"/usr/input/flipr-hackathon-dataset/Train_dataset.xlsx\",1)"
   ]
  },
  {
   "cell_type": "code",
   "execution_count": 3,
   "metadata": {},
   "outputs": [
    {
     "data": {
      "text/html": [
       "<div>\n",
       "<style scoped>\n",
       "    .dataframe tbody tr th:only-of-type {\n",
       "        vertical-align: middle;\n",
       "    }\n",
       "\n",
       "    .dataframe tbody tr th {\n",
       "        vertical-align: top;\n",
       "    }\n",
       "\n",
       "    .dataframe thead th {\n",
       "        text-align: right;\n",
       "    }\n",
       "</style>\n",
       "<table border=\"1\" class=\"dataframe\">\n",
       "  <thead>\n",
       "    <tr style=\"text-align: right;\">\n",
       "      <th></th>\n",
       "      <th>people_ID</th>\n",
       "      <th>2020-03-20 00:00:00</th>\n",
       "      <th>2020-03-21 00:00:00</th>\n",
       "      <th>2020-03-22 00:00:00</th>\n",
       "      <th>2020-03-23 00:00:00</th>\n",
       "      <th>2020-03-24 00:00:00</th>\n",
       "      <th>2020-03-25 00:00:00</th>\n",
       "      <th>2020-03-26 00:00:00</th>\n",
       "    </tr>\n",
       "  </thead>\n",
       "  <tbody>\n",
       "    <tr>\n",
       "      <th>0</th>\n",
       "      <td>1</td>\n",
       "      <td>441</td>\n",
       "      <td>544.2</td>\n",
       "      <td>669.64</td>\n",
       "      <td>821.368</td>\n",
       "      <td>1002.2416</td>\n",
       "      <td>1215.68992</td>\n",
       "      <td>1472.627904</td>\n",
       "    </tr>\n",
       "    <tr>\n",
       "      <th>1</th>\n",
       "      <td>2</td>\n",
       "      <td>151</td>\n",
       "      <td>197.2</td>\n",
       "      <td>253.24</td>\n",
       "      <td>321.688</td>\n",
       "      <td>399.9256</td>\n",
       "      <td>492.91072</td>\n",
       "      <td>606.892864</td>\n",
       "    </tr>\n",
       "    <tr>\n",
       "      <th>2</th>\n",
       "      <td>3</td>\n",
       "      <td>416</td>\n",
       "      <td>515.2</td>\n",
       "      <td>632.44</td>\n",
       "      <td>776.728</td>\n",
       "      <td>947.7736</td>\n",
       "      <td>1150.32832</td>\n",
       "      <td>1395.793984</td>\n",
       "    </tr>\n",
       "    <tr>\n",
       "      <th>3</th>\n",
       "      <td>4</td>\n",
       "      <td>410</td>\n",
       "      <td>506.0</td>\n",
       "      <td>621.40</td>\n",
       "      <td>761.880</td>\n",
       "      <td>928.1560</td>\n",
       "      <td>1126.78720</td>\n",
       "      <td>1368.344640</td>\n",
       "    </tr>\n",
       "    <tr>\n",
       "      <th>4</th>\n",
       "      <td>5</td>\n",
       "      <td>390</td>\n",
       "      <td>483.0</td>\n",
       "      <td>595.00</td>\n",
       "      <td>730.200</td>\n",
       "      <td>892.8400</td>\n",
       "      <td>1084.40800</td>\n",
       "      <td>1315.889600</td>\n",
       "    </tr>\n",
       "  </tbody>\n",
       "</table>\n",
       "</div>"
      ],
      "text/plain": [
       "   people_ID  2020-03-20 00:00:00  2020-03-21 00:00:00  2020-03-22 00:00:00  \\\n",
       "0          1                  441                544.2               669.64   \n",
       "1          2                  151                197.2               253.24   \n",
       "2          3                  416                515.2               632.44   \n",
       "3          4                  410                506.0               621.40   \n",
       "4          5                  390                483.0               595.00   \n",
       "\n",
       "   2020-03-23 00:00:00  2020-03-24 00:00:00  2020-03-25 00:00:00  \\\n",
       "0              821.368            1002.2416           1215.68992   \n",
       "1              321.688             399.9256            492.91072   \n",
       "2              776.728             947.7736           1150.32832   \n",
       "3              761.880             928.1560           1126.78720   \n",
       "4              730.200             892.8400           1084.40800   \n",
       "\n",
       "   2020-03-26 00:00:00  \n",
       "0          1472.627904  \n",
       "1           606.892864  \n",
       "2          1395.793984  \n",
       "3          1368.344640  \n",
       "4          1315.889600  "
      ]
     },
     "execution_count": 3,
     "metadata": {},
     "output_type": "execute_result"
    }
   ],
   "source": [
    "data.head()"
   ]
  },
  {
   "cell_type": "markdown",
   "metadata": {},
   "source": [
    "Check to see if there are any missing values:"
   ]
  },
  {
   "cell_type": "code",
   "execution_count": 4,
   "metadata": {},
   "outputs": [
    {
     "data": {
      "text/plain": [
       "people_ID              0\n",
       "2020-03-20 00:00:00    0\n",
       "2020-03-21 00:00:00    0\n",
       "2020-03-22 00:00:00    0\n",
       "2020-03-23 00:00:00    0\n",
       "2020-03-24 00:00:00    0\n",
       "2020-03-25 00:00:00    0\n",
       "2020-03-26 00:00:00    0\n",
       "dtype: int64"
      ]
     },
     "execution_count": 4,
     "metadata": {},
     "output_type": "execute_result"
    }
   ],
   "source": [
    "data.isnull().sum()"
   ]
  },
  {
   "cell_type": "markdown",
   "metadata": {},
   "source": [
    "Let us observe a few plots of data:"
   ]
  },
  {
   "cell_type": "code",
   "execution_count": 5,
   "metadata": {},
   "outputs": [
    {
     "data": {
      "image/png": "[encoded data removed]",
      "text/plain": [
       "<Figure size 432x288 with 1 Axes>"
      ]
     },
     "metadata": {
      "needs_background": "light"
     },
     "output_type": "display_data"
    }
   ],
   "source": [
    "for i in range(5):\n",
    "    plt.scatter(range(7),data.iloc[i,1:].values)"
   ]
  },
  {
   "cell_type": "markdown",
   "metadata": {},
   "source": [
    "Looking above, we can see that most of the time series data is of \"quadractic nature\" which can be handled by linear regression.<br>\n",
    "Let us see a few more plots to make it clear:"
   ]
  },
  {
   "cell_type": "code",
   "execution_count": 6,
   "metadata": {},
   "outputs": [
    {
     "data": {
      "image/png": "[encoded data removed]",
      "text/plain": [
       "<Figure size 432x288 with 1 Axes>"
      ]
     },
     "metadata": {
      "needs_background": "light"
     },
     "output_type": "display_data"
    }
   ],
   "source": [
    "for i in range(5000,5005):\n",
    "    plt.scatter(range(7),data.iloc[i,1:].values)"
   ]
  },
  {
   "cell_type": "code",
   "execution_count": 7,
   "metadata": {},
   "outputs": [
    {
     "data": {
      "image/png": "[encoded data removed]",
      "text/plain": [
       "<Figure size 432x288 with 1 Axes>"
      ]
     },
     "metadata": {
      "needs_background": "light"
     },
     "output_type": "display_data"
    }
   ],
   "source": [
    "for i in range(len(data)-5,len(data)):\n",
    "    plt.scatter(range(7),data.iloc[i,1:].values)"
   ]
  },
  {
   "cell_type": "markdown",
   "metadata": {},
   "source": [
    "Looks like our hypothesis is correct!<br>\n",
    "Now, let us try actual regression and some plots to make this concrete:"
   ]
  },
  {
   "cell_type": "code",
   "execution_count": 8,
   "metadata": {},
   "outputs": [
    {
     "data": {
      "text/plain": [
       "<matplotlib.collections.PathCollection at 0x7f01f9e14cc0>"
      ]
     },
     "execution_count": 8,
     "metadata": {},
     "output_type": "execute_result"
    },
    {
     "data": {
      "image/png": "[encoded data removed]",
      "text/plain": [
       "<Figure size 432x288 with 1 Axes>"
      ]
     },
     "metadata": {
      "needs_background": "light"
     },
     "output_type": "display_data"
    }
   ],
   "source": [
    "model = LinearRegression()\n",
    "X = np.array(list(range(7))).reshape(-1,1)\n",
    "poly = PolynomialFeatures(2)\n",
    "X_train = poly.fit_transform(X)\n",
    "y_train = data.iloc[1,1:].values\n",
    "model.fit(X_train, y_train.reshape(-1,1))\n",
    "plt.plot(np.linspace(0,7,10), model.predict(poly.transform(np.linspace(0,7,10).reshape(-1,1))),c='g')\n",
    "plt.scatter(np.array(list(range(7))), data.iloc[1,1:].values)"
   ]
  },
  {
   "cell_type": "markdown",
   "metadata": {},
   "source": [
    "As we can see above, our predicted curve fits the given points beautifully!, <br>\n",
    "Let us try for two other rows of data:"
   ]
  },
  {
   "cell_type": "code",
   "execution_count": 9,
   "metadata": {},
   "outputs": [
    {
     "data": {
      "text/plain": [
       "<matplotlib.collections.PathCollection at 0x7f01f9f3eac8>"
      ]
     },
     "execution_count": 9,
     "metadata": {},
     "output_type": "execute_result"
    },
    {
     "data": {
      "image/png": "[encoded data removed]",
      "text/plain": [
       "<Figure size 432x288 with 1 Axes>"
      ]
     },
     "metadata": {
      "needs_background": "light"
     },
     "output_type": "display_data"
    }
   ],
   "source": [
    "model = LinearRegression()\n",
    "X = np.array(list(range(7))).reshape(-1,1)\n",
    "poly = PolynomialFeatures(2)\n",
    "X_train = poly.fit_transform(X)\n",
    "y_train = data.iloc[5000,1:].values\n",
    "model.fit(X_train, y_train.reshape(-1,1))\n",
    "plt.plot(np.linspace(0,7,10), model.predict(poly.transform(np.linspace(0,7,10).reshape(-1,1))),c='g')\n",
    "plt.scatter(np.array(list(range(7))), data.iloc[5000,1:].values)"
   ]
  },
  {
   "cell_type": "code",
   "execution_count": 10,
   "metadata": {},
   "outputs": [
    {
     "data": {
      "text/plain": [
       "<matplotlib.collections.PathCollection at 0x7f01f9e8a198>"
      ]
     },
     "execution_count": 10,
     "metadata": {},
     "output_type": "execute_result"
    },
    {
     "data": {
      "image/png": "[encoded data removed]",
      "text/plain": [
       "<Figure size 432x288 with 1 Axes>"
      ]
     },
     "metadata": {
      "needs_background": "light"
     },
     "output_type": "display_data"
    }
   ],
   "source": [
    "model = LinearRegression()\n",
    "X = np.array(list(range(7))).reshape(-1,1)\n",
    "poly = PolynomialFeatures(2)\n",
    "X_train = poly.fit_transform(X)\n",
    "y_train = data.iloc[len(data)-1,1:].values\n",
    "model.fit(X_train, y_train.reshape(-1,1))\n",
    "plt.plot(np.linspace(0,7,10), model.predict(poly.transform(np.linspace(0,7,10).reshape(-1,1))),c='g')\n",
    "plt.scatter(np.array(list(range(7))), data.iloc[len(data)-1,1:].values)"
   ]
  },
  {
   "cell_type": "markdown",
   "metadata": {},
   "source": [
    "Our proposed models fit the points beautifully, now let us find the diuresis parameter for all the patients:"
   ]
  },
  {
   "cell_type": "code",
   "execution_count": 11,
   "metadata": {},
   "outputs": [
    {
     "name": "stdout",
     "output_type": "stream",
     "text": [
      "0 R2=  0.9998433055113015\n",
      "100 R2=  0.999879730900633\n",
      "200 R2=  0.9997774883813905\n",
      "300 R2=  0.9997880512326495\n",
      "400 R2=  0.9997660088387273\n",
      "500 R2=  0.9997866458899157\n",
      "600 R2=  0.9997918401452185\n",
      "700 R2=  0.9997739082429195\n",
      "800 R2=  0.999836072804207\n",
      "900 R2=  0.9998424162408921\n",
      "1000 R2=  0.9997962130312044\n",
      "1100 R2=  0.9998013520860359\n",
      "1200 R2=  0.9998546235174963\n",
      "1300 R2=  0.9998354102780479\n",
      "1400 R2=  0.999751779025601\n",
      "1500 R2=  0.999771146762897\n",
      "1600 R2=  0.9997968978073624\n",
      "1700 R2=  0.999875622049731\n",
      "1800 R2=  0.9998214156970607\n",
      "1900 R2=  0.9997980683373628\n",
      "2000 R2=  0.9997488038614503\n",
      "2100 R2=  0.9997827765476387\n",
      "2200 R2=  0.9997717291483977\n",
      "2300 R2=  0.9998023393688871\n",
      "2400 R2=  0.9997117099189521\n",
      "2500 R2=  0.9997764875000229\n",
      "2600 R2=  0.9997870741873556\n",
      "2700 R2=  0.9998271637933736\n",
      "2800 R2=  0.9997925337133324\n",
      "2900 R2=  0.9997828439485884\n",
      "3000 R2=  0.9998088820631857\n",
      "3100 R2=  0.9998569807734484\n",
      "3200 R2=  0.9997811453013902\n",
      "3300 R2=  0.999816297289869\n",
      "3400 R2=  0.9997880149128548\n",
      "3500 R2=  0.9997747283871548\n",
      "3600 R2=  0.9998001063503669\n",
      "3700 R2=  0.9997550882539932\n",
      "3800 R2=  0.9997948311381515\n",
      "3900 R2=  0.9997641523987186\n",
      "4000 R2=  0.9998096587068807\n",
      "4100 R2=  0.9998351089281048\n",
      "4200 R2=  0.9997383470031245\n",
      "4300 R2=  0.9997903725733853\n",
      "4400 R2=  0.9997557598893416\n",
      "4500 R2=  0.9998082047659942\n",
      "4600 R2=  0.9997951329626578\n",
      "4700 R2=  0.9997469066186407\n",
      "4800 R2=  0.9998179361940899\n",
      "4900 R2=  0.9997499151395138\n",
      "5000 R2=  0.9997864886483557\n",
      "5100 R2=  0.9997935314390367\n",
      "5200 R2=  0.9998600154554349\n",
      "5300 R2=  0.9998449982568268\n",
      "5400 R2=  0.9997728772942347\n",
      "5500 R2=  0.9998468449541146\n",
      "5600 R2=  0.9997987649034545\n",
      "5700 R2=  0.9998167176721765\n",
      "5800 R2=  0.9997366814663821\n",
      "5900 R2=  0.9997374582894561\n",
      "6000 R2=  0.9997722351372585\n",
      "6100 R2=  0.9997488544397596\n",
      "6200 R2=  0.999827766564111\n",
      "6300 R2=  0.9998902037428968\n",
      "6400 R2=  0.9998550135123586\n",
      "6500 R2=  0.9998060092496565\n",
      "6600 R2=  0.9997864772111746\n",
      "6700 R2=  0.9998205519600217\n",
      "6800 R2=  0.9998265571302652\n",
      "6900 R2=  0.9998512626543721\n",
      "7000 R2=  0.9998213341879707\n",
      "7100 R2=  0.999815970598638\n",
      "7200 R2=  0.9998382351275675\n",
      "7300 R2=  0.9998180895522258\n",
      "7400 R2=  0.9998044114468643\n",
      "7500 R2=  0.9998398299229914\n",
      "7600 R2=  0.9997747076281863\n",
      "7700 R2=  0.999807372155661\n",
      "7800 R2=  0.9998685911329128\n",
      "7900 R2=  0.9998370763011364\n",
      "8000 R2=  0.9998145417940019\n",
      "8100 R2=  0.9997909650384275\n",
      "8200 R2=  0.99980519778704\n",
      "8300 R2=  0.9998167979922101\n",
      "8400 R2=  0.9998451652530614\n",
      "8500 R2=  0.9998239776135878\n",
      "8600 R2=  0.9998014914457641\n",
      "8700 R2=  0.9998046842441106\n",
      "8800 R2=  0.9998132729032537\n",
      "8900 R2=  0.9997139869689491\n",
      "9000 R2=  0.9998317174931649\n",
      "9100 R2=  0.9997991799568\n",
      "9200 R2=  0.9998362172375265\n",
      "9300 R2=  0.9997666937167827\n",
      "9400 R2=  0.9998418893043477\n",
      "9500 R2=  0.9997346948709008\n",
      "9600 R2=  0.9997968719319031\n",
      "9700 R2=  0.9996835477558363\n",
      "9800 R2=  0.9998061512372136\n",
      "9900 R2=  0.9997757910796461\n",
      "10000 R2=  0.999787874656496\n",
      "10100 R2=  0.9997499775521796\n",
      "10200 R2=  0.9997891523485707\n",
      "10300 R2=  0.9997569234061049\n",
      "10400 R2=  0.9998091911075089\n",
      "10500 R2=  0.9998665996775009\n",
      "10600 R2=  0.9997701867576677\n",
      "10700 R2=  0.999820736896539\n"
     ]
    }
   ],
   "source": [
    "X = np.array(list(range(7))).reshape(-1,1)\n",
    "poly = PolynomialFeatures(2)\n",
    "X_train = poly.fit_transform(X)\n",
    "X_test = np.array([8]).reshape(-1,1)\n",
    "X_test = poly.transform(X_test)\n",
    "new_diuresis = []\n",
    "for i in range(len(data)):\n",
    "    model = LinearRegression()\n",
    "    y_train = data.iloc[i,1:].values\n",
    "    model.fit(X_train, y_train.reshape(-1,1))\n",
    "    # since it is not feasible to plot for all the data points, we will print out the error\n",
    "    new_diuresis.append(model.predict(X_test)[0][0])\n",
    "    if i % 100 == 0:\n",
    "        print(i,\"R2= \", model.score(X_train, y_train))"
   ]
  },
  {
   "cell_type": "markdown",
   "metadata": {},
   "source": [
    "Judging from the R2 values above, we can see that our models are a very good fit for each of the patients."
   ]
  },
  {
   "cell_type": "markdown",
   "metadata": {},
   "source": [
    "Now, load the problem 1 data:"
   ]
  },
  {
   "cell_type": "code",
   "execution_count": 12,
   "metadata": {},
   "outputs": [],
   "source": [
    "cat_features = [0,1,3,4,7,10,11,]"
   ]
  },
  {
   "cell_type": "code",
   "execution_count": 13,
   "metadata": {},
   "outputs": [],
   "source": [
    "# preprocessing for model 1\n",
    "data = pd.read_excel(\"/kaggle/input/flipr-hackathon-dataset/Train_dataset.xlsx\",0)\n",
    "data = data.drop([\"Name\", \"Designation\", \"Region\", \"people_ID\"],axis = 1)\n",
    "data = data.drop([\"Infect_Prob\"], axis = 1)\n",
    "# impute all missing categorical variables with most common value\n",
    "data.iloc[:,cat_features] = data.iloc[:,cat_features].apply(lambda x: x.fillna(x.value_counts().index[0]))"
   ]
  },
  {
   "cell_type": "code",
   "execution_count": 14,
   "metadata": {},
   "outputs": [],
   "source": [
    "# update the values of Diuresis\n",
    "data[\"Diuresis\"] = pd.Series(new_diuresis)"
   ]
  },
  {
   "cell_type": "code",
   "execution_count": 15,
   "metadata": {},
   "outputs": [],
   "source": [
    "# load the cat boost model\n",
    "model1 = pickle.load(open(\"/kaggle/input/ensemble-model/cat_boost_model\",\"rb\"))"
   ]
  },
  {
   "cell_type": "code",
   "execution_count": 16,
   "metadata": {},
   "outputs": [],
   "source": [
    "pred1 = model1.predict(data.values)"
   ]
  },
  {
   "cell_type": "code",
   "execution_count": 17,
   "metadata": {},
   "outputs": [],
   "source": [
    "# load the lightgbm model\n",
    "model2 = pickle.load(open(\"/kaggle/input/ensemble-model/lightgbm_boost_model\",\"rb\"))"
   ]
  },
  {
   "cell_type": "code",
   "execution_count": 18,
   "metadata": {},
   "outputs": [],
   "source": [
    "# preprocessing\n",
    "for i in cat_features:\n",
    "    le = LabelEncoder()\n",
    "    data.iloc[:,i] = le.fit_transform(data.iloc[:,i])"
   ]
  },
  {
   "cell_type": "code",
   "execution_count": 19,
   "metadata": {},
   "outputs": [],
   "source": [
    "pred2 = model2.predict(data.values)"
   ]
  },
  {
   "cell_type": "code",
   "execution_count": 20,
   "metadata": {},
   "outputs": [],
   "source": [
    "# combine the two models\n",
    "pred_vals = pd.DataFrame((pred1+pred2)/2, index = data.index)"
   ]
  },
  {
   "cell_type": "code",
   "execution_count": 21,
   "metadata": {},
   "outputs": [],
   "source": [
    "# save to csv file\n",
    "pred_vals.to_csv(\"/kaggle/working/problem2.csv\")"
   ]
  },
  {
   "cell_type": "code",
   "execution_count": null,
   "metadata": {},
   "outputs": [],
   "source": []
  },
  {
   "cell_type": "code",
   "execution_count": null,
   "metadata": {},
   "outputs": [],
   "source": []
  },
  {
   "cell_type": "code",
   "execution_count": null,
   "metadata": {},
   "outputs": [],
   "source": []
  },
  {
   "cell_type": "code",
   "execution_count": null,
   "metadata": {},
   "outputs": [],
   "source": []
  },
  {
   "cell_type": "code",
   "execution_count": null,
   "metadata": {},
   "outputs": [],
   "source": []
  },
  {
   "cell_type": "code",
   "execution_count": null,
   "metadata": {},
   "outputs": [],
   "source": []
  },
  {
   "cell_type": "code",
   "execution_count": 22,
   "metadata": {},
   "outputs": [
    {
     "data": {
      "text/plain": [
       "972.3674148571431"
      ]
     },
     "execution_count": 22,
     "metadata": {},
     "output_type": "execute_result"
    }
   ],
   "source": [
    "new_diuresis[-1]"
   ]
  },
  {
   "cell_type": "code",
   "execution_count": 23,
   "metadata": {},
   "outputs": [],
   "source": [
    "data[\"Diuresis\"] = pd.Series(new_diuresis)"
   ]
  },
  {
   "cell_type": "code",
   "execution_count": 24,
   "metadata": {},
   "outputs": [
    {
     "data": {
      "text/plain": [
       "0        2049.591232\n",
       "1         857.959483\n",
       "2        1944.351301\n",
       "3        1906.279977\n",
       "4        1834.745371\n",
       "            ...     \n",
       "10709     781.664265\n",
       "10710    1814.218487\n",
       "10711     954.474921\n",
       "10712    1679.106098\n",
       "10713     972.367415\n",
       "Name: Diuresis, Length: 10714, dtype: float64"
      ]
     },
     "execution_count": 24,
     "metadata": {},
     "output_type": "execute_result"
    }
   ],
   "source": [
    "data[\"Diuresis\"]"
   ]
  },
  {
   "cell_type": "code",
   "execution_count": 25,
   "metadata": {},
   "outputs": [],
   "source": [
    "newdata = pd.read_excel(\"/kaggle/input/flipr-hackathon-dataset/Train_dataset.xlsx\",1)\n",
    "datadata = pd.read_excel(\"/kaggle/input/flipr-hackathon-dataset/Train_dataset.xlsx\",0)"
   ]
  },
  {
   "cell_type": "code",
   "execution_count": 26,
   "metadata": {},
   "outputs": [
    {
     "data": {
      "text/plain": [
       "10714"
      ]
     },
     "execution_count": 26,
     "metadata": {},
     "output_type": "execute_result"
    }
   ],
   "source": [
    "(data.index == newdata.index).sum()"
   ]
  },
  {
   "cell_type": "code",
   "execution_count": 27,
   "metadata": {},
   "outputs": [
    {
     "data": {
      "text/plain": [
       "10714"
      ]
     },
     "execution_count": 27,
     "metadata": {},
     "output_type": "execute_result"
    }
   ],
   "source": [
    "len(data)"
   ]
  },
  {
   "cell_type": "code",
   "execution_count": null,
   "metadata": {},
   "outputs": [],
   "source": []
  }
 ],
 "metadata": {
  "kernelspec": {
   "display_name": "Python 3",
   "language": "python",
   "name": "python3"
  },
  "language_info": {
   "codemirror_mode": {
    "name": "ipython",
    "version": 3
   },
   "file_extension": ".py",
   "mimetype": "text/x-python",
   "name": "python",
   "nbconvert_exporter": "python",
   "pygments_lexer": "ipython3",
   "version": "3.7.3"
  }
 },
 "nbformat": 4,
 "nbformat_minor": 4
}
