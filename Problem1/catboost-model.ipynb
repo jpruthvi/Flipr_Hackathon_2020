{
 "cells": [
  {
   "cell_type": "code",
   "execution_count": 1,
   "metadata": {
    "_cell_guid": "b1076dfc-b9ad-4769-8c92-a6c4dae69d19",
    "_uuid": "8f2839f25d086af736a60e9eeb907d3b93b6e0e5"
   },
   "outputs": [],
   "source": [
    "import numpy as np\n",
    "import pandas as pd\n",
    "import catboost as ctb\n",
    "from sklearn.model_selection import GridSearchCV,train_test_split,RandomizedSearchCV\n",
    "from sklearn.metrics import f1_score, mean_squared_error, log_loss"
   ]
  },
  {
   "cell_type": "code",
   "execution_count": 2,
   "metadata": {
    "_cell_guid": "79c7e3d0-c299-4dcb-8224-4455121ee9b0",
    "_uuid": "d629ff2d2480ee46fbb7e2d37f6b5fab8052498a"
   },
   "outputs": [],
   "source": [
    "data = pd.read_excel(\"/usr/input/flipr-hackathon-dataset/Train_dataset.xlsx\")"
   ]
  },
  {
   "cell_type": "code",
   "execution_count": 3,
   "metadata": {},
   "outputs": [
    {
     "data": {
      "text/html": [
       "<div>\n",
       "<style scoped>\n",
       "    .dataframe tbody tr th:only-of-type {\n",
       "        vertical-align: middle;\n",
       "    }\n",
       "\n",
       "    .dataframe tbody tr th {\n",
       "        vertical-align: top;\n",
       "    }\n",
       "\n",
       "    .dataframe thead th {\n",
       "        text-align: right;\n",
       "    }\n",
       "</style>\n",
       "<table border=\"1\" class=\"dataframe\">\n",
       "  <thead>\n",
       "    <tr style=\"text-align: right;\">\n",
       "      <th></th>\n",
       "      <th>people_ID</th>\n",
       "      <th>Region</th>\n",
       "      <th>Gender</th>\n",
       "      <th>Designation</th>\n",
       "      <th>Name</th>\n",
       "      <th>Married</th>\n",
       "      <th>Children</th>\n",
       "      <th>Occupation</th>\n",
       "      <th>Mode_transport</th>\n",
       "      <th>cases/1M</th>\n",
       "      <th>...</th>\n",
       "      <th>HBB</th>\n",
       "      <th>d-dimer</th>\n",
       "      <th>Heart rate</th>\n",
       "      <th>HDL cholesterol</th>\n",
       "      <th>Charlson Index</th>\n",
       "      <th>Blood Glucose</th>\n",
       "      <th>Insurance</th>\n",
       "      <th>salary</th>\n",
       "      <th>FT/month</th>\n",
       "      <th>Infect_Prob</th>\n",
       "    </tr>\n",
       "  </thead>\n",
       "  <tbody>\n",
       "    <tr>\n",
       "      <th>0</th>\n",
       "      <td>1</td>\n",
       "      <td>Bhubaneshwar</td>\n",
       "      <td>Female</td>\n",
       "      <td>Mrs</td>\n",
       "      <td>mansi</td>\n",
       "      <td>YES</td>\n",
       "      <td>1.0</td>\n",
       "      <td>Farmer</td>\n",
       "      <td>Public</td>\n",
       "      <td>2</td>\n",
       "      <td>...</td>\n",
       "      <td>93.0</td>\n",
       "      <td>233.0</td>\n",
       "      <td>82.0</td>\n",
       "      <td>58.0</td>\n",
       "      <td>27</td>\n",
       "      <td>7</td>\n",
       "      <td>3600000.0</td>\n",
       "      <td>1300000</td>\n",
       "      <td>2.0</td>\n",
       "      <td>49.135010</td>\n",
       "    </tr>\n",
       "    <tr>\n",
       "      <th>1</th>\n",
       "      <td>2</td>\n",
       "      <td>Bhubaneshwar</td>\n",
       "      <td>Female</td>\n",
       "      <td>Mrs</td>\n",
       "      <td>riya masi</td>\n",
       "      <td>YES</td>\n",
       "      <td>2.0</td>\n",
       "      <td>Farmer</td>\n",
       "      <td>Walk</td>\n",
       "      <td>2</td>\n",
       "      <td>...</td>\n",
       "      <td>56.0</td>\n",
       "      <td>328.0</td>\n",
       "      <td>89.0</td>\n",
       "      <td>68.0</td>\n",
       "      <td>5</td>\n",
       "      <td>6</td>\n",
       "      <td>1600000.0</td>\n",
       "      <td>400000</td>\n",
       "      <td>1.0</td>\n",
       "      <td>51.147880</td>\n",
       "    </tr>\n",
       "    <tr>\n",
       "      <th>2</th>\n",
       "      <td>3</td>\n",
       "      <td>Bhubaneshwar</td>\n",
       "      <td>Female</td>\n",
       "      <td>Mrs</td>\n",
       "      <td>sunita</td>\n",
       "      <td>NO</td>\n",
       "      <td>1.0</td>\n",
       "      <td>Cleaner</td>\n",
       "      <td>Public</td>\n",
       "      <td>2</td>\n",
       "      <td>...</td>\n",
       "      <td>137.0</td>\n",
       "      <td>213.0</td>\n",
       "      <td>77.0</td>\n",
       "      <td>43.0</td>\n",
       "      <td>40</td>\n",
       "      <td>6</td>\n",
       "      <td>3400000.0</td>\n",
       "      <td>900000</td>\n",
       "      <td>1.0</td>\n",
       "      <td>73.224000</td>\n",
       "    </tr>\n",
       "    <tr>\n",
       "      <th>3</th>\n",
       "      <td>4</td>\n",
       "      <td>Bhubaneshwar</td>\n",
       "      <td>Female</td>\n",
       "      <td>Mrs</td>\n",
       "      <td>anjali @ babli</td>\n",
       "      <td>YES</td>\n",
       "      <td>1.0</td>\n",
       "      <td>Driver</td>\n",
       "      <td>Car</td>\n",
       "      <td>2</td>\n",
       "      <td>...</td>\n",
       "      <td>167.0</td>\n",
       "      <td>275.0</td>\n",
       "      <td>64.0</td>\n",
       "      <td>60.0</td>\n",
       "      <td>27</td>\n",
       "      <td>7</td>\n",
       "      <td>700000.0</td>\n",
       "      <td>2300000</td>\n",
       "      <td>1.0</td>\n",
       "      <td>48.779225</td>\n",
       "    </tr>\n",
       "    <tr>\n",
       "      <th>4</th>\n",
       "      <td>5</td>\n",
       "      <td>Bhubaneshwar</td>\n",
       "      <td>Female</td>\n",
       "      <td>Mrs</td>\n",
       "      <td>champa karketta</td>\n",
       "      <td>NO</td>\n",
       "      <td>2.0</td>\n",
       "      <td>Manufacturing</td>\n",
       "      <td>Car</td>\n",
       "      <td>2</td>\n",
       "      <td>...</td>\n",
       "      <td>153.0</td>\n",
       "      <td>331.0</td>\n",
       "      <td>71.0</td>\n",
       "      <td>64.0</td>\n",
       "      <td>32</td>\n",
       "      <td>7</td>\n",
       "      <td>3200000.0</td>\n",
       "      <td>1100000</td>\n",
       "      <td>1.0</td>\n",
       "      <td>87.868800</td>\n",
       "    </tr>\n",
       "  </tbody>\n",
       "</table>\n",
       "<p>5 rows × 28 columns</p>\n",
       "</div>"
      ],
      "text/plain": [
       "   people_ID        Region  Gender Designation             Name Married  \\\n",
       "0          1  Bhubaneshwar  Female         Mrs            mansi     YES   \n",
       "1          2  Bhubaneshwar  Female         Mrs        riya masi     YES   \n",
       "2          3  Bhubaneshwar  Female         Mrs           sunita      NO   \n",
       "3          4  Bhubaneshwar  Female         Mrs   anjali @ babli     YES   \n",
       "4          5  Bhubaneshwar  Female         Mrs  champa karketta      NO   \n",
       "\n",
       "   Children     Occupation Mode_transport  cases/1M  ...    HBB d-dimer  \\\n",
       "0       1.0         Farmer         Public         2  ...   93.0   233.0   \n",
       "1       2.0         Farmer           Walk         2  ...   56.0   328.0   \n",
       "2       1.0        Cleaner         Public         2  ...  137.0   213.0   \n",
       "3       1.0         Driver            Car         2  ...  167.0   275.0   \n",
       "4       2.0  Manufacturing            Car         2  ...  153.0   331.0   \n",
       "\n",
       "   Heart rate  HDL cholesterol Charlson Index Blood Glucose  Insurance  \\\n",
       "0        82.0             58.0             27             7  3600000.0   \n",
       "1        89.0             68.0              5             6  1600000.0   \n",
       "2        77.0             43.0             40             6  3400000.0   \n",
       "3        64.0             60.0             27             7   700000.0   \n",
       "4        71.0             64.0             32             7  3200000.0   \n",
       "\n",
       "    salary  FT/month  Infect_Prob  \n",
       "0  1300000       2.0    49.135010  \n",
       "1   400000       1.0    51.147880  \n",
       "2   900000       1.0    73.224000  \n",
       "3  2300000       1.0    48.779225  \n",
       "4  1100000       1.0    87.868800  \n",
       "\n",
       "[5 rows x 28 columns]"
      ]
     },
     "execution_count": 3,
     "metadata": {},
     "output_type": "execute_result"
    }
   ],
   "source": [
    "data.head()"
   ]
  },
  {
   "cell_type": "code",
   "execution_count": 4,
   "metadata": {},
   "outputs": [
    {
     "data": {
      "text/plain": [
       "people_ID                    0\n",
       "Region                       0\n",
       "Gender                       0\n",
       "Designation                  0\n",
       "Name                        20\n",
       "Married                      0\n",
       "Children                   311\n",
       "Occupation                 747\n",
       "Mode_transport               3\n",
       "cases/1M                     0\n",
       "Deaths/1M                    0\n",
       "comorbidity                226\n",
       "Age                          0\n",
       "Coma score                   0\n",
       "Pulmonary score              0\n",
       "cardiological pressure      97\n",
       "Diuresis                   716\n",
       "Platelets                  924\n",
       "HBB                         16\n",
       "d-dimer                   1114\n",
       "Heart rate                1114\n",
       "HDL cholesterol             35\n",
       "Charlson Index               0\n",
       "Blood Glucose                0\n",
       "Insurance                 1090\n",
       "salary                       0\n",
       "FT/month                   723\n",
       "Infect_Prob                  0\n",
       "dtype: int64"
      ]
     },
     "execution_count": 4,
     "metadata": {},
     "output_type": "execute_result"
    }
   ],
   "source": [
    "data.isnull().sum()"
   ]
  },
  {
   "cell_type": "markdown",
   "metadata": {},
   "source": [
    "Name, Designation are not important"
   ]
  },
  {
   "cell_type": "code",
   "execution_count": 5,
   "metadata": {},
   "outputs": [],
   "source": [
    "data = data.drop([\"Name\", \"Designation\",],axis = 1)\n",
    "data = data.loc[~data.iloc[:,[1,2,3,5,6,9,12,13,]].isnull().any(axis=1)]\n",
    "y = data[\"Infect_Prob\"]\n",
    "data = data.drop([\"Infect_Prob\"], axis = 1)\n",
    "#y = (y >= 50).astype(\"float64\")\n",
    "y /= 100"
   ]
  },
  {
   "cell_type": "code",
   "execution_count": 6,
   "metadata": {},
   "outputs": [],
   "source": [
    "X_train, X_test, y_train, y_test = train_test_split(data.values, y, random_state = 42)"
   ]
  },
  {
   "cell_type": "code",
   "execution_count": 7,
   "metadata": {},
   "outputs": [
    {
     "data": {
      "text/plain": [
       "array([14832, 'Chandigarh', 'Male', 'YES', 1.0, 'Manufacturing', 'Public',\n",
       "       2, 0, 'None', 41, 10, '<100', 'Stage-02', 324.0, 140.0, 80.0,\n",
       "       323.0, 84.0, 45.0, 17, 4, 600000.0, 400000, 1.0], dtype=object)"
      ]
     },
     "execution_count": 7,
     "metadata": {},
     "output_type": "execute_result"
    }
   ],
   "source": [
    "X_train[0]"
   ]
  },
  {
   "cell_type": "code",
   "execution_count": 8,
   "metadata": {},
   "outputs": [],
   "source": [
    "cat_features = [1,2,3,5,6,9,12,13,]"
   ]
  },
  {
   "cell_type": "code",
   "execution_count": 9,
   "metadata": {},
   "outputs": [],
   "source": [
    "clf = ctb.CatBoostRegressor(boosting_type=\"Plain\",loss_function=\"RMSE\",learning_rate=0.01,border_count=254,verbose=0,n_estimators=10000,rsm=0.4,cat_features = cat_features, subsample = 0.6)"
   ]
  },
  {
   "cell_type": "code",
   "execution_count": 10,
   "metadata": {},
   "outputs": [
    {
     "name": "stdout",
     "output_type": "stream",
     "text": [
      "Fitting 5 folds for each of 4 candidates, totalling 20 fits\n",
      "[CV] depth=6 .........................................................\n"
     ]
    },
    {
     "name": "stderr",
     "output_type": "stream",
     "text": [
      "[Parallel(n_jobs=1)]: Using backend SequentialBackend with 1 concurrent workers.\n"
     ]
    },
    {
     "name": "stdout",
     "output_type": "stream",
     "text": [
      "[CV] .......................................... depth=6, total=   1.9s\n",
      "[CV] depth=6 .........................................................\n"
     ]
    },
    {
     "name": "stderr",
     "output_type": "stream",
     "text": [
      "[Parallel(n_jobs=1)]: Done   1 out of   1 | elapsed:    1.9s remaining:    0.0s\n"
     ]
    },
    {
     "name": "stdout",
     "output_type": "stream",
     "text": [
      "[CV] .......................................... depth=6, total=   1.7s\n",
      "[CV] depth=6 .........................................................\n",
      "[CV] .......................................... depth=6, total=   2.2s\n",
      "[CV] depth=6 .........................................................\n",
      "[CV] .......................................... depth=6, total=   1.9s\n",
      "[CV] depth=6 .........................................................\n",
      "[CV] .......................................... depth=6, total=   1.5s\n",
      "[CV] depth=8 .........................................................\n",
      "[CV] .......................................... depth=8, total=   3.2s\n",
      "[CV] depth=8 .........................................................\n",
      "[CV] .......................................... depth=8, total=   2.7s\n",
      "[CV] depth=8 .........................................................\n",
      "[CV] .......................................... depth=8, total=   3.0s\n",
      "[CV] depth=8 .........................................................\n",
      "[CV] .......................................... depth=8, total=   2.0s\n",
      "[CV] depth=8 .........................................................\n",
      "[CV] .......................................... depth=8, total=   2.7s\n",
      "[CV] depth=10 ........................................................\n",
      "[CV] ......................................... depth=10, total=   4.4s\n",
      "[CV] depth=10 ........................................................\n",
      "[CV] ......................................... depth=10, total=   5.5s\n",
      "[CV] depth=10 ........................................................\n",
      "[CV] ......................................... depth=10, total=   5.0s\n",
      "[CV] depth=10 ........................................................\n",
      "[CV] ......................................... depth=10, total=   3.8s\n",
      "[CV] depth=10 ........................................................\n",
      "[CV] ......................................... depth=10, total=   3.7s\n",
      "[CV] depth=12 ........................................................\n",
      "[CV] ......................................... depth=12, total=  15.4s\n",
      "[CV] depth=12 ........................................................\n",
      "[CV] ......................................... depth=12, total=  14.6s\n",
      "[CV] depth=12 ........................................................\n",
      "[CV] ......................................... depth=12, total=  12.2s\n",
      "[CV] depth=12 ........................................................\n",
      "[CV] ......................................... depth=12, total=  13.7s\n",
      "[CV] depth=12 ........................................................\n",
      "[CV] ......................................... depth=12, total=  12.1s\n"
     ]
    },
    {
     "name": "stderr",
     "output_type": "stream",
     "text": [
      "[Parallel(n_jobs=1)]: Done  20 out of  20 | elapsed:  1.9min finished\n"
     ]
    },
    {
     "data": {
      "text/plain": [
       "GridSearchCV(cv=5, error_score=nan,\n",
       "             estimator=<catboost.core.CatBoostRegressor object at 0x7f3f04ac83c8>,\n",
       "             iid='deprecated', n_jobs=None,\n",
       "             param_grid={'depth': [6, 8, 10, 12]}, pre_dispatch='2*n_jobs',\n",
       "             refit=True, return_train_score=False,\n",
       "             scoring='neg_mean_squared_error', verbose=2)"
      ]
     },
     "execution_count": 10,
     "metadata": {},
     "output_type": "execute_result"
    }
   ],
   "source": [
    "params = {\"depth\": [6, 8, 10, 12,],}\n",
    "grid = GridSearchCV(estimator = clf, param_grid = params, cv = 5, verbose = 2,scoring=\"neg_mean_squared_error\")\n",
    "grid.fit(X_train, y_train, eval_set = [(X_test, y_test)], early_stopping_rounds = 10,)"
   ]
  },
  {
   "cell_type": "code",
   "execution_count": 11,
   "metadata": {},
   "outputs": [
    {
     "data": {
      "text/plain": [
       "{'depth': 10}"
      ]
     },
     "execution_count": 11,
     "metadata": {},
     "output_type": "execute_result"
    }
   ],
   "source": [
    "grid.best_params_"
   ]
  },
  {
   "cell_type": "code",
   "execution_count": 12,
   "metadata": {},
   "outputs": [
    {
     "data": {
      "text/plain": [
       "-0.006318172028984102"
      ]
     },
     "execution_count": 12,
     "metadata": {},
     "output_type": "execute_result"
    }
   ],
   "source": [
    "grid.best_score_"
   ]
  },
  {
   "cell_type": "code",
   "execution_count": 13,
   "metadata": {},
   "outputs": [
    {
     "data": {
      "text/plain": [
       "0.00644555916845476"
      ]
     },
     "execution_count": 13,
     "metadata": {},
     "output_type": "execute_result"
    }
   ],
   "source": [
    "mean_squared_error(y_test, grid.best_estimator_.predict(X_test))"
   ]
  },
  {
   "cell_type": "markdown",
   "metadata": {},
   "source": [
    "Now, tuning the regularisation parameter:"
   ]
  },
  {
   "cell_type": "code",
   "execution_count": 14,
   "metadata": {},
   "outputs": [
    {
     "name": "stdout",
     "output_type": "stream",
     "text": [
      "Fitting 5 folds for each of 6 candidates, totalling 30 fits\n",
      "[CV] l2_leaf_reg=0.01 ................................................\n"
     ]
    },
    {
     "name": "stderr",
     "output_type": "stream",
     "text": [
      "[Parallel(n_jobs=1)]: Using backend SequentialBackend with 1 concurrent workers.\n"
     ]
    },
    {
     "name": "stdout",
     "output_type": "stream",
     "text": [
      "[CV] ................................. l2_leaf_reg=0.01, total=   4.1s\n",
      "[CV] l2_leaf_reg=0.01 ................................................\n"
     ]
    },
    {
     "name": "stderr",
     "output_type": "stream",
     "text": [
      "[Parallel(n_jobs=1)]: Done   1 out of   1 | elapsed:    4.1s remaining:    0.0s\n"
     ]
    },
    {
     "name": "stdout",
     "output_type": "stream",
     "text": [
      "[CV] ................................. l2_leaf_reg=0.01, total=   3.0s\n",
      "[CV] l2_leaf_reg=0.01 ................................................\n",
      "[CV] ................................. l2_leaf_reg=0.01, total=   4.1s\n",
      "[CV] l2_leaf_reg=0.01 ................................................\n",
      "[CV] ................................. l2_leaf_reg=0.01, total=   2.6s\n",
      "[CV] l2_leaf_reg=0.01 ................................................\n",
      "[CV] ................................. l2_leaf_reg=0.01, total=   3.6s\n",
      "[CV] l2_leaf_reg=0.1 .................................................\n",
      "[CV] .................................. l2_leaf_reg=0.1, total=   3.0s\n",
      "[CV] l2_leaf_reg=0.1 .................................................\n",
      "[CV] .................................. l2_leaf_reg=0.1, total=   4.4s\n",
      "[CV] l2_leaf_reg=0.1 .................................................\n",
      "[CV] .................................. l2_leaf_reg=0.1, total=   3.8s\n",
      "[CV] l2_leaf_reg=0.1 .................................................\n",
      "[CV] .................................. l2_leaf_reg=0.1, total=   3.1s\n",
      "[CV] l2_leaf_reg=0.1 .................................................\n",
      "[CV] .................................. l2_leaf_reg=0.1, total=   2.8s\n",
      "[CV] l2_leaf_reg=1 ...................................................\n",
      "[CV] .................................... l2_leaf_reg=1, total=   4.2s\n",
      "[CV] l2_leaf_reg=1 ...................................................\n",
      "[CV] .................................... l2_leaf_reg=1, total=   3.8s\n",
      "[CV] l2_leaf_reg=1 ...................................................\n",
      "[CV] .................................... l2_leaf_reg=1, total=   4.1s\n",
      "[CV] l2_leaf_reg=1 ...................................................\n",
      "[CV] .................................... l2_leaf_reg=1, total=   3.7s\n",
      "[CV] l2_leaf_reg=1 ...................................................\n",
      "[CV] .................................... l2_leaf_reg=1, total=   3.7s\n",
      "[CV] l2_leaf_reg=3 ...................................................\n",
      "[CV] .................................... l2_leaf_reg=3, total=   4.4s\n",
      "[CV] l2_leaf_reg=3 ...................................................\n",
      "[CV] .................................... l2_leaf_reg=3, total=   5.8s\n",
      "[CV] l2_leaf_reg=3 ...................................................\n",
      "[CV] .................................... l2_leaf_reg=3, total=   5.0s\n",
      "[CV] l2_leaf_reg=3 ...................................................\n",
      "[CV] .................................... l2_leaf_reg=3, total=   3.6s\n",
      "[CV] l2_leaf_reg=3 ...................................................\n",
      "[CV] .................................... l2_leaf_reg=3, total=   3.5s\n",
      "[CV] l2_leaf_reg=10 ..................................................\n",
      "[CV] ................................... l2_leaf_reg=10, total=   5.6s\n",
      "[CV] l2_leaf_reg=10 ..................................................\n",
      "[CV] ................................... l2_leaf_reg=10, total=   5.7s\n",
      "[CV] l2_leaf_reg=10 ..................................................\n",
      "[CV] ................................... l2_leaf_reg=10, total=   5.0s\n",
      "[CV] l2_leaf_reg=10 ..................................................\n",
      "[CV] ................................... l2_leaf_reg=10, total=   4.4s\n",
      "[CV] l2_leaf_reg=10 ..................................................\n",
      "[CV] ................................... l2_leaf_reg=10, total=   5.9s\n",
      "[CV] l2_leaf_reg=15 ..................................................\n",
      "[CV] ................................... l2_leaf_reg=15, total=   5.5s\n",
      "[CV] l2_leaf_reg=15 ..................................................\n",
      "[CV] ................................... l2_leaf_reg=15, total=   8.1s\n",
      "[CV] l2_leaf_reg=15 ..................................................\n",
      "[CV] ................................... l2_leaf_reg=15, total=   7.1s\n",
      "[CV] l2_leaf_reg=15 ..................................................\n",
      "[CV] ................................... l2_leaf_reg=15, total=   6.0s\n",
      "[CV] l2_leaf_reg=15 ..................................................\n",
      "[CV] ................................... l2_leaf_reg=15, total=   5.1s\n"
     ]
    },
    {
     "name": "stderr",
     "output_type": "stream",
     "text": [
      "[Parallel(n_jobs=1)]: Done  30 out of  30 | elapsed:  2.2min finished\n"
     ]
    },
    {
     "data": {
      "text/plain": [
       "GridSearchCV(cv=5, error_score=nan,\n",
       "             estimator=<catboost.core.CatBoostRegressor object at 0x7f3f0408d940>,\n",
       "             iid='deprecated', n_jobs=None,\n",
       "             param_grid={'l2_leaf_reg': [0.01, 0.1, 1, 3, 10, 15]},\n",
       "             pre_dispatch='2*n_jobs', refit=True, return_train_score=False,\n",
       "             scoring='neg_mean_squared_error', verbose=2)"
      ]
     },
     "execution_count": 14,
     "metadata": {},
     "output_type": "execute_result"
    }
   ],
   "source": [
    "clf = ctb.CatBoostRegressor(boosting_type=\"Plain\", loss_function=\"RMSE\", learning_rate=0.01, border_count=254,\\\n",
    "                            verbose=0, n_estimators=10000, rsm=0.4,\\\n",
    "                            cat_features = cat_features, \\\n",
    "                            subsample = 0.6, depth = 10)\n",
    "\n",
    "params = {\"l2_leaf_reg\": [0.01, 0.1, 1, 3, 10, 15,],}\n",
    "grid = GridSearchCV(estimator = clf, param_grid = params, cv = 5, verbose = 2,scoring=\"neg_mean_squared_error\")\n",
    "grid.fit(X_train, y_train, eval_set = [(X_test, y_test)], early_stopping_rounds = 10,)"
   ]
  },
  {
   "cell_type": "code",
   "execution_count": 15,
   "metadata": {},
   "outputs": [
    {
     "data": {
      "text/plain": [
       "{'l2_leaf_reg': 1}"
      ]
     },
     "execution_count": 15,
     "metadata": {},
     "output_type": "execute_result"
    }
   ],
   "source": [
    "grid.best_params_"
   ]
  },
  {
   "cell_type": "code",
   "execution_count": 16,
   "metadata": {},
   "outputs": [
    {
     "data": {
      "text/plain": [
       "-0.006299534706695709"
      ]
     },
     "execution_count": 16,
     "metadata": {},
     "output_type": "execute_result"
    }
   ],
   "source": [
    "grid.best_score_"
   ]
  },
  {
   "cell_type": "code",
   "execution_count": 17,
   "metadata": {},
   "outputs": [
    {
     "data": {
      "text/plain": [
       "0.006408008840482957"
      ]
     },
     "execution_count": 17,
     "metadata": {},
     "output_type": "execute_result"
    }
   ],
   "source": [
    "mean_squared_error(y_test, grid.best_estimator_.predict(X_test))"
   ]
  },
  {
   "cell_type": "code",
   "execution_count": 18,
   "metadata": {},
   "outputs": [
    {
     "name": "stdout",
     "output_type": "stream",
     "text": [
      "Fitting 5 folds for each of 4 candidates, totalling 20 fits\n",
      "[CV] random_strength=0.1 .............................................\n"
     ]
    },
    {
     "name": "stderr",
     "output_type": "stream",
     "text": [
      "[Parallel(n_jobs=1)]: Using backend SequentialBackend with 1 concurrent workers.\n"
     ]
    },
    {
     "name": "stdout",
     "output_type": "stream",
     "text": [
      "[CV] .............................. random_strength=0.1, total=   3.9s\n",
      "[CV] random_strength=0.1 .............................................\n"
     ]
    },
    {
     "name": "stderr",
     "output_type": "stream",
     "text": [
      "[Parallel(n_jobs=1)]: Done   1 out of   1 | elapsed:    3.9s remaining:    0.0s\n"
     ]
    },
    {
     "name": "stdout",
     "output_type": "stream",
     "text": [
      "[CV] .............................. random_strength=0.1, total=   4.2s\n",
      "[CV] random_strength=0.1 .............................................\n",
      "[CV] .............................. random_strength=0.1, total=   3.4s\n",
      "[CV] random_strength=0.1 .............................................\n",
      "[CV] .............................. random_strength=0.1, total=   4.3s\n",
      "[CV] random_strength=0.1 .............................................\n",
      "[CV] .............................. random_strength=0.1, total=   3.6s\n",
      "[CV] random_strength=0.5 .............................................\n",
      "[CV] .............................. random_strength=0.5, total=   3.8s\n",
      "[CV] random_strength=0.5 .............................................\n",
      "[CV] .............................. random_strength=0.5, total=   4.1s\n",
      "[CV] random_strength=0.5 .............................................\n",
      "[CV] .............................. random_strength=0.5, total=   4.7s\n",
      "[CV] random_strength=0.5 .............................................\n",
      "[CV] .............................. random_strength=0.5, total=   3.8s\n",
      "[CV] random_strength=0.5 .............................................\n",
      "[CV] .............................. random_strength=0.5, total=   4.7s\n",
      "[CV] random_strength=1 ...............................................\n",
      "[CV] ................................ random_strength=1, total=   4.4s\n",
      "[CV] random_strength=1 ...............................................\n",
      "[CV] ................................ random_strength=1, total=   3.9s\n",
      "[CV] random_strength=1 ...............................................\n",
      "[CV] ................................ random_strength=1, total=   4.2s\n",
      "[CV] random_strength=1 ...............................................\n",
      "[CV] ................................ random_strength=1, total=   3.8s\n",
      "[CV] random_strength=1 ...............................................\n",
      "[CV] ................................ random_strength=1, total=   3.6s\n",
      "[CV] random_strength=2 ...............................................\n",
      "[CV] ................................ random_strength=2, total=   3.0s\n",
      "[CV] random_strength=2 ...............................................\n",
      "[CV] ................................ random_strength=2, total=   3.6s\n",
      "[CV] random_strength=2 ...............................................\n",
      "[CV] ................................ random_strength=2, total=   3.4s\n",
      "[CV] random_strength=2 ...............................................\n",
      "[CV] ................................ random_strength=2, total=   3.1s\n",
      "[CV] random_strength=2 ...............................................\n",
      "[CV] ................................ random_strength=2, total=   3.3s\n"
     ]
    },
    {
     "name": "stderr",
     "output_type": "stream",
     "text": [
      "[Parallel(n_jobs=1)]: Done  20 out of  20 | elapsed:  1.3min finished\n"
     ]
    },
    {
     "data": {
      "text/plain": [
       "GridSearchCV(cv=5, error_score=nan,\n",
       "             estimator=<catboost.core.CatBoostRegressor object at 0x7f3f0408def0>,\n",
       "             iid='deprecated', n_jobs=None,\n",
       "             param_grid={'random_strength': [0.1, 0.5, 1, 2]},\n",
       "             pre_dispatch='2*n_jobs', refit=True, return_train_score=False,\n",
       "             scoring='neg_mean_squared_error', verbose=2)"
      ]
     },
     "execution_count": 18,
     "metadata": {},
     "output_type": "execute_result"
    }
   ],
   "source": [
    "clf = ctb.CatBoostRegressor(boosting_type=\"Plain\", loss_function=\"RMSE\", learning_rate=0.01, border_count=254,\\\n",
    "                            verbose=0, n_estimators=10000, rsm=0.4,\\\n",
    "                            cat_features = cat_features, \\\n",
    "                            subsample = 0.6, depth = 10, l2_leaf_reg = 1)\n",
    "\n",
    "params = {\"random_strength\": [0.1,0.5,1,2]}\n",
    "grid = GridSearchCV(estimator = clf, param_grid = params, cv = 5, verbose = 2,scoring=\"neg_mean_squared_error\")\n",
    "grid.fit(X_train, y_train, eval_set = [(X_test, y_test)], early_stopping_rounds = 10,)"
   ]
  },
  {
   "cell_type": "code",
   "execution_count": 19,
   "metadata": {},
   "outputs": [
    {
     "data": {
      "text/plain": [
       "{'random_strength': 1}"
      ]
     },
     "execution_count": 19,
     "metadata": {},
     "output_type": "execute_result"
    }
   ],
   "source": [
    "grid.best_params_"
   ]
  },
  {
   "cell_type": "code",
   "execution_count": 20,
   "metadata": {},
   "outputs": [
    {
     "data": {
      "text/plain": [
       "-0.006299534706695709"
      ]
     },
     "execution_count": 20,
     "metadata": {},
     "output_type": "execute_result"
    }
   ],
   "source": [
    "grid.best_score_"
   ]
  },
  {
   "cell_type": "code",
   "execution_count": 21,
   "metadata": {},
   "outputs": [
    {
     "data": {
      "text/plain": [
       "0.006408008840482957"
      ]
     },
     "execution_count": 21,
     "metadata": {},
     "output_type": "execute_result"
    }
   ],
   "source": [
    "mean_squared_error(y_test, grid.best_estimator_.predict(X_test))"
   ]
  },
  {
   "cell_type": "code",
   "execution_count": 22,
   "metadata": {},
   "outputs": [
    {
     "name": "stdout",
     "output_type": "stream",
     "text": [
      "Fitting 5 folds for each of 6 candidates, totalling 30 fits\n",
      "[CV] rsm=0.1 .........................................................\n"
     ]
    },
    {
     "name": "stderr",
     "output_type": "stream",
     "text": [
      "[Parallel(n_jobs=1)]: Using backend SequentialBackend with 1 concurrent workers.\n"
     ]
    },
    {
     "name": "stdout",
     "output_type": "stream",
     "text": [
      "[CV] .......................................... rsm=0.1, total=   1.8s\n",
      "[CV] rsm=0.1 .........................................................\n"
     ]
    },
    {
     "name": "stderr",
     "output_type": "stream",
     "text": [
      "[Parallel(n_jobs=1)]: Done   1 out of   1 | elapsed:    1.8s remaining:    0.0s\n"
     ]
    },
    {
     "name": "stdout",
     "output_type": "stream",
     "text": [
      "[CV] .......................................... rsm=0.1, total=   2.0s\n",
      "[CV] rsm=0.1 .........................................................\n",
      "[CV] .......................................... rsm=0.1, total=   2.0s\n",
      "[CV] rsm=0.1 .........................................................\n",
      "[CV] .......................................... rsm=0.1, total=   1.9s\n",
      "[CV] rsm=0.1 .........................................................\n",
      "[CV] .......................................... rsm=0.1, total=   2.1s\n",
      "[CV] rsm=0.2 .........................................................\n",
      "[CV] .......................................... rsm=0.2, total=   2.9s\n",
      "[CV] rsm=0.2 .........................................................\n",
      "[CV] .......................................... rsm=0.2, total=   2.7s\n",
      "[CV] rsm=0.2 .........................................................\n",
      "[CV] .......................................... rsm=0.2, total=   2.9s\n",
      "[CV] rsm=0.2 .........................................................\n",
      "[CV] .......................................... rsm=0.2, total=   2.3s\n",
      "[CV] rsm=0.2 .........................................................\n",
      "[CV] .......................................... rsm=0.2, total=   2.9s\n",
      "[CV] rsm=0.4 .........................................................\n",
      "[CV] .......................................... rsm=0.4, total=   4.3s\n",
      "[CV] rsm=0.4 .........................................................\n",
      "[CV] .......................................... rsm=0.4, total=   3.9s\n",
      "[CV] rsm=0.4 .........................................................\n",
      "[CV] .......................................... rsm=0.4, total=   4.1s\n",
      "[CV] rsm=0.4 .........................................................\n",
      "[CV] .......................................... rsm=0.4, total=   3.7s\n",
      "[CV] rsm=0.4 .........................................................\n",
      "[CV] .......................................... rsm=0.4, total=   3.5s\n",
      "[CV] rsm=0.6 .........................................................\n",
      "[CV] .......................................... rsm=0.6, total=   4.6s\n",
      "[CV] rsm=0.6 .........................................................\n",
      "[CV] .......................................... rsm=0.6, total=   6.3s\n",
      "[CV] rsm=0.6 .........................................................\n",
      "[CV] .......................................... rsm=0.6, total=   4.8s\n",
      "[CV] rsm=0.6 .........................................................\n",
      "[CV] .......................................... rsm=0.6, total=   4.6s\n",
      "[CV] rsm=0.6 .........................................................\n",
      "[CV] .......................................... rsm=0.6, total=   4.6s\n",
      "[CV] rsm=0.8 .........................................................\n",
      "[CV] .......................................... rsm=0.8, total=   6.0s\n",
      "[CV] rsm=0.8 .........................................................\n",
      "[CV] .......................................... rsm=0.8, total=   7.4s\n",
      "[CV] rsm=0.8 .........................................................\n",
      "[CV] .......................................... rsm=0.8, total=   7.7s\n",
      "[CV] rsm=0.8 .........................................................\n",
      "[CV] .......................................... rsm=0.8, total=   6.1s\n",
      "[CV] rsm=0.8 .........................................................\n",
      "[CV] .......................................... rsm=0.8, total=   6.7s\n",
      "[CV] rsm=1 ...........................................................\n",
      "[CV] ............................................ rsm=1, total=   8.8s\n",
      "[CV] rsm=1 ...........................................................\n",
      "[CV] ............................................ rsm=1, total=   9.0s\n",
      "[CV] rsm=1 ...........................................................\n",
      "[CV] ............................................ rsm=1, total=   8.8s\n",
      "[CV] rsm=1 ...........................................................\n",
      "[CV] ............................................ rsm=1, total=   8.5s\n",
      "[CV] rsm=1 ...........................................................\n",
      "[CV] ............................................ rsm=1, total=   6.6s\n"
     ]
    },
    {
     "name": "stderr",
     "output_type": "stream",
     "text": [
      "[Parallel(n_jobs=1)]: Done  30 out of  30 | elapsed:  2.4min finished\n"
     ]
    },
    {
     "data": {
      "text/plain": [
       "GridSearchCV(cv=5, error_score=nan,\n",
       "             estimator=<catboost.core.CatBoostRegressor object at 0x7f3f04093080>,\n",
       "             iid='deprecated', n_jobs=None,\n",
       "             param_grid={'rsm': [0.1, 0.2, 0.4, 0.6, 0.8, 1]},\n",
       "             pre_dispatch='2*n_jobs', refit=True, return_train_score=False,\n",
       "             scoring='neg_mean_squared_error', verbose=2)"
      ]
     },
     "execution_count": 22,
     "metadata": {},
     "output_type": "execute_result"
    }
   ],
   "source": [
    "clf = ctb.CatBoostRegressor(boosting_type=\"Plain\", loss_function=\"RMSE\", learning_rate=0.01, border_count=254,\\\n",
    "                            verbose=0, n_estimators=10000,\\\n",
    "                            cat_features = cat_features, \\\n",
    "                            subsample = 0.6, depth = 10, l2_leaf_reg = 1)\n",
    "\n",
    "params = {\"rsm\": [0.1,0.2,0.4,0.6,0.8,1]}\n",
    "grid = GridSearchCV(estimator = clf, param_grid = params, cv = 5, verbose = 2,scoring=\"neg_mean_squared_error\")\n",
    "grid.fit(X_train, y_train, eval_set = [(X_test, y_test)], early_stopping_rounds = 10,)"
   ]
  },
  {
   "cell_type": "code",
   "execution_count": 23,
   "metadata": {},
   "outputs": [
    {
     "data": {
      "text/plain": [
       "{'rsm': 1}"
      ]
     },
     "execution_count": 23,
     "metadata": {},
     "output_type": "execute_result"
    }
   ],
   "source": [
    "grid.best_params_"
   ]
  },
  {
   "cell_type": "code",
   "execution_count": 24,
   "metadata": {},
   "outputs": [
    {
     "data": {
      "text/plain": [
       "-0.006295227289295946"
      ]
     },
     "execution_count": 24,
     "metadata": {},
     "output_type": "execute_result"
    }
   ],
   "source": [
    "grid.best_score_"
   ]
  },
  {
   "cell_type": "code",
   "execution_count": 25,
   "metadata": {},
   "outputs": [
    {
     "data": {
      "text/plain": [
       "0.006424068326381498"
      ]
     },
     "execution_count": 25,
     "metadata": {},
     "output_type": "execute_result"
    }
   ],
   "source": [
    "mean_squared_error(y_test, grid.best_estimator_.predict(X_test))"
   ]
  },
  {
   "cell_type": "code",
   "execution_count": 26,
   "metadata": {},
   "outputs": [
    {
     "name": "stdout",
     "output_type": "stream",
     "text": [
      "Fitting 5 folds for each of 6 candidates, totalling 30 fits\n",
      "[CV] subsample=0.1 ...................................................\n"
     ]
    },
    {
     "name": "stderr",
     "output_type": "stream",
     "text": [
      "[Parallel(n_jobs=1)]: Using backend SequentialBackend with 1 concurrent workers.\n"
     ]
    },
    {
     "name": "stdout",
     "output_type": "stream",
     "text": [
      "[CV] .................................... subsample=0.1, total=   9.4s\n",
      "[CV] subsample=0.1 ...................................................\n"
     ]
    },
    {
     "name": "stderr",
     "output_type": "stream",
     "text": [
      "[Parallel(n_jobs=1)]: Done   1 out of   1 | elapsed:    9.5s remaining:    0.0s\n"
     ]
    },
    {
     "name": "stdout",
     "output_type": "stream",
     "text": [
      "[CV] .................................... subsample=0.1, total=   7.5s\n",
      "[CV] subsample=0.1 ...................................................\n",
      "[CV] .................................... subsample=0.1, total=  10.2s\n",
      "[CV] subsample=0.1 ...................................................\n",
      "[CV] .................................... subsample=0.1, total=   8.4s\n",
      "[CV] subsample=0.1 ...................................................\n",
      "[CV] .................................... subsample=0.1, total=   7.3s\n",
      "[CV] subsample=0.2 ...................................................\n",
      "[CV] .................................... subsample=0.2, total=   7.2s\n",
      "[CV] subsample=0.2 ...................................................\n",
      "[CV] .................................... subsample=0.2, total=   6.4s\n",
      "[CV] subsample=0.2 ...................................................\n",
      "[CV] .................................... subsample=0.2, total=   6.7s\n",
      "[CV] subsample=0.2 ...................................................\n",
      "[CV] .................................... subsample=0.2, total=   7.4s\n",
      "[CV] subsample=0.2 ...................................................\n",
      "[CV] .................................... subsample=0.2, total=   7.1s\n",
      "[CV] subsample=0.4 ...................................................\n",
      "[CV] .................................... subsample=0.4, total=   6.8s\n",
      "[CV] subsample=0.4 ...................................................\n",
      "[CV] .................................... subsample=0.4, total=   7.4s\n",
      "[CV] subsample=0.4 ...................................................\n",
      "[CV] .................................... subsample=0.4, total=   7.8s\n",
      "[CV] subsample=0.4 ...................................................\n",
      "[CV] .................................... subsample=0.4, total=   9.1s\n",
      "[CV] subsample=0.4 ...................................................\n",
      "[CV] .................................... subsample=0.4, total=   6.0s\n",
      "[CV] subsample=0.6 ...................................................\n",
      "[CV] .................................... subsample=0.6, total=   8.7s\n",
      "[CV] subsample=0.6 ...................................................\n",
      "[CV] .................................... subsample=0.6, total=   9.1s\n",
      "[CV] subsample=0.6 ...................................................\n",
      "[CV] .................................... subsample=0.6, total=   8.8s\n",
      "[CV] subsample=0.6 ...................................................\n",
      "[CV] .................................... subsample=0.6, total=   8.2s\n",
      "[CV] subsample=0.6 ...................................................\n",
      "[CV] .................................... subsample=0.6, total=   6.3s\n",
      "[CV] subsample=0.8 ...................................................\n",
      "[CV] .................................... subsample=0.8, total=   8.6s\n",
      "[CV] subsample=0.8 ...................................................\n",
      "[CV] .................................... subsample=0.8, total=   9.3s\n",
      "[CV] subsample=0.8 ...................................................\n",
      "[CV] .................................... subsample=0.8, total=   8.3s\n",
      "[CV] subsample=0.8 ...................................................\n",
      "[CV] .................................... subsample=0.8, total=   7.8s\n",
      "[CV] subsample=0.8 ...................................................\n",
      "[CV] .................................... subsample=0.8, total=   6.9s\n",
      "[CV] subsample=1 .....................................................\n",
      "[CV] ...................................... subsample=1, total=   9.5s\n",
      "[CV] subsample=1 .....................................................\n",
      "[CV] ...................................... subsample=1, total=   8.1s\n",
      "[CV] subsample=1 .....................................................\n",
      "[CV] ...................................... subsample=1, total=   7.4s\n",
      "[CV] subsample=1 .....................................................\n",
      "[CV] ...................................... subsample=1, total=   8.2s\n",
      "[CV] subsample=1 .....................................................\n",
      "[CV] ...................................... subsample=1, total=   8.6s\n"
     ]
    },
    {
     "name": "stderr",
     "output_type": "stream",
     "text": [
      "[Parallel(n_jobs=1)]: Done  30 out of  30 | elapsed:  4.0min finished\n"
     ]
    },
    {
     "data": {
      "text/plain": [
       "GridSearchCV(cv=5, error_score=nan,\n",
       "             estimator=<catboost.core.CatBoostRegressor object at 0x7f3f04093a58>,\n",
       "             iid='deprecated', n_jobs=None,\n",
       "             param_grid={'subsample': [0.1, 0.2, 0.4, 0.6, 0.8, 1]},\n",
       "             pre_dispatch='2*n_jobs', refit=True, return_train_score=False,\n",
       "             scoring='neg_mean_squared_error', verbose=2)"
      ]
     },
     "execution_count": 26,
     "metadata": {},
     "output_type": "execute_result"
    }
   ],
   "source": [
    "clf = ctb.CatBoostRegressor(boosting_type=\"Plain\", loss_function=\"RMSE\", learning_rate=0.01, border_count=254,\\\n",
    "                            verbose=0, n_estimators=10000,\\\n",
    "                            cat_features = cat_features, \\\n",
    "                            depth = 10, l2_leaf_reg = 1)\n",
    "\n",
    "params = {\"subsample\": [0.1,0.2,0.4,0.6,0.8,1]}\n",
    "grid = GridSearchCV(estimator = clf, param_grid = params, cv = 5, verbose = 2,scoring=\"neg_mean_squared_error\")\n",
    "grid.fit(X_train, y_train, eval_set = [(X_test, y_test)], early_stopping_rounds = 10,)"
   ]
  },
  {
   "cell_type": "code",
   "execution_count": 27,
   "metadata": {},
   "outputs": [
    {
     "data": {
      "text/plain": [
       "{'subsample': 0.6}"
      ]
     },
     "execution_count": 27,
     "metadata": {},
     "output_type": "execute_result"
    }
   ],
   "source": [
    "grid.best_params_"
   ]
  },
  {
   "cell_type": "code",
   "execution_count": 28,
   "metadata": {},
   "outputs": [
    {
     "data": {
      "text/plain": [
       "-0.006295227289295946"
      ]
     },
     "execution_count": 28,
     "metadata": {},
     "output_type": "execute_result"
    }
   ],
   "source": [
    "grid.best_score_"
   ]
  },
  {
   "cell_type": "code",
   "execution_count": 29,
   "metadata": {},
   "outputs": [
    {
     "data": {
      "text/plain": [
       "0.006424068326381498"
      ]
     },
     "execution_count": 29,
     "metadata": {},
     "output_type": "execute_result"
    }
   ],
   "source": [
    "mean_squared_error(y_test, grid.best_estimator_.predict(X_test))"
   ]
  },
  {
   "cell_type": "code",
   "execution_count": null,
   "metadata": {},
   "outputs": [],
   "source": []
  }
 ],
 "metadata": {
  "kernelspec": {
   "display_name": "Python 3",
   "language": "python",
   "name": "python3"
  },
  "language_info": {
   "codemirror_mode": {
    "name": "ipython",
    "version": 3
   },
   "file_extension": ".py",
   "mimetype": "text/x-python",
   "name": "python",
   "nbconvert_exporter": "python",
   "pygments_lexer": "ipython3",
   "version": "3.7.3"
  }
 },
 "nbformat": 4,
 "nbformat_minor": 4
}
