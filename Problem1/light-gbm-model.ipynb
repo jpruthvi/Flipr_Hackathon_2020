{
 "cells": [
  {
   "cell_type": "code",
   "execution_count": 1,
   "metadata": {
    "_cell_guid": "b1076dfc-b9ad-4769-8c92-a6c4dae69d19",
    "_uuid": "8f2839f25d086af736a60e9eeb907d3b93b6e0e5"
   },
   "outputs": [],
   "source": [
    "import numpy as np\n",
    "import pandas as pd\n",
    "import lightgbm as lgb\n",
    "from sklearn.model_selection import GridSearchCV,train_test_split,RandomizedSearchCV\n",
    "from sklearn.metrics import f1_score, mean_squared_error, log_loss\n",
    "from sklearn.preprocessing import LabelEncoder"
   ]
  },
  {
   "cell_type": "code",
   "execution_count": 2,
   "metadata": {
    "_cell_guid": "79c7e3d0-c299-4dcb-8224-4455121ee9b0",
    "_uuid": "d629ff2d2480ee46fbb7e2d37f6b5fab8052498a"
   },
   "outputs": [],
   "source": [
    "data = pd.read_excel(\"/usr/input/flipr-hackathon-dataset/Train_dataset.xlsx\")"
   ]
  },
  {
   "cell_type": "code",
   "execution_count": 3,
   "metadata": {},
   "outputs": [],
   "source": [
    "data = data.drop([\"Name\", \"Designation\",],axis = 1)\n",
    "data = data.loc[~data.iloc[:,[1,2,3,5,6,9,12,13,]].isnull().any(axis=1)]\n",
    "y = data[\"Infect_Prob\"]\n",
    "data = data.drop([\"Infect_Prob\"], axis = 1)\n",
    "#y = (y >= 50).astype(\"float64\")\n",
    "y /= 100"
   ]
  },
  {
   "cell_type": "code",
   "execution_count": 4,
   "metadata": {},
   "outputs": [],
   "source": [
    "cat_features = [1,2,3,5,6,9,12,13,]"
   ]
  },
  {
   "cell_type": "code",
   "execution_count": 5,
   "metadata": {},
   "outputs": [],
   "source": [
    "for i in cat_features:\n",
    "    le = LabelEncoder()\n",
    "    data.iloc[:,i] = le.fit_transform(data.iloc[:,i])"
   ]
  },
  {
   "cell_type": "code",
   "execution_count": 6,
   "metadata": {},
   "outputs": [],
   "source": [
    "X_train, X_test, y_train, y_test = train_test_split(data.values, y, random_state = 42)"
   ]
  },
  {
   "cell_type": "markdown",
   "metadata": {},
   "source": [
    "param = {\"boosting_type\":\"gbdt\",\"objective\":\"regression\",\"learning_rate\":0.001,\"bagging_freq\":1,\"colsample_bytree\":0.8, \\\n",
    "         \"min_child_weight\":10,\"bagging_fraction\":0.6,\"max_bin\":1000,\"max_depth\":4,\"scale_pos_weight\":1, \\\n",
    "         \"lambda_l1\":0.1475,\"lambda_l2\":0.05185,\"min_gain_to_split\":0.08,\"metric\": \"mse\", \"n_threads\" : 3,  \\\n",
    "         \"n_estimators\": 99999, \"verbose\": 0, \"early_stopping_rounds\" : 20}"
   ]
  },
  {
   "cell_type": "code",
   "execution_count": 7,
   "metadata": {},
   "outputs": [],
   "source": [
    "train_data = lgb.Dataset(X_train, label = y_train, categorical_feature=cat_features)\n",
    "val_data = lgb.Dataset(X_test, label = y_test, categorical_feature=cat_features)"
   ]
  },
  {
   "cell_type": "code",
   "execution_count": 8,
   "metadata": {},
   "outputs": [
    {
     "name": "stdout",
     "output_type": "stream",
     "text": [
      "Fitting 5 folds for each of 16 candidates, totalling 80 fits\n",
      "[CV] depth=2, num_leaves=2 ...........................................\n"
     ]
    },
    {
     "name": "stderr",
     "output_type": "stream",
     "text": [
      "[Parallel(n_jobs=1)]: Using backend SequentialBackend with 1 concurrent workers.\n",
      "/opt/conda/lib/python3.6/site-packages/lightgbm/basic.py:1295: UserWarning: categorical_feature in Dataset is overridden.\n",
      "New categorical_feature is [1, 2, 3, 5, 6, 9, 12, 13]\n",
      "  'New categorical_feature is {}'.format(sorted(list(categorical_feature))))\n"
     ]
    },
    {
     "name": "stdout",
     "output_type": "stream",
     "text": [
      "[CV] ............................ depth=2, num_leaves=2, total=   0.4s\n",
      "[CV] depth=2, num_leaves=2 ...........................................\n"
     ]
    },
    {
     "name": "stderr",
     "output_type": "stream",
     "text": [
      "[Parallel(n_jobs=1)]: Done   1 out of   1 | elapsed:    0.4s remaining:    0.0s\n",
      "/opt/conda/lib/python3.6/site-packages/lightgbm/basic.py:1295: UserWarning: categorical_feature in Dataset is overridden.\n",
      "New categorical_feature is [1, 2, 3, 5, 6, 9, 12, 13]\n",
      "  'New categorical_feature is {}'.format(sorted(list(categorical_feature))))\n"
     ]
    },
    {
     "name": "stdout",
     "output_type": "stream",
     "text": [
      "[CV] ............................ depth=2, num_leaves=2, total=   0.4s\n",
      "[CV] depth=2, num_leaves=2 ...........................................\n"
     ]
    },
    {
     "name": "stderr",
     "output_type": "stream",
     "text": [
      "/opt/conda/lib/python3.6/site-packages/lightgbm/basic.py:1295: UserWarning: categorical_feature in Dataset is overridden.\n",
      "New categorical_feature is [1, 2, 3, 5, 6, 9, 12, 13]\n",
      "  'New categorical_feature is {}'.format(sorted(list(categorical_feature))))\n"
     ]
    },
    {
     "name": "stdout",
     "output_type": "stream",
     "text": [
      "[CV] ............................ depth=2, num_leaves=2, total=   0.4s\n",
      "[CV] depth=2, num_leaves=2 ...........................................\n"
     ]
    },
    {
     "name": "stderr",
     "output_type": "stream",
     "text": [
      "/opt/conda/lib/python3.6/site-packages/lightgbm/basic.py:1295: UserWarning: categorical_feature in Dataset is overridden.\n",
      "New categorical_feature is [1, 2, 3, 5, 6, 9, 12, 13]\n",
      "  'New categorical_feature is {}'.format(sorted(list(categorical_feature))))\n"
     ]
    },
    {
     "name": "stdout",
     "output_type": "stream",
     "text": [
      "[CV] ............................ depth=2, num_leaves=2, total=   0.5s\n",
      "[CV] depth=2, num_leaves=2 ...........................................\n"
     ]
    },
    {
     "name": "stderr",
     "output_type": "stream",
     "text": [
      "/opt/conda/lib/python3.6/site-packages/lightgbm/basic.py:1295: UserWarning: categorical_feature in Dataset is overridden.\n",
      "New categorical_feature is [1, 2, 3, 5, 6, 9, 12, 13]\n",
      "  'New categorical_feature is {}'.format(sorted(list(categorical_feature))))\n"
     ]
    },
    {
     "name": "stdout",
     "output_type": "stream",
     "text": [
      "[CV] ............................ depth=2, num_leaves=2, total=   0.5s\n",
      "[CV] depth=2, num_leaves=5 ...........................................\n"
     ]
    },
    {
     "name": "stderr",
     "output_type": "stream",
     "text": [
      "/opt/conda/lib/python3.6/site-packages/lightgbm/basic.py:1295: UserWarning: categorical_feature in Dataset is overridden.\n",
      "New categorical_feature is [1, 2, 3, 5, 6, 9, 12, 13]\n",
      "  'New categorical_feature is {}'.format(sorted(list(categorical_feature))))\n"
     ]
    },
    {
     "name": "stdout",
     "output_type": "stream",
     "text": [
      "[CV] ............................ depth=2, num_leaves=5, total=   0.3s\n",
      "[CV] depth=2, num_leaves=5 ...........................................\n"
     ]
    },
    {
     "name": "stderr",
     "output_type": "stream",
     "text": [
      "/opt/conda/lib/python3.6/site-packages/lightgbm/basic.py:1295: UserWarning: categorical_feature in Dataset is overridden.\n",
      "New categorical_feature is [1, 2, 3, 5, 6, 9, 12, 13]\n",
      "  'New categorical_feature is {}'.format(sorted(list(categorical_feature))))\n"
     ]
    },
    {
     "name": "stdout",
     "output_type": "stream",
     "text": [
      "[CV] ............................ depth=2, num_leaves=5, total=   0.3s\n",
      "[CV] depth=2, num_leaves=5 ...........................................\n"
     ]
    },
    {
     "name": "stderr",
     "output_type": "stream",
     "text": [
      "/opt/conda/lib/python3.6/site-packages/lightgbm/basic.py:1295: UserWarning: categorical_feature in Dataset is overridden.\n",
      "New categorical_feature is [1, 2, 3, 5, 6, 9, 12, 13]\n",
      "  'New categorical_feature is {}'.format(sorted(list(categorical_feature))))\n"
     ]
    },
    {
     "name": "stdout",
     "output_type": "stream",
     "text": [
      "[CV] ............................ depth=2, num_leaves=5, total=   0.4s\n",
      "[CV] depth=2, num_leaves=5 ...........................................\n"
     ]
    },
    {
     "name": "stderr",
     "output_type": "stream",
     "text": [
      "/opt/conda/lib/python3.6/site-packages/lightgbm/basic.py:1295: UserWarning: categorical_feature in Dataset is overridden.\n",
      "New categorical_feature is [1, 2, 3, 5, 6, 9, 12, 13]\n",
      "  'New categorical_feature is {}'.format(sorted(list(categorical_feature))))\n"
     ]
    },
    {
     "name": "stdout",
     "output_type": "stream",
     "text": [
      "[CV] ............................ depth=2, num_leaves=5, total=   0.3s\n",
      "[CV] depth=2, num_leaves=5 ...........................................\n"
     ]
    },
    {
     "name": "stderr",
     "output_type": "stream",
     "text": [
      "/opt/conda/lib/python3.6/site-packages/lightgbm/basic.py:1295: UserWarning: categorical_feature in Dataset is overridden.\n",
      "New categorical_feature is [1, 2, 3, 5, 6, 9, 12, 13]\n",
      "  'New categorical_feature is {}'.format(sorted(list(categorical_feature))))\n"
     ]
    },
    {
     "name": "stdout",
     "output_type": "stream",
     "text": [
      "[CV] ............................ depth=2, num_leaves=5, total=   0.3s\n",
      "[CV] depth=2, num_leaves=10 ..........................................\n"
     ]
    },
    {
     "name": "stderr",
     "output_type": "stream",
     "text": [
      "/opt/conda/lib/python3.6/site-packages/lightgbm/basic.py:1295: UserWarning: categorical_feature in Dataset is overridden.\n",
      "New categorical_feature is [1, 2, 3, 5, 6, 9, 12, 13]\n",
      "  'New categorical_feature is {}'.format(sorted(list(categorical_feature))))\n"
     ]
    },
    {
     "name": "stdout",
     "output_type": "stream",
     "text": [
      "[CV] ........................... depth=2, num_leaves=10, total=   0.4s\n",
      "[CV] depth=2, num_leaves=10 ..........................................\n"
     ]
    },
    {
     "name": "stderr",
     "output_type": "stream",
     "text": [
      "/opt/conda/lib/python3.6/site-packages/lightgbm/basic.py:1295: UserWarning: categorical_feature in Dataset is overridden.\n",
      "New categorical_feature is [1, 2, 3, 5, 6, 9, 12, 13]\n",
      "  'New categorical_feature is {}'.format(sorted(list(categorical_feature))))\n"
     ]
    },
    {
     "name": "stdout",
     "output_type": "stream",
     "text": [
      "[CV] ........................... depth=2, num_leaves=10, total=   0.5s\n",
      "[CV] depth=2, num_leaves=10 ..........................................\n"
     ]
    },
    {
     "name": "stderr",
     "output_type": "stream",
     "text": [
      "/opt/conda/lib/python3.6/site-packages/lightgbm/basic.py:1295: UserWarning: categorical_feature in Dataset is overridden.\n",
      "New categorical_feature is [1, 2, 3, 5, 6, 9, 12, 13]\n",
      "  'New categorical_feature is {}'.format(sorted(list(categorical_feature))))\n"
     ]
    },
    {
     "name": "stdout",
     "output_type": "stream",
     "text": [
      "[CV] ........................... depth=2, num_leaves=10, total=   0.5s\n",
      "[CV] depth=2, num_leaves=10 ..........................................\n"
     ]
    },
    {
     "name": "stderr",
     "output_type": "stream",
     "text": [
      "/opt/conda/lib/python3.6/site-packages/lightgbm/basic.py:1295: UserWarning: categorical_feature in Dataset is overridden.\n",
      "New categorical_feature is [1, 2, 3, 5, 6, 9, 12, 13]\n",
      "  'New categorical_feature is {}'.format(sorted(list(categorical_feature))))\n"
     ]
    },
    {
     "name": "stdout",
     "output_type": "stream",
     "text": [
      "[CV] ........................... depth=2, num_leaves=10, total=   0.4s\n",
      "[CV] depth=2, num_leaves=10 ..........................................\n"
     ]
    },
    {
     "name": "stderr",
     "output_type": "stream",
     "text": [
      "/opt/conda/lib/python3.6/site-packages/lightgbm/basic.py:1295: UserWarning: categorical_feature in Dataset is overridden.\n",
      "New categorical_feature is [1, 2, 3, 5, 6, 9, 12, 13]\n",
      "  'New categorical_feature is {}'.format(sorted(list(categorical_feature))))\n"
     ]
    },
    {
     "name": "stdout",
     "output_type": "stream",
     "text": [
      "[CV] ........................... depth=2, num_leaves=10, total=   0.4s\n",
      "[CV] depth=2, num_leaves=20 ..........................................\n"
     ]
    },
    {
     "name": "stderr",
     "output_type": "stream",
     "text": [
      "/opt/conda/lib/python3.6/site-packages/lightgbm/basic.py:1295: UserWarning: categorical_feature in Dataset is overridden.\n",
      "New categorical_feature is [1, 2, 3, 5, 6, 9, 12, 13]\n",
      "  'New categorical_feature is {}'.format(sorted(list(categorical_feature))))\n"
     ]
    },
    {
     "name": "stdout",
     "output_type": "stream",
     "text": [
      "[CV] ........................... depth=2, num_leaves=20, total=   0.5s\n",
      "[CV] depth=2, num_leaves=20 ..........................................\n"
     ]
    },
    {
     "name": "stderr",
     "output_type": "stream",
     "text": [
      "/opt/conda/lib/python3.6/site-packages/lightgbm/basic.py:1295: UserWarning: categorical_feature in Dataset is overridden.\n",
      "New categorical_feature is [1, 2, 3, 5, 6, 9, 12, 13]\n",
      "  'New categorical_feature is {}'.format(sorted(list(categorical_feature))))\n"
     ]
    },
    {
     "name": "stdout",
     "output_type": "stream",
     "text": [
      "[CV] ........................... depth=2, num_leaves=20, total=   0.6s\n",
      "[CV] depth=2, num_leaves=20 ..........................................\n"
     ]
    },
    {
     "name": "stderr",
     "output_type": "stream",
     "text": [
      "/opt/conda/lib/python3.6/site-packages/lightgbm/basic.py:1295: UserWarning: categorical_feature in Dataset is overridden.\n",
      "New categorical_feature is [1, 2, 3, 5, 6, 9, 12, 13]\n",
      "  'New categorical_feature is {}'.format(sorted(list(categorical_feature))))\n"
     ]
    },
    {
     "name": "stdout",
     "output_type": "stream",
     "text": [
      "[CV] ........................... depth=2, num_leaves=20, total=   0.5s\n",
      "[CV] depth=2, num_leaves=20 ..........................................\n"
     ]
    },
    {
     "name": "stderr",
     "output_type": "stream",
     "text": [
      "/opt/conda/lib/python3.6/site-packages/lightgbm/basic.py:1295: UserWarning: categorical_feature in Dataset is overridden.\n",
      "New categorical_feature is [1, 2, 3, 5, 6, 9, 12, 13]\n",
      "  'New categorical_feature is {}'.format(sorted(list(categorical_feature))))\n"
     ]
    },
    {
     "name": "stdout",
     "output_type": "stream",
     "text": [
      "[CV] ........................... depth=2, num_leaves=20, total=   0.4s\n",
      "[CV] depth=2, num_leaves=20 ..........................................\n"
     ]
    },
    {
     "name": "stderr",
     "output_type": "stream",
     "text": [
      "/opt/conda/lib/python3.6/site-packages/lightgbm/basic.py:1295: UserWarning: categorical_feature in Dataset is overridden.\n",
      "New categorical_feature is [1, 2, 3, 5, 6, 9, 12, 13]\n",
      "  'New categorical_feature is {}'.format(sorted(list(categorical_feature))))\n"
     ]
    },
    {
     "name": "stdout",
     "output_type": "stream",
     "text": [
      "[CV] ........................... depth=2, num_leaves=20, total=   0.4s\n",
      "[CV] depth=4, num_leaves=2 ...........................................\n"
     ]
    },
    {
     "name": "stderr",
     "output_type": "stream",
     "text": [
      "/opt/conda/lib/python3.6/site-packages/lightgbm/basic.py:1295: UserWarning: categorical_feature in Dataset is overridden.\n",
      "New categorical_feature is [1, 2, 3, 5, 6, 9, 12, 13]\n",
      "  'New categorical_feature is {}'.format(sorted(list(categorical_feature))))\n"
     ]
    },
    {
     "name": "stdout",
     "output_type": "stream",
     "text": [
      "[CV] ............................ depth=4, num_leaves=2, total=   0.4s\n",
      "[CV] depth=4, num_leaves=2 ...........................................\n"
     ]
    },
    {
     "name": "stderr",
     "output_type": "stream",
     "text": [
      "/opt/conda/lib/python3.6/site-packages/lightgbm/basic.py:1295: UserWarning: categorical_feature in Dataset is overridden.\n",
      "New categorical_feature is [1, 2, 3, 5, 6, 9, 12, 13]\n",
      "  'New categorical_feature is {}'.format(sorted(list(categorical_feature))))\n"
     ]
    },
    {
     "name": "stdout",
     "output_type": "stream",
     "text": [
      "[CV] ............................ depth=4, num_leaves=2, total=   0.5s\n",
      "[CV] depth=4, num_leaves=2 ...........................................\n"
     ]
    },
    {
     "name": "stderr",
     "output_type": "stream",
     "text": [
      "/opt/conda/lib/python3.6/site-packages/lightgbm/basic.py:1295: UserWarning: categorical_feature in Dataset is overridden.\n",
      "New categorical_feature is [1, 2, 3, 5, 6, 9, 12, 13]\n",
      "  'New categorical_feature is {}'.format(sorted(list(categorical_feature))))\n"
     ]
    },
    {
     "name": "stdout",
     "output_type": "stream",
     "text": [
      "[CV] ............................ depth=4, num_leaves=2, total=   0.4s\n",
      "[CV] depth=4, num_leaves=2 ...........................................\n"
     ]
    },
    {
     "name": "stderr",
     "output_type": "stream",
     "text": [
      "/opt/conda/lib/python3.6/site-packages/lightgbm/basic.py:1295: UserWarning: categorical_feature in Dataset is overridden.\n",
      "New categorical_feature is [1, 2, 3, 5, 6, 9, 12, 13]\n",
      "  'New categorical_feature is {}'.format(sorted(list(categorical_feature))))\n"
     ]
    },
    {
     "name": "stdout",
     "output_type": "stream",
     "text": [
      "[CV] ............................ depth=4, num_leaves=2, total=   0.5s\n",
      "[CV] depth=4, num_leaves=2 ...........................................\n"
     ]
    },
    {
     "name": "stderr",
     "output_type": "stream",
     "text": [
      "/opt/conda/lib/python3.6/site-packages/lightgbm/basic.py:1295: UserWarning: categorical_feature in Dataset is overridden.\n",
      "New categorical_feature is [1, 2, 3, 5, 6, 9, 12, 13]\n",
      "  'New categorical_feature is {}'.format(sorted(list(categorical_feature))))\n"
     ]
    },
    {
     "name": "stdout",
     "output_type": "stream",
     "text": [
      "[CV] ............................ depth=4, num_leaves=2, total=   0.5s\n",
      "[CV] depth=4, num_leaves=5 ...........................................\n"
     ]
    },
    {
     "name": "stderr",
     "output_type": "stream",
     "text": [
      "/opt/conda/lib/python3.6/site-packages/lightgbm/basic.py:1295: UserWarning: categorical_feature in Dataset is overridden.\n",
      "New categorical_feature is [1, 2, 3, 5, 6, 9, 12, 13]\n",
      "  'New categorical_feature is {}'.format(sorted(list(categorical_feature))))\n"
     ]
    },
    {
     "name": "stdout",
     "output_type": "stream",
     "text": [
      "[CV] ............................ depth=4, num_leaves=5, total=   0.3s\n",
      "[CV] depth=4, num_leaves=5 ...........................................\n"
     ]
    },
    {
     "name": "stderr",
     "output_type": "stream",
     "text": [
      "/opt/conda/lib/python3.6/site-packages/lightgbm/basic.py:1295: UserWarning: categorical_feature in Dataset is overridden.\n",
      "New categorical_feature is [1, 2, 3, 5, 6, 9, 12, 13]\n",
      "  'New categorical_feature is {}'.format(sorted(list(categorical_feature))))\n"
     ]
    },
    {
     "name": "stdout",
     "output_type": "stream",
     "text": [
      "[CV] ............................ depth=4, num_leaves=5, total=   0.3s\n",
      "[CV] depth=4, num_leaves=5 ...........................................\n"
     ]
    },
    {
     "name": "stderr",
     "output_type": "stream",
     "text": [
      "/opt/conda/lib/python3.6/site-packages/lightgbm/basic.py:1295: UserWarning: categorical_feature in Dataset is overridden.\n",
      "New categorical_feature is [1, 2, 3, 5, 6, 9, 12, 13]\n",
      "  'New categorical_feature is {}'.format(sorted(list(categorical_feature))))\n"
     ]
    },
    {
     "name": "stdout",
     "output_type": "stream",
     "text": [
      "[CV] ............................ depth=4, num_leaves=5, total=   0.4s\n",
      "[CV] depth=4, num_leaves=5 ...........................................\n"
     ]
    },
    {
     "name": "stderr",
     "output_type": "stream",
     "text": [
      "/opt/conda/lib/python3.6/site-packages/lightgbm/basic.py:1295: UserWarning: categorical_feature in Dataset is overridden.\n",
      "New categorical_feature is [1, 2, 3, 5, 6, 9, 12, 13]\n",
      "  'New categorical_feature is {}'.format(sorted(list(categorical_feature))))\n"
     ]
    },
    {
     "name": "stdout",
     "output_type": "stream",
     "text": [
      "[CV] ............................ depth=4, num_leaves=5, total=   0.3s\n",
      "[CV] depth=4, num_leaves=5 ...........................................\n"
     ]
    },
    {
     "name": "stderr",
     "output_type": "stream",
     "text": [
      "/opt/conda/lib/python3.6/site-packages/lightgbm/basic.py:1295: UserWarning: categorical_feature in Dataset is overridden.\n",
      "New categorical_feature is [1, 2, 3, 5, 6, 9, 12, 13]\n",
      "  'New categorical_feature is {}'.format(sorted(list(categorical_feature))))\n"
     ]
    },
    {
     "name": "stdout",
     "output_type": "stream",
     "text": [
      "[CV] ............................ depth=4, num_leaves=5, total=   0.3s\n",
      "[CV] depth=4, num_leaves=10 ..........................................\n"
     ]
    },
    {
     "name": "stderr",
     "output_type": "stream",
     "text": [
      "/opt/conda/lib/python3.6/site-packages/lightgbm/basic.py:1295: UserWarning: categorical_feature in Dataset is overridden.\n",
      "New categorical_feature is [1, 2, 3, 5, 6, 9, 12, 13]\n",
      "  'New categorical_feature is {}'.format(sorted(list(categorical_feature))))\n"
     ]
    },
    {
     "name": "stdout",
     "output_type": "stream",
     "text": [
      "[CV] ........................... depth=4, num_leaves=10, total=   0.4s\n",
      "[CV] depth=4, num_leaves=10 ..........................................\n"
     ]
    },
    {
     "name": "stderr",
     "output_type": "stream",
     "text": [
      "/opt/conda/lib/python3.6/site-packages/lightgbm/basic.py:1295: UserWarning: categorical_feature in Dataset is overridden.\n",
      "New categorical_feature is [1, 2, 3, 5, 6, 9, 12, 13]\n",
      "  'New categorical_feature is {}'.format(sorted(list(categorical_feature))))\n"
     ]
    },
    {
     "name": "stdout",
     "output_type": "stream",
     "text": [
      "[CV] ........................... depth=4, num_leaves=10, total=   0.5s\n",
      "[CV] depth=4, num_leaves=10 ..........................................\n"
     ]
    },
    {
     "name": "stderr",
     "output_type": "stream",
     "text": [
      "/opt/conda/lib/python3.6/site-packages/lightgbm/basic.py:1295: UserWarning: categorical_feature in Dataset is overridden.\n",
      "New categorical_feature is [1, 2, 3, 5, 6, 9, 12, 13]\n",
      "  'New categorical_feature is {}'.format(sorted(list(categorical_feature))))\n"
     ]
    },
    {
     "name": "stdout",
     "output_type": "stream",
     "text": [
      "[CV] ........................... depth=4, num_leaves=10, total=   0.4s\n",
      "[CV] depth=4, num_leaves=10 ..........................................\n"
     ]
    },
    {
     "name": "stderr",
     "output_type": "stream",
     "text": [
      "/opt/conda/lib/python3.6/site-packages/lightgbm/basic.py:1295: UserWarning: categorical_feature in Dataset is overridden.\n",
      "New categorical_feature is [1, 2, 3, 5, 6, 9, 12, 13]\n",
      "  'New categorical_feature is {}'.format(sorted(list(categorical_feature))))\n"
     ]
    },
    {
     "name": "stdout",
     "output_type": "stream",
     "text": [
      "[CV] ........................... depth=4, num_leaves=10, total=   0.4s\n",
      "[CV] depth=4, num_leaves=10 ..........................................\n"
     ]
    },
    {
     "name": "stderr",
     "output_type": "stream",
     "text": [
      "/opt/conda/lib/python3.6/site-packages/lightgbm/basic.py:1295: UserWarning: categorical_feature in Dataset is overridden.\n",
      "New categorical_feature is [1, 2, 3, 5, 6, 9, 12, 13]\n",
      "  'New categorical_feature is {}'.format(sorted(list(categorical_feature))))\n"
     ]
    },
    {
     "name": "stdout",
     "output_type": "stream",
     "text": [
      "[CV] ........................... depth=4, num_leaves=10, total=   0.4s\n",
      "[CV] depth=4, num_leaves=20 ..........................................\n"
     ]
    },
    {
     "name": "stderr",
     "output_type": "stream",
     "text": [
      "/opt/conda/lib/python3.6/site-packages/lightgbm/basic.py:1295: UserWarning: categorical_feature in Dataset is overridden.\n",
      "New categorical_feature is [1, 2, 3, 5, 6, 9, 12, 13]\n",
      "  'New categorical_feature is {}'.format(sorted(list(categorical_feature))))\n"
     ]
    },
    {
     "name": "stdout",
     "output_type": "stream",
     "text": [
      "[CV] ........................... depth=4, num_leaves=20, total=   0.5s\n",
      "[CV] depth=4, num_leaves=20 ..........................................\n"
     ]
    },
    {
     "name": "stderr",
     "output_type": "stream",
     "text": [
      "/opt/conda/lib/python3.6/site-packages/lightgbm/basic.py:1295: UserWarning: categorical_feature in Dataset is overridden.\n",
      "New categorical_feature is [1, 2, 3, 5, 6, 9, 12, 13]\n",
      "  'New categorical_feature is {}'.format(sorted(list(categorical_feature))))\n"
     ]
    },
    {
     "name": "stdout",
     "output_type": "stream",
     "text": [
      "[CV] ........................... depth=4, num_leaves=20, total=   0.6s\n",
      "[CV] depth=4, num_leaves=20 ..........................................\n"
     ]
    },
    {
     "name": "stderr",
     "output_type": "stream",
     "text": [
      "/opt/conda/lib/python3.6/site-packages/lightgbm/basic.py:1295: UserWarning: categorical_feature in Dataset is overridden.\n",
      "New categorical_feature is [1, 2, 3, 5, 6, 9, 12, 13]\n",
      "  'New categorical_feature is {}'.format(sorted(list(categorical_feature))))\n"
     ]
    },
    {
     "name": "stdout",
     "output_type": "stream",
     "text": [
      "[CV] ........................... depth=4, num_leaves=20, total=   0.7s\n",
      "[CV] depth=4, num_leaves=20 ..........................................\n"
     ]
    },
    {
     "name": "stderr",
     "output_type": "stream",
     "text": [
      "/opt/conda/lib/python3.6/site-packages/lightgbm/basic.py:1295: UserWarning: categorical_feature in Dataset is overridden.\n",
      "New categorical_feature is [1, 2, 3, 5, 6, 9, 12, 13]\n",
      "  'New categorical_feature is {}'.format(sorted(list(categorical_feature))))\n"
     ]
    },
    {
     "name": "stdout",
     "output_type": "stream",
     "text": [
      "[CV] ........................... depth=4, num_leaves=20, total=   0.4s\n",
      "[CV] depth=4, num_leaves=20 ..........................................\n"
     ]
    },
    {
     "name": "stderr",
     "output_type": "stream",
     "text": [
      "/opt/conda/lib/python3.6/site-packages/lightgbm/basic.py:1295: UserWarning: categorical_feature in Dataset is overridden.\n",
      "New categorical_feature is [1, 2, 3, 5, 6, 9, 12, 13]\n",
      "  'New categorical_feature is {}'.format(sorted(list(categorical_feature))))\n"
     ]
    },
    {
     "name": "stdout",
     "output_type": "stream",
     "text": [
      "[CV] ........................... depth=4, num_leaves=20, total=   0.4s\n",
      "[CV] depth=8, num_leaves=2 ...........................................\n"
     ]
    },
    {
     "name": "stderr",
     "output_type": "stream",
     "text": [
      "/opt/conda/lib/python3.6/site-packages/lightgbm/basic.py:1295: UserWarning: categorical_feature in Dataset is overridden.\n",
      "New categorical_feature is [1, 2, 3, 5, 6, 9, 12, 13]\n",
      "  'New categorical_feature is {}'.format(sorted(list(categorical_feature))))\n"
     ]
    },
    {
     "name": "stdout",
     "output_type": "stream",
     "text": [
      "[CV] ............................ depth=8, num_leaves=2, total=   0.4s\n",
      "[CV] depth=8, num_leaves=2 ...........................................\n"
     ]
    },
    {
     "name": "stderr",
     "output_type": "stream",
     "text": [
      "/opt/conda/lib/python3.6/site-packages/lightgbm/basic.py:1295: UserWarning: categorical_feature in Dataset is overridden.\n",
      "New categorical_feature is [1, 2, 3, 5, 6, 9, 12, 13]\n",
      "  'New categorical_feature is {}'.format(sorted(list(categorical_feature))))\n"
     ]
    },
    {
     "name": "stdout",
     "output_type": "stream",
     "text": [
      "[CV] ............................ depth=8, num_leaves=2, total=   0.4s\n",
      "[CV] depth=8, num_leaves=2 ...........................................\n"
     ]
    },
    {
     "name": "stderr",
     "output_type": "stream",
     "text": [
      "/opt/conda/lib/python3.6/site-packages/lightgbm/basic.py:1295: UserWarning: categorical_feature in Dataset is overridden.\n",
      "New categorical_feature is [1, 2, 3, 5, 6, 9, 12, 13]\n",
      "  'New categorical_feature is {}'.format(sorted(list(categorical_feature))))\n"
     ]
    },
    {
     "name": "stdout",
     "output_type": "stream",
     "text": [
      "[CV] ............................ depth=8, num_leaves=2, total=   0.4s\n",
      "[CV] depth=8, num_leaves=2 ...........................................\n"
     ]
    },
    {
     "name": "stderr",
     "output_type": "stream",
     "text": [
      "/opt/conda/lib/python3.6/site-packages/lightgbm/basic.py:1295: UserWarning: categorical_feature in Dataset is overridden.\n",
      "New categorical_feature is [1, 2, 3, 5, 6, 9, 12, 13]\n",
      "  'New categorical_feature is {}'.format(sorted(list(categorical_feature))))\n"
     ]
    },
    {
     "name": "stdout",
     "output_type": "stream",
     "text": [
      "[CV] ............................ depth=8, num_leaves=2, total=   0.5s\n",
      "[CV] depth=8, num_leaves=2 ...........................................\n"
     ]
    },
    {
     "name": "stderr",
     "output_type": "stream",
     "text": [
      "/opt/conda/lib/python3.6/site-packages/lightgbm/basic.py:1295: UserWarning: categorical_feature in Dataset is overridden.\n",
      "New categorical_feature is [1, 2, 3, 5, 6, 9, 12, 13]\n",
      "  'New categorical_feature is {}'.format(sorted(list(categorical_feature))))\n"
     ]
    },
    {
     "name": "stdout",
     "output_type": "stream",
     "text": [
      "[CV] ............................ depth=8, num_leaves=2, total=   0.5s\n",
      "[CV] depth=8, num_leaves=5 ...........................................\n"
     ]
    },
    {
     "name": "stderr",
     "output_type": "stream",
     "text": [
      "/opt/conda/lib/python3.6/site-packages/lightgbm/basic.py:1295: UserWarning: categorical_feature in Dataset is overridden.\n",
      "New categorical_feature is [1, 2, 3, 5, 6, 9, 12, 13]\n",
      "  'New categorical_feature is {}'.format(sorted(list(categorical_feature))))\n"
     ]
    },
    {
     "name": "stdout",
     "output_type": "stream",
     "text": [
      "[CV] ............................ depth=8, num_leaves=5, total=   0.3s\n",
      "[CV] depth=8, num_leaves=5 ...........................................\n"
     ]
    },
    {
     "name": "stderr",
     "output_type": "stream",
     "text": [
      "/opt/conda/lib/python3.6/site-packages/lightgbm/basic.py:1295: UserWarning: categorical_feature in Dataset is overridden.\n",
      "New categorical_feature is [1, 2, 3, 5, 6, 9, 12, 13]\n",
      "  'New categorical_feature is {}'.format(sorted(list(categorical_feature))))\n"
     ]
    },
    {
     "name": "stdout",
     "output_type": "stream",
     "text": [
      "[CV] ............................ depth=8, num_leaves=5, total=   0.9s\n",
      "[CV] depth=8, num_leaves=5 ...........................................\n"
     ]
    },
    {
     "name": "stderr",
     "output_type": "stream",
     "text": [
      "/opt/conda/lib/python3.6/site-packages/lightgbm/basic.py:1295: UserWarning: categorical_feature in Dataset is overridden.\n",
      "New categorical_feature is [1, 2, 3, 5, 6, 9, 12, 13]\n",
      "  'New categorical_feature is {}'.format(sorted(list(categorical_feature))))\n"
     ]
    },
    {
     "name": "stdout",
     "output_type": "stream",
     "text": [
      "[CV] ............................ depth=8, num_leaves=5, total=   0.4s\n",
      "[CV] depth=8, num_leaves=5 ...........................................\n"
     ]
    },
    {
     "name": "stderr",
     "output_type": "stream",
     "text": [
      "/opt/conda/lib/python3.6/site-packages/lightgbm/basic.py:1295: UserWarning: categorical_feature in Dataset is overridden.\n",
      "New categorical_feature is [1, 2, 3, 5, 6, 9, 12, 13]\n",
      "  'New categorical_feature is {}'.format(sorted(list(categorical_feature))))\n"
     ]
    },
    {
     "name": "stdout",
     "output_type": "stream",
     "text": [
      "[CV] ............................ depth=8, num_leaves=5, total=   0.3s\n",
      "[CV] depth=8, num_leaves=5 ...........................................\n"
     ]
    },
    {
     "name": "stderr",
     "output_type": "stream",
     "text": [
      "/opt/conda/lib/python3.6/site-packages/lightgbm/basic.py:1295: UserWarning: categorical_feature in Dataset is overridden.\n",
      "New categorical_feature is [1, 2, 3, 5, 6, 9, 12, 13]\n",
      "  'New categorical_feature is {}'.format(sorted(list(categorical_feature))))\n"
     ]
    },
    {
     "name": "stdout",
     "output_type": "stream",
     "text": [
      "[CV] ............................ depth=8, num_leaves=5, total=   0.4s\n",
      "[CV] depth=8, num_leaves=10 ..........................................\n"
     ]
    },
    {
     "name": "stderr",
     "output_type": "stream",
     "text": [
      "/opt/conda/lib/python3.6/site-packages/lightgbm/basic.py:1295: UserWarning: categorical_feature in Dataset is overridden.\n",
      "New categorical_feature is [1, 2, 3, 5, 6, 9, 12, 13]\n",
      "  'New categorical_feature is {}'.format(sorted(list(categorical_feature))))\n"
     ]
    },
    {
     "name": "stdout",
     "output_type": "stream",
     "text": [
      "[CV] ........................... depth=8, num_leaves=10, total=   0.4s\n",
      "[CV] depth=8, num_leaves=10 ..........................................\n"
     ]
    },
    {
     "name": "stderr",
     "output_type": "stream",
     "text": [
      "/opt/conda/lib/python3.6/site-packages/lightgbm/basic.py:1295: UserWarning: categorical_feature in Dataset is overridden.\n",
      "New categorical_feature is [1, 2, 3, 5, 6, 9, 12, 13]\n",
      "  'New categorical_feature is {}'.format(sorted(list(categorical_feature))))\n"
     ]
    },
    {
     "name": "stdout",
     "output_type": "stream",
     "text": [
      "[CV] ........................... depth=8, num_leaves=10, total=   0.5s\n",
      "[CV] depth=8, num_leaves=10 ..........................................\n"
     ]
    },
    {
     "name": "stderr",
     "output_type": "stream",
     "text": [
      "/opt/conda/lib/python3.6/site-packages/lightgbm/basic.py:1295: UserWarning: categorical_feature in Dataset is overridden.\n",
      "New categorical_feature is [1, 2, 3, 5, 6, 9, 12, 13]\n",
      "  'New categorical_feature is {}'.format(sorted(list(categorical_feature))))\n"
     ]
    },
    {
     "name": "stdout",
     "output_type": "stream",
     "text": [
      "[CV] ........................... depth=8, num_leaves=10, total=   0.6s\n",
      "[CV] depth=8, num_leaves=10 ..........................................\n"
     ]
    },
    {
     "name": "stderr",
     "output_type": "stream",
     "text": [
      "/opt/conda/lib/python3.6/site-packages/lightgbm/basic.py:1295: UserWarning: categorical_feature in Dataset is overridden.\n",
      "New categorical_feature is [1, 2, 3, 5, 6, 9, 12, 13]\n",
      "  'New categorical_feature is {}'.format(sorted(list(categorical_feature))))\n"
     ]
    },
    {
     "name": "stdout",
     "output_type": "stream",
     "text": [
      "[CV] ........................... depth=8, num_leaves=10, total=   0.4s\n",
      "[CV] depth=8, num_leaves=10 ..........................................\n"
     ]
    },
    {
     "name": "stderr",
     "output_type": "stream",
     "text": [
      "/opt/conda/lib/python3.6/site-packages/lightgbm/basic.py:1295: UserWarning: categorical_feature in Dataset is overridden.\n",
      "New categorical_feature is [1, 2, 3, 5, 6, 9, 12, 13]\n",
      "  'New categorical_feature is {}'.format(sorted(list(categorical_feature))))\n"
     ]
    },
    {
     "name": "stdout",
     "output_type": "stream",
     "text": [
      "[CV] ........................... depth=8, num_leaves=10, total=   0.5s\n",
      "[CV] depth=8, num_leaves=20 ..........................................\n"
     ]
    },
    {
     "name": "stderr",
     "output_type": "stream",
     "text": [
      "/opt/conda/lib/python3.6/site-packages/lightgbm/basic.py:1295: UserWarning: categorical_feature in Dataset is overridden.\n",
      "New categorical_feature is [1, 2, 3, 5, 6, 9, 12, 13]\n",
      "  'New categorical_feature is {}'.format(sorted(list(categorical_feature))))\n"
     ]
    },
    {
     "name": "stdout",
     "output_type": "stream",
     "text": [
      "[CV] ........................... depth=8, num_leaves=20, total=   1.2s\n",
      "[CV] depth=8, num_leaves=20 ..........................................\n"
     ]
    },
    {
     "name": "stderr",
     "output_type": "stream",
     "text": [
      "/opt/conda/lib/python3.6/site-packages/lightgbm/basic.py:1295: UserWarning: categorical_feature in Dataset is overridden.\n",
      "New categorical_feature is [1, 2, 3, 5, 6, 9, 12, 13]\n",
      "  'New categorical_feature is {}'.format(sorted(list(categorical_feature))))\n"
     ]
    },
    {
     "name": "stdout",
     "output_type": "stream",
     "text": [
      "[CV] ........................... depth=8, num_leaves=20, total=   0.7s\n",
      "[CV] depth=8, num_leaves=20 ..........................................\n"
     ]
    },
    {
     "name": "stderr",
     "output_type": "stream",
     "text": [
      "/opt/conda/lib/python3.6/site-packages/lightgbm/basic.py:1295: UserWarning: categorical_feature in Dataset is overridden.\n",
      "New categorical_feature is [1, 2, 3, 5, 6, 9, 12, 13]\n",
      "  'New categorical_feature is {}'.format(sorted(list(categorical_feature))))\n"
     ]
    },
    {
     "name": "stdout",
     "output_type": "stream",
     "text": [
      "[CV] ........................... depth=8, num_leaves=20, total=   0.5s\n",
      "[CV] depth=8, num_leaves=20 ..........................................\n"
     ]
    },
    {
     "name": "stderr",
     "output_type": "stream",
     "text": [
      "/opt/conda/lib/python3.6/site-packages/lightgbm/basic.py:1295: UserWarning: categorical_feature in Dataset is overridden.\n",
      "New categorical_feature is [1, 2, 3, 5, 6, 9, 12, 13]\n",
      "  'New categorical_feature is {}'.format(sorted(list(categorical_feature))))\n"
     ]
    },
    {
     "name": "stdout",
     "output_type": "stream",
     "text": [
      "[CV] ........................... depth=8, num_leaves=20, total=   0.4s\n",
      "[CV] depth=8, num_leaves=20 ..........................................\n"
     ]
    },
    {
     "name": "stderr",
     "output_type": "stream",
     "text": [
      "/opt/conda/lib/python3.6/site-packages/lightgbm/basic.py:1295: UserWarning: categorical_feature in Dataset is overridden.\n",
      "New categorical_feature is [1, 2, 3, 5, 6, 9, 12, 13]\n",
      "  'New categorical_feature is {}'.format(sorted(list(categorical_feature))))\n"
     ]
    },
    {
     "name": "stdout",
     "output_type": "stream",
     "text": [
      "[CV] ........................... depth=8, num_leaves=20, total=   0.4s\n",
      "[CV] depth=10, num_leaves=2 ..........................................\n"
     ]
    },
    {
     "name": "stderr",
     "output_type": "stream",
     "text": [
      "/opt/conda/lib/python3.6/site-packages/lightgbm/basic.py:1295: UserWarning: categorical_feature in Dataset is overridden.\n",
      "New categorical_feature is [1, 2, 3, 5, 6, 9, 12, 13]\n",
      "  'New categorical_feature is {}'.format(sorted(list(categorical_feature))))\n"
     ]
    },
    {
     "name": "stdout",
     "output_type": "stream",
     "text": [
      "[CV] ........................... depth=10, num_leaves=2, total=   0.5s\n",
      "[CV] depth=10, num_leaves=2 ..........................................\n"
     ]
    },
    {
     "name": "stderr",
     "output_type": "stream",
     "text": [
      "/opt/conda/lib/python3.6/site-packages/lightgbm/basic.py:1295: UserWarning: categorical_feature in Dataset is overridden.\n",
      "New categorical_feature is [1, 2, 3, 5, 6, 9, 12, 13]\n",
      "  'New categorical_feature is {}'.format(sorted(list(categorical_feature))))\n"
     ]
    },
    {
     "name": "stdout",
     "output_type": "stream",
     "text": [
      "[CV] ........................... depth=10, num_leaves=2, total=   0.4s\n",
      "[CV] depth=10, num_leaves=2 ..........................................\n"
     ]
    },
    {
     "name": "stderr",
     "output_type": "stream",
     "text": [
      "/opt/conda/lib/python3.6/site-packages/lightgbm/basic.py:1295: UserWarning: categorical_feature in Dataset is overridden.\n",
      "New categorical_feature is [1, 2, 3, 5, 6, 9, 12, 13]\n",
      "  'New categorical_feature is {}'.format(sorted(list(categorical_feature))))\n"
     ]
    },
    {
     "name": "stdout",
     "output_type": "stream",
     "text": [
      "[CV] ........................... depth=10, num_leaves=2, total=   0.4s\n",
      "[CV] depth=10, num_leaves=2 ..........................................\n"
     ]
    },
    {
     "name": "stderr",
     "output_type": "stream",
     "text": [
      "/opt/conda/lib/python3.6/site-packages/lightgbm/basic.py:1295: UserWarning: categorical_feature in Dataset is overridden.\n",
      "New categorical_feature is [1, 2, 3, 5, 6, 9, 12, 13]\n",
      "  'New categorical_feature is {}'.format(sorted(list(categorical_feature))))\n"
     ]
    },
    {
     "name": "stdout",
     "output_type": "stream",
     "text": [
      "[CV] ........................... depth=10, num_leaves=2, total=   0.5s\n",
      "[CV] depth=10, num_leaves=2 ..........................................\n"
     ]
    },
    {
     "name": "stderr",
     "output_type": "stream",
     "text": [
      "/opt/conda/lib/python3.6/site-packages/lightgbm/basic.py:1295: UserWarning: categorical_feature in Dataset is overridden.\n",
      "New categorical_feature is [1, 2, 3, 5, 6, 9, 12, 13]\n",
      "  'New categorical_feature is {}'.format(sorted(list(categorical_feature))))\n"
     ]
    },
    {
     "name": "stdout",
     "output_type": "stream",
     "text": [
      "[CV] ........................... depth=10, num_leaves=2, total=   0.6s\n",
      "[CV] depth=10, num_leaves=5 ..........................................\n"
     ]
    },
    {
     "name": "stderr",
     "output_type": "stream",
     "text": [
      "/opt/conda/lib/python3.6/site-packages/lightgbm/basic.py:1295: UserWarning: categorical_feature in Dataset is overridden.\n",
      "New categorical_feature is [1, 2, 3, 5, 6, 9, 12, 13]\n",
      "  'New categorical_feature is {}'.format(sorted(list(categorical_feature))))\n"
     ]
    },
    {
     "name": "stdout",
     "output_type": "stream",
     "text": [
      "[CV] ........................... depth=10, num_leaves=5, total=   0.3s\n",
      "[CV] depth=10, num_leaves=5 ..........................................\n"
     ]
    },
    {
     "name": "stderr",
     "output_type": "stream",
     "text": [
      "/opt/conda/lib/python3.6/site-packages/lightgbm/basic.py:1295: UserWarning: categorical_feature in Dataset is overridden.\n",
      "New categorical_feature is [1, 2, 3, 5, 6, 9, 12, 13]\n",
      "  'New categorical_feature is {}'.format(sorted(list(categorical_feature))))\n"
     ]
    },
    {
     "name": "stdout",
     "output_type": "stream",
     "text": [
      "[CV] ........................... depth=10, num_leaves=5, total=   0.5s\n",
      "[CV] depth=10, num_leaves=5 ..........................................\n"
     ]
    },
    {
     "name": "stderr",
     "output_type": "stream",
     "text": [
      "/opt/conda/lib/python3.6/site-packages/lightgbm/basic.py:1295: UserWarning: categorical_feature in Dataset is overridden.\n",
      "New categorical_feature is [1, 2, 3, 5, 6, 9, 12, 13]\n",
      "  'New categorical_feature is {}'.format(sorted(list(categorical_feature))))\n"
     ]
    },
    {
     "name": "stdout",
     "output_type": "stream",
     "text": [
      "[CV] ........................... depth=10, num_leaves=5, total=   0.4s\n",
      "[CV] depth=10, num_leaves=5 ..........................................\n"
     ]
    },
    {
     "name": "stderr",
     "output_type": "stream",
     "text": [
      "/opt/conda/lib/python3.6/site-packages/lightgbm/basic.py:1295: UserWarning: categorical_feature in Dataset is overridden.\n",
      "New categorical_feature is [1, 2, 3, 5, 6, 9, 12, 13]\n",
      "  'New categorical_feature is {}'.format(sorted(list(categorical_feature))))\n"
     ]
    },
    {
     "name": "stdout",
     "output_type": "stream",
     "text": [
      "[CV] ........................... depth=10, num_leaves=5, total=   0.4s\n",
      "[CV] depth=10, num_leaves=5 ..........................................\n"
     ]
    },
    {
     "name": "stderr",
     "output_type": "stream",
     "text": [
      "/opt/conda/lib/python3.6/site-packages/lightgbm/basic.py:1295: UserWarning: categorical_feature in Dataset is overridden.\n",
      "New categorical_feature is [1, 2, 3, 5, 6, 9, 12, 13]\n",
      "  'New categorical_feature is {}'.format(sorted(list(categorical_feature))))\n"
     ]
    },
    {
     "name": "stdout",
     "output_type": "stream",
     "text": [
      "[CV] ........................... depth=10, num_leaves=5, total=   0.4s\n",
      "[CV] depth=10, num_leaves=10 .........................................\n"
     ]
    },
    {
     "name": "stderr",
     "output_type": "stream",
     "text": [
      "/opt/conda/lib/python3.6/site-packages/lightgbm/basic.py:1295: UserWarning: categorical_feature in Dataset is overridden.\n",
      "New categorical_feature is [1, 2, 3, 5, 6, 9, 12, 13]\n",
      "  'New categorical_feature is {}'.format(sorted(list(categorical_feature))))\n"
     ]
    },
    {
     "name": "stdout",
     "output_type": "stream",
     "text": [
      "[CV] .......................... depth=10, num_leaves=10, total=   0.4s\n",
      "[CV] depth=10, num_leaves=10 .........................................\n"
     ]
    },
    {
     "name": "stderr",
     "output_type": "stream",
     "text": [
      "/opt/conda/lib/python3.6/site-packages/lightgbm/basic.py:1295: UserWarning: categorical_feature in Dataset is overridden.\n",
      "New categorical_feature is [1, 2, 3, 5, 6, 9, 12, 13]\n",
      "  'New categorical_feature is {}'.format(sorted(list(categorical_feature))))\n"
     ]
    },
    {
     "name": "stdout",
     "output_type": "stream",
     "text": [
      "[CV] .......................... depth=10, num_leaves=10, total=   0.5s\n",
      "[CV] depth=10, num_leaves=10 .........................................\n"
     ]
    },
    {
     "name": "stderr",
     "output_type": "stream",
     "text": [
      "/opt/conda/lib/python3.6/site-packages/lightgbm/basic.py:1295: UserWarning: categorical_feature in Dataset is overridden.\n",
      "New categorical_feature is [1, 2, 3, 5, 6, 9, 12, 13]\n",
      "  'New categorical_feature is {}'.format(sorted(list(categorical_feature))))\n"
     ]
    },
    {
     "name": "stdout",
     "output_type": "stream",
     "text": [
      "[CV] .......................... depth=10, num_leaves=10, total=   0.4s\n",
      "[CV] depth=10, num_leaves=10 .........................................\n"
     ]
    },
    {
     "name": "stderr",
     "output_type": "stream",
     "text": [
      "/opt/conda/lib/python3.6/site-packages/lightgbm/basic.py:1295: UserWarning: categorical_feature in Dataset is overridden.\n",
      "New categorical_feature is [1, 2, 3, 5, 6, 9, 12, 13]\n",
      "  'New categorical_feature is {}'.format(sorted(list(categorical_feature))))\n"
     ]
    },
    {
     "name": "stdout",
     "output_type": "stream",
     "text": [
      "[CV] .......................... depth=10, num_leaves=10, total=   0.4s\n",
      "[CV] depth=10, num_leaves=10 .........................................\n"
     ]
    },
    {
     "name": "stderr",
     "output_type": "stream",
     "text": [
      "/opt/conda/lib/python3.6/site-packages/lightgbm/basic.py:1295: UserWarning: categorical_feature in Dataset is overridden.\n",
      "New categorical_feature is [1, 2, 3, 5, 6, 9, 12, 13]\n",
      "  'New categorical_feature is {}'.format(sorted(list(categorical_feature))))\n"
     ]
    },
    {
     "name": "stdout",
     "output_type": "stream",
     "text": [
      "[CV] .......................... depth=10, num_leaves=10, total=   0.4s\n",
      "[CV] depth=10, num_leaves=20 .........................................\n"
     ]
    },
    {
     "name": "stderr",
     "output_type": "stream",
     "text": [
      "/opt/conda/lib/python3.6/site-packages/lightgbm/basic.py:1295: UserWarning: categorical_feature in Dataset is overridden.\n",
      "New categorical_feature is [1, 2, 3, 5, 6, 9, 12, 13]\n",
      "  'New categorical_feature is {}'.format(sorted(list(categorical_feature))))\n"
     ]
    },
    {
     "name": "stdout",
     "output_type": "stream",
     "text": [
      "[CV] .......................... depth=10, num_leaves=20, total=   0.5s\n",
      "[CV] depth=10, num_leaves=20 .........................................\n"
     ]
    },
    {
     "name": "stderr",
     "output_type": "stream",
     "text": [
      "/opt/conda/lib/python3.6/site-packages/lightgbm/basic.py:1295: UserWarning: categorical_feature in Dataset is overridden.\n",
      "New categorical_feature is [1, 2, 3, 5, 6, 9, 12, 13]\n",
      "  'New categorical_feature is {}'.format(sorted(list(categorical_feature))))\n"
     ]
    },
    {
     "name": "stdout",
     "output_type": "stream",
     "text": [
      "[CV] .......................... depth=10, num_leaves=20, total=   0.6s\n",
      "[CV] depth=10, num_leaves=20 .........................................\n"
     ]
    },
    {
     "name": "stderr",
     "output_type": "stream",
     "text": [
      "/opt/conda/lib/python3.6/site-packages/lightgbm/basic.py:1295: UserWarning: categorical_feature in Dataset is overridden.\n",
      "New categorical_feature is [1, 2, 3, 5, 6, 9, 12, 13]\n",
      "  'New categorical_feature is {}'.format(sorted(list(categorical_feature))))\n"
     ]
    },
    {
     "name": "stdout",
     "output_type": "stream",
     "text": [
      "[CV] .......................... depth=10, num_leaves=20, total=   0.5s\n",
      "[CV] depth=10, num_leaves=20 .........................................\n"
     ]
    },
    {
     "name": "stderr",
     "output_type": "stream",
     "text": [
      "/opt/conda/lib/python3.6/site-packages/lightgbm/basic.py:1295: UserWarning: categorical_feature in Dataset is overridden.\n",
      "New categorical_feature is [1, 2, 3, 5, 6, 9, 12, 13]\n",
      "  'New categorical_feature is {}'.format(sorted(list(categorical_feature))))\n"
     ]
    },
    {
     "name": "stdout",
     "output_type": "stream",
     "text": [
      "[CV] .......................... depth=10, num_leaves=20, total=   0.5s\n",
      "[CV] depth=10, num_leaves=20 .........................................\n"
     ]
    },
    {
     "name": "stderr",
     "output_type": "stream",
     "text": [
      "/opt/conda/lib/python3.6/site-packages/lightgbm/basic.py:1295: UserWarning: categorical_feature in Dataset is overridden.\n",
      "New categorical_feature is [1, 2, 3, 5, 6, 9, 12, 13]\n",
      "  'New categorical_feature is {}'.format(sorted(list(categorical_feature))))\n"
     ]
    },
    {
     "name": "stdout",
     "output_type": "stream",
     "text": [
      "[CV] .......................... depth=10, num_leaves=20, total=   0.4s\n"
     ]
    },
    {
     "name": "stderr",
     "output_type": "stream",
     "text": [
      "[Parallel(n_jobs=1)]: Done  80 out of  80 | elapsed:   36.2s finished\n",
      "/opt/conda/lib/python3.6/site-packages/lightgbm/basic.py:1295: UserWarning: categorical_feature in Dataset is overridden.\n",
      "New categorical_feature is [1, 2, 3, 5, 6, 9, 12, 13]\n",
      "  'New categorical_feature is {}'.format(sorted(list(categorical_feature))))\n"
     ]
    },
    {
     "data": {
      "text/plain": [
       "GridSearchCV(cv=5, error_score=nan,\n",
       "             estimator=LGBMRegressor(bagging_fraction=0.8, bagging_freq=1,\n",
       "                                     boosting_type='gbdt', class_weight=None,\n",
       "                                     colsample_bytree=0.8,\n",
       "                                     importance_type='split',\n",
       "                                     learning_rate=0.01, max_bin=1000,\n",
       "                                     max_depth=-1, metric='mse',\n",
       "                                     min_child_samples=20,\n",
       "                                     min_child_weight=0.001, min_split_gain=0.0,\n",
       "                                     n_estimators=99999, n_jobs=-1, n_threads=3,\n",
       "                                     num_leaves...ve='regression',\n",
       "                                     random_state=None, reg_alpha=0.0,\n",
       "                                     reg_lambda=0.0, scale_pos_weight=1,\n",
       "                                     silent=True, subsample=1.0,\n",
       "                                     subsample_for_bin=200000, subsample_freq=0,\n",
       "                                     verbose=0),\n",
       "             iid='deprecated', n_jobs=None,\n",
       "             param_grid={'depth': [2, 4, 8, 10], 'num_leaves': [2, 5, 10, 20]},\n",
       "             pre_dispatch='2*n_jobs', refit=True, return_train_score=False,\n",
       "             scoring='neg_mean_squared_error', verbose=2)"
      ]
     },
     "execution_count": 8,
     "metadata": {},
     "output_type": "execute_result"
    }
   ],
   "source": [
    "grid_params = {\"depth\": [2,4,8,10], \"num_leaves\":[2,5,10,20,]}\n",
    "clf = lgb.LGBMRegressor(boosting_type=\"gbdt\",objective=\"regression\",learning_rate=0.01, \\\n",
    "                        bagging_freq=1,colsample_bytree=0.8, bagging_fraction=0.8, \\\n",
    "                        max_bin=1000, scale_pos_weight=1, \\\n",
    "                        metric= \"mse\", n_threads = 3,n_estimators= 99999, verbose = 0,)\n",
    "grid = GridSearchCV(estimator = clf, param_grid = grid_params, cv = 5, verbose = 2, scoring=\"neg_mean_squared_error\")\n",
    "grid.fit(X_train, y_train, eval_set = [(X_test, y_test)], early_stopping_rounds = 10, verbose = 0, categorical_feature = [1,2,3,5,6,9,12,13])"
   ]
  },
  {
   "cell_type": "code",
   "execution_count": 9,
   "metadata": {},
   "outputs": [
    {
     "data": {
      "text/plain": [
       "{'depth': 2, 'num_leaves': 5}"
      ]
     },
     "execution_count": 9,
     "metadata": {},
     "output_type": "execute_result"
    }
   ],
   "source": [
    "grid.best_params_"
   ]
  },
  {
   "cell_type": "code",
   "execution_count": 10,
   "metadata": {},
   "outputs": [
    {
     "data": {
      "text/plain": [
       "-0.006282281779430925"
      ]
     },
     "execution_count": 10,
     "metadata": {},
     "output_type": "execute_result"
    }
   ],
   "source": [
    "grid.best_score_"
   ]
  },
  {
   "cell_type": "code",
   "execution_count": 11,
   "metadata": {},
   "outputs": [
    {
     "data": {
      "text/plain": [
       "0.006502144954601772"
      ]
     },
     "execution_count": 11,
     "metadata": {},
     "output_type": "execute_result"
    }
   ],
   "source": [
    "mean_squared_error(y_test, grid.best_estimator_.predict(X_test))"
   ]
  },
  {
   "cell_type": "code",
   "execution_count": 12,
   "metadata": {},
   "outputs": [
    {
     "name": "stdout",
     "output_type": "stream",
     "text": [
      "Fitting 5 folds for each of 7 candidates, totalling 35 fits\n",
      "[CV] min_child_weight=120 ............................................\n"
     ]
    },
    {
     "name": "stderr",
     "output_type": "stream",
     "text": [
      "[Parallel(n_jobs=1)]: Using backend SequentialBackend with 1 concurrent workers.\n",
      "/opt/conda/lib/python3.6/site-packages/lightgbm/basic.py:1295: UserWarning: categorical_feature in Dataset is overridden.\n",
      "New categorical_feature is [1, 2, 3, 5, 6, 9, 12, 13]\n",
      "  'New categorical_feature is {}'.format(sorted(list(categorical_feature))))\n"
     ]
    },
    {
     "name": "stdout",
     "output_type": "stream",
     "text": [
      "[CV] ............................. min_child_weight=120, total=   0.4s\n",
      "[CV] min_child_weight=120 ............................................\n"
     ]
    },
    {
     "name": "stderr",
     "output_type": "stream",
     "text": [
      "[Parallel(n_jobs=1)]: Done   1 out of   1 | elapsed:    0.4s remaining:    0.0s\n",
      "/opt/conda/lib/python3.6/site-packages/lightgbm/basic.py:1295: UserWarning: categorical_feature in Dataset is overridden.\n",
      "New categorical_feature is [1, 2, 3, 5, 6, 9, 12, 13]\n",
      "  'New categorical_feature is {}'.format(sorted(list(categorical_feature))))\n"
     ]
    },
    {
     "name": "stdout",
     "output_type": "stream",
     "text": [
      "[CV] ............................. min_child_weight=120, total=   0.4s\n",
      "[CV] min_child_weight=120 ............................................\n"
     ]
    },
    {
     "name": "stderr",
     "output_type": "stream",
     "text": [
      "/opt/conda/lib/python3.6/site-packages/lightgbm/basic.py:1295: UserWarning: categorical_feature in Dataset is overridden.\n",
      "New categorical_feature is [1, 2, 3, 5, 6, 9, 12, 13]\n",
      "  'New categorical_feature is {}'.format(sorted(list(categorical_feature))))\n"
     ]
    },
    {
     "name": "stdout",
     "output_type": "stream",
     "text": [
      "[CV] ............................. min_child_weight=120, total=   0.4s\n",
      "[CV] min_child_weight=120 ............................................\n"
     ]
    },
    {
     "name": "stderr",
     "output_type": "stream",
     "text": [
      "/opt/conda/lib/python3.6/site-packages/lightgbm/basic.py:1295: UserWarning: categorical_feature in Dataset is overridden.\n",
      "New categorical_feature is [1, 2, 3, 5, 6, 9, 12, 13]\n",
      "  'New categorical_feature is {}'.format(sorted(list(categorical_feature))))\n"
     ]
    },
    {
     "name": "stdout",
     "output_type": "stream",
     "text": [
      "[CV] ............................. min_child_weight=120, total=   0.4s\n",
      "[CV] min_child_weight=120 ............................................\n"
     ]
    },
    {
     "name": "stderr",
     "output_type": "stream",
     "text": [
      "/opt/conda/lib/python3.6/site-packages/lightgbm/basic.py:1295: UserWarning: categorical_feature in Dataset is overridden.\n",
      "New categorical_feature is [1, 2, 3, 5, 6, 9, 12, 13]\n",
      "  'New categorical_feature is {}'.format(sorted(list(categorical_feature))))\n"
     ]
    },
    {
     "name": "stdout",
     "output_type": "stream",
     "text": [
      "[CV] ............................. min_child_weight=120, total=   0.4s\n",
      "[CV] min_child_weight=150 ............................................\n"
     ]
    },
    {
     "name": "stderr",
     "output_type": "stream",
     "text": [
      "/opt/conda/lib/python3.6/site-packages/lightgbm/basic.py:1295: UserWarning: categorical_feature in Dataset is overridden.\n",
      "New categorical_feature is [1, 2, 3, 5, 6, 9, 12, 13]\n",
      "  'New categorical_feature is {}'.format(sorted(list(categorical_feature))))\n"
     ]
    },
    {
     "name": "stdout",
     "output_type": "stream",
     "text": [
      "[CV] ............................. min_child_weight=150, total=   0.4s\n",
      "[CV] min_child_weight=150 ............................................\n"
     ]
    },
    {
     "name": "stderr",
     "output_type": "stream",
     "text": [
      "/opt/conda/lib/python3.6/site-packages/lightgbm/basic.py:1295: UserWarning: categorical_feature in Dataset is overridden.\n",
      "New categorical_feature is [1, 2, 3, 5, 6, 9, 12, 13]\n",
      "  'New categorical_feature is {}'.format(sorted(list(categorical_feature))))\n"
     ]
    },
    {
     "name": "stdout",
     "output_type": "stream",
     "text": [
      "[CV] ............................. min_child_weight=150, total=   0.3s\n",
      "[CV] min_child_weight=150 ............................................\n"
     ]
    },
    {
     "name": "stderr",
     "output_type": "stream",
     "text": [
      "/opt/conda/lib/python3.6/site-packages/lightgbm/basic.py:1295: UserWarning: categorical_feature in Dataset is overridden.\n",
      "New categorical_feature is [1, 2, 3, 5, 6, 9, 12, 13]\n",
      "  'New categorical_feature is {}'.format(sorted(list(categorical_feature))))\n"
     ]
    },
    {
     "name": "stdout",
     "output_type": "stream",
     "text": [
      "[CV] ............................. min_child_weight=150, total=   0.4s\n",
      "[CV] min_child_weight=150 ............................................\n"
     ]
    },
    {
     "name": "stderr",
     "output_type": "stream",
     "text": [
      "/opt/conda/lib/python3.6/site-packages/lightgbm/basic.py:1295: UserWarning: categorical_feature in Dataset is overridden.\n",
      "New categorical_feature is [1, 2, 3, 5, 6, 9, 12, 13]\n",
      "  'New categorical_feature is {}'.format(sorted(list(categorical_feature))))\n"
     ]
    },
    {
     "name": "stdout",
     "output_type": "stream",
     "text": [
      "[CV] ............................. min_child_weight=150, total=   0.3s\n",
      "[CV] min_child_weight=150 ............................................\n"
     ]
    },
    {
     "name": "stderr",
     "output_type": "stream",
     "text": [
      "/opt/conda/lib/python3.6/site-packages/lightgbm/basic.py:1295: UserWarning: categorical_feature in Dataset is overridden.\n",
      "New categorical_feature is [1, 2, 3, 5, 6, 9, 12, 13]\n",
      "  'New categorical_feature is {}'.format(sorted(list(categorical_feature))))\n"
     ]
    },
    {
     "name": "stdout",
     "output_type": "stream",
     "text": [
      "[CV] ............................. min_child_weight=150, total=   0.4s\n",
      "[CV] min_child_weight=170 ............................................\n"
     ]
    },
    {
     "name": "stderr",
     "output_type": "stream",
     "text": [
      "/opt/conda/lib/python3.6/site-packages/lightgbm/basic.py:1295: UserWarning: categorical_feature in Dataset is overridden.\n",
      "New categorical_feature is [1, 2, 3, 5, 6, 9, 12, 13]\n",
      "  'New categorical_feature is {}'.format(sorted(list(categorical_feature))))\n"
     ]
    },
    {
     "name": "stdout",
     "output_type": "stream",
     "text": [
      "[CV] ............................. min_child_weight=170, total=   0.3s\n",
      "[CV] min_child_weight=170 ............................................\n"
     ]
    },
    {
     "name": "stderr",
     "output_type": "stream",
     "text": [
      "/opt/conda/lib/python3.6/site-packages/lightgbm/basic.py:1295: UserWarning: categorical_feature in Dataset is overridden.\n",
      "New categorical_feature is [1, 2, 3, 5, 6, 9, 12, 13]\n",
      "  'New categorical_feature is {}'.format(sorted(list(categorical_feature))))\n"
     ]
    },
    {
     "name": "stdout",
     "output_type": "stream",
     "text": [
      "[CV] ............................. min_child_weight=170, total=   0.3s\n",
      "[CV] min_child_weight=170 ............................................\n"
     ]
    },
    {
     "name": "stderr",
     "output_type": "stream",
     "text": [
      "/opt/conda/lib/python3.6/site-packages/lightgbm/basic.py:1295: UserWarning: categorical_feature in Dataset is overridden.\n",
      "New categorical_feature is [1, 2, 3, 5, 6, 9, 12, 13]\n",
      "  'New categorical_feature is {}'.format(sorted(list(categorical_feature))))\n"
     ]
    },
    {
     "name": "stdout",
     "output_type": "stream",
     "text": [
      "[CV] ............................. min_child_weight=170, total=   0.4s\n",
      "[CV] min_child_weight=170 ............................................\n"
     ]
    },
    {
     "name": "stderr",
     "output_type": "stream",
     "text": [
      "/opt/conda/lib/python3.6/site-packages/lightgbm/basic.py:1295: UserWarning: categorical_feature in Dataset is overridden.\n",
      "New categorical_feature is [1, 2, 3, 5, 6, 9, 12, 13]\n",
      "  'New categorical_feature is {}'.format(sorted(list(categorical_feature))))\n"
     ]
    },
    {
     "name": "stdout",
     "output_type": "stream",
     "text": [
      "[CV] ............................. min_child_weight=170, total=   0.5s\n",
      "[CV] min_child_weight=170 ............................................\n"
     ]
    },
    {
     "name": "stderr",
     "output_type": "stream",
     "text": [
      "/opt/conda/lib/python3.6/site-packages/lightgbm/basic.py:1295: UserWarning: categorical_feature in Dataset is overridden.\n",
      "New categorical_feature is [1, 2, 3, 5, 6, 9, 12, 13]\n",
      "  'New categorical_feature is {}'.format(sorted(list(categorical_feature))))\n"
     ]
    },
    {
     "name": "stdout",
     "output_type": "stream",
     "text": [
      "[CV] ............................. min_child_weight=170, total=   0.4s\n",
      "[CV] min_child_weight=200 ............................................\n"
     ]
    },
    {
     "name": "stderr",
     "output_type": "stream",
     "text": [
      "/opt/conda/lib/python3.6/site-packages/lightgbm/basic.py:1295: UserWarning: categorical_feature in Dataset is overridden.\n",
      "New categorical_feature is [1, 2, 3, 5, 6, 9, 12, 13]\n",
      "  'New categorical_feature is {}'.format(sorted(list(categorical_feature))))\n"
     ]
    },
    {
     "name": "stdout",
     "output_type": "stream",
     "text": [
      "[CV] ............................. min_child_weight=200, total=   0.3s\n",
      "[CV] min_child_weight=200 ............................................\n"
     ]
    },
    {
     "name": "stderr",
     "output_type": "stream",
     "text": [
      "/opt/conda/lib/python3.6/site-packages/lightgbm/basic.py:1295: UserWarning: categorical_feature in Dataset is overridden.\n",
      "New categorical_feature is [1, 2, 3, 5, 6, 9, 12, 13]\n",
      "  'New categorical_feature is {}'.format(sorted(list(categorical_feature))))\n"
     ]
    },
    {
     "name": "stdout",
     "output_type": "stream",
     "text": [
      "[CV] ............................. min_child_weight=200, total=   0.4s\n",
      "[CV] min_child_weight=200 ............................................\n"
     ]
    },
    {
     "name": "stderr",
     "output_type": "stream",
     "text": [
      "/opt/conda/lib/python3.6/site-packages/lightgbm/basic.py:1295: UserWarning: categorical_feature in Dataset is overridden.\n",
      "New categorical_feature is [1, 2, 3, 5, 6, 9, 12, 13]\n",
      "  'New categorical_feature is {}'.format(sorted(list(categorical_feature))))\n"
     ]
    },
    {
     "name": "stdout",
     "output_type": "stream",
     "text": [
      "[CV] ............................. min_child_weight=200, total=   0.5s\n",
      "[CV] min_child_weight=200 ............................................\n"
     ]
    },
    {
     "name": "stderr",
     "output_type": "stream",
     "text": [
      "/opt/conda/lib/python3.6/site-packages/lightgbm/basic.py:1295: UserWarning: categorical_feature in Dataset is overridden.\n",
      "New categorical_feature is [1, 2, 3, 5, 6, 9, 12, 13]\n",
      "  'New categorical_feature is {}'.format(sorted(list(categorical_feature))))\n"
     ]
    },
    {
     "name": "stdout",
     "output_type": "stream",
     "text": [
      "[CV] ............................. min_child_weight=200, total=   0.4s\n",
      "[CV] min_child_weight=200 ............................................\n"
     ]
    },
    {
     "name": "stderr",
     "output_type": "stream",
     "text": [
      "/opt/conda/lib/python3.6/site-packages/lightgbm/basic.py:1295: UserWarning: categorical_feature in Dataset is overridden.\n",
      "New categorical_feature is [1, 2, 3, 5, 6, 9, 12, 13]\n",
      "  'New categorical_feature is {}'.format(sorted(list(categorical_feature))))\n"
     ]
    },
    {
     "name": "stdout",
     "output_type": "stream",
     "text": [
      "[CV] ............................. min_child_weight=200, total=   0.4s\n",
      "[CV] min_child_weight=250 ............................................\n"
     ]
    },
    {
     "name": "stderr",
     "output_type": "stream",
     "text": [
      "/opt/conda/lib/python3.6/site-packages/lightgbm/basic.py:1295: UserWarning: categorical_feature in Dataset is overridden.\n",
      "New categorical_feature is [1, 2, 3, 5, 6, 9, 12, 13]\n",
      "  'New categorical_feature is {}'.format(sorted(list(categorical_feature))))\n"
     ]
    },
    {
     "name": "stdout",
     "output_type": "stream",
     "text": [
      "[CV] ............................. min_child_weight=250, total=   0.4s\n",
      "[CV] min_child_weight=250 ............................................\n"
     ]
    },
    {
     "name": "stderr",
     "output_type": "stream",
     "text": [
      "/opt/conda/lib/python3.6/site-packages/lightgbm/basic.py:1295: UserWarning: categorical_feature in Dataset is overridden.\n",
      "New categorical_feature is [1, 2, 3, 5, 6, 9, 12, 13]\n",
      "  'New categorical_feature is {}'.format(sorted(list(categorical_feature))))\n"
     ]
    },
    {
     "name": "stdout",
     "output_type": "stream",
     "text": [
      "[CV] ............................. min_child_weight=250, total=   0.4s\n",
      "[CV] min_child_weight=250 ............................................\n"
     ]
    },
    {
     "name": "stderr",
     "output_type": "stream",
     "text": [
      "/opt/conda/lib/python3.6/site-packages/lightgbm/basic.py:1295: UserWarning: categorical_feature in Dataset is overridden.\n",
      "New categorical_feature is [1, 2, 3, 5, 6, 9, 12, 13]\n",
      "  'New categorical_feature is {}'.format(sorted(list(categorical_feature))))\n"
     ]
    },
    {
     "name": "stdout",
     "output_type": "stream",
     "text": [
      "[CV] ............................. min_child_weight=250, total=   0.5s\n",
      "[CV] min_child_weight=250 ............................................\n"
     ]
    },
    {
     "name": "stderr",
     "output_type": "stream",
     "text": [
      "/opt/conda/lib/python3.6/site-packages/lightgbm/basic.py:1295: UserWarning: categorical_feature in Dataset is overridden.\n",
      "New categorical_feature is [1, 2, 3, 5, 6, 9, 12, 13]\n",
      "  'New categorical_feature is {}'.format(sorted(list(categorical_feature))))\n"
     ]
    },
    {
     "name": "stdout",
     "output_type": "stream",
     "text": [
      "[CV] ............................. min_child_weight=250, total=   0.4s\n",
      "[CV] min_child_weight=250 ............................................\n"
     ]
    },
    {
     "name": "stderr",
     "output_type": "stream",
     "text": [
      "/opt/conda/lib/python3.6/site-packages/lightgbm/basic.py:1295: UserWarning: categorical_feature in Dataset is overridden.\n",
      "New categorical_feature is [1, 2, 3, 5, 6, 9, 12, 13]\n",
      "  'New categorical_feature is {}'.format(sorted(list(categorical_feature))))\n"
     ]
    },
    {
     "name": "stdout",
     "output_type": "stream",
     "text": [
      "[CV] ............................. min_child_weight=250, total=   0.4s\n",
      "[CV] min_child_weight=400 ............................................\n"
     ]
    },
    {
     "name": "stderr",
     "output_type": "stream",
     "text": [
      "/opt/conda/lib/python3.6/site-packages/lightgbm/basic.py:1295: UserWarning: categorical_feature in Dataset is overridden.\n",
      "New categorical_feature is [1, 2, 3, 5, 6, 9, 12, 13]\n",
      "  'New categorical_feature is {}'.format(sorted(list(categorical_feature))))\n"
     ]
    },
    {
     "name": "stdout",
     "output_type": "stream",
     "text": [
      "[CV] ............................. min_child_weight=400, total=   0.4s\n",
      "[CV] min_child_weight=400 ............................................\n"
     ]
    },
    {
     "name": "stderr",
     "output_type": "stream",
     "text": [
      "/opt/conda/lib/python3.6/site-packages/lightgbm/basic.py:1295: UserWarning: categorical_feature in Dataset is overridden.\n",
      "New categorical_feature is [1, 2, 3, 5, 6, 9, 12, 13]\n",
      "  'New categorical_feature is {}'.format(sorted(list(categorical_feature))))\n"
     ]
    },
    {
     "name": "stdout",
     "output_type": "stream",
     "text": [
      "[CV] ............................. min_child_weight=400, total=   0.4s\n",
      "[CV] min_child_weight=400 ............................................\n"
     ]
    },
    {
     "name": "stderr",
     "output_type": "stream",
     "text": [
      "/opt/conda/lib/python3.6/site-packages/lightgbm/basic.py:1295: UserWarning: categorical_feature in Dataset is overridden.\n",
      "New categorical_feature is [1, 2, 3, 5, 6, 9, 12, 13]\n",
      "  'New categorical_feature is {}'.format(sorted(list(categorical_feature))))\n"
     ]
    },
    {
     "name": "stdout",
     "output_type": "stream",
     "text": [
      "[CV] ............................. min_child_weight=400, total=   0.4s\n",
      "[CV] min_child_weight=400 ............................................\n"
     ]
    },
    {
     "name": "stderr",
     "output_type": "stream",
     "text": [
      "/opt/conda/lib/python3.6/site-packages/lightgbm/basic.py:1295: UserWarning: categorical_feature in Dataset is overridden.\n",
      "New categorical_feature is [1, 2, 3, 5, 6, 9, 12, 13]\n",
      "  'New categorical_feature is {}'.format(sorted(list(categorical_feature))))\n"
     ]
    },
    {
     "name": "stdout",
     "output_type": "stream",
     "text": [
      "[CV] ............................. min_child_weight=400, total=   0.4s\n",
      "[CV] min_child_weight=400 ............................................\n"
     ]
    },
    {
     "name": "stderr",
     "output_type": "stream",
     "text": [
      "/opt/conda/lib/python3.6/site-packages/lightgbm/basic.py:1295: UserWarning: categorical_feature in Dataset is overridden.\n",
      "New categorical_feature is [1, 2, 3, 5, 6, 9, 12, 13]\n",
      "  'New categorical_feature is {}'.format(sorted(list(categorical_feature))))\n"
     ]
    },
    {
     "name": "stdout",
     "output_type": "stream",
     "text": [
      "[CV] ............................. min_child_weight=400, total=   0.4s\n",
      "[CV] min_child_weight=450 ............................................\n"
     ]
    },
    {
     "name": "stderr",
     "output_type": "stream",
     "text": [
      "/opt/conda/lib/python3.6/site-packages/lightgbm/basic.py:1295: UserWarning: categorical_feature in Dataset is overridden.\n",
      "New categorical_feature is [1, 2, 3, 5, 6, 9, 12, 13]\n",
      "  'New categorical_feature is {}'.format(sorted(list(categorical_feature))))\n"
     ]
    },
    {
     "name": "stdout",
     "output_type": "stream",
     "text": [
      "[CV] ............................. min_child_weight=450, total=   0.4s\n",
      "[CV] min_child_weight=450 ............................................\n"
     ]
    },
    {
     "name": "stderr",
     "output_type": "stream",
     "text": [
      "/opt/conda/lib/python3.6/site-packages/lightgbm/basic.py:1295: UserWarning: categorical_feature in Dataset is overridden.\n",
      "New categorical_feature is [1, 2, 3, 5, 6, 9, 12, 13]\n",
      "  'New categorical_feature is {}'.format(sorted(list(categorical_feature))))\n"
     ]
    },
    {
     "name": "stdout",
     "output_type": "stream",
     "text": [
      "[CV] ............................. min_child_weight=450, total=   0.4s\n",
      "[CV] min_child_weight=450 ............................................\n"
     ]
    },
    {
     "name": "stderr",
     "output_type": "stream",
     "text": [
      "/opt/conda/lib/python3.6/site-packages/lightgbm/basic.py:1295: UserWarning: categorical_feature in Dataset is overridden.\n",
      "New categorical_feature is [1, 2, 3, 5, 6, 9, 12, 13]\n",
      "  'New categorical_feature is {}'.format(sorted(list(categorical_feature))))\n"
     ]
    },
    {
     "name": "stdout",
     "output_type": "stream",
     "text": [
      "[CV] ............................. min_child_weight=450, total=   0.5s\n",
      "[CV] min_child_weight=450 ............................................\n"
     ]
    },
    {
     "name": "stderr",
     "output_type": "stream",
     "text": [
      "/opt/conda/lib/python3.6/site-packages/lightgbm/basic.py:1295: UserWarning: categorical_feature in Dataset is overridden.\n",
      "New categorical_feature is [1, 2, 3, 5, 6, 9, 12, 13]\n",
      "  'New categorical_feature is {}'.format(sorted(list(categorical_feature))))\n"
     ]
    },
    {
     "name": "stdout",
     "output_type": "stream",
     "text": [
      "[CV] ............................. min_child_weight=450, total=   0.5s\n",
      "[CV] min_child_weight=450 ............................................\n"
     ]
    },
    {
     "name": "stderr",
     "output_type": "stream",
     "text": [
      "/opt/conda/lib/python3.6/site-packages/lightgbm/basic.py:1295: UserWarning: categorical_feature in Dataset is overridden.\n",
      "New categorical_feature is [1, 2, 3, 5, 6, 9, 12, 13]\n",
      "  'New categorical_feature is {}'.format(sorted(list(categorical_feature))))\n"
     ]
    },
    {
     "name": "stdout",
     "output_type": "stream",
     "text": [
      "[CV] ............................. min_child_weight=450, total=   0.4s\n"
     ]
    },
    {
     "name": "stderr",
     "output_type": "stream",
     "text": [
      "[Parallel(n_jobs=1)]: Done  35 out of  35 | elapsed:   14.1s finished\n",
      "/opt/conda/lib/python3.6/site-packages/lightgbm/basic.py:1295: UserWarning: categorical_feature in Dataset is overridden.\n",
      "New categorical_feature is [1, 2, 3, 5, 6, 9, 12, 13]\n",
      "  'New categorical_feature is {}'.format(sorted(list(categorical_feature))))\n"
     ]
    },
    {
     "data": {
      "text/plain": [
       "GridSearchCV(cv=5, error_score=nan,\n",
       "             estimator=LGBMRegressor(bagging_fraction=0.8, bagging_freq=1,\n",
       "                                     boosting_type='gbdt', class_weight=None,\n",
       "                                     colsample_bytree=0.8, depth=2,\n",
       "                                     importance_type='split',\n",
       "                                     learning_rate=0.01, max_bin=1000,\n",
       "                                     max_depth=-1, metric='mse',\n",
       "                                     min_child_samples=20,\n",
       "                                     min_child_weight=0.001, min_split_gain=0.0,\n",
       "                                     n_estimators=99999, n_jobs=-1, n_threads=3,\n",
       "                                     nu...egression',\n",
       "                                     random_state=None, reg_alpha=0.0,\n",
       "                                     reg_lambda=0.0, scale_pos_weight=1,\n",
       "                                     silent=True, subsample=1.0,\n",
       "                                     subsample_for_bin=200000, subsample_freq=0,\n",
       "                                     verbose=0),\n",
       "             iid='deprecated', n_jobs=None,\n",
       "             param_grid={'min_child_weight': [120, 150, 170, 200, 250, 400,\n",
       "                                              450]},\n",
       "             pre_dispatch='2*n_jobs', refit=True, return_train_score=False,\n",
       "             scoring='neg_mean_squared_error', verbose=2)"
      ]
     },
     "execution_count": 12,
     "metadata": {},
     "output_type": "execute_result"
    }
   ],
   "source": [
    "grid_params = {\"min_child_weight\":[120,150,170,200,250,400,450,]}\n",
    "clf = lgb.LGBMRegressor(boosting_type=\"gbdt\",objective=\"regression\",learning_rate=0.01, \\\n",
    "                        bagging_freq=1,colsample_bytree=0.8, bagging_fraction=0.8, \\\n",
    "                        max_bin=1000, scale_pos_weight=1, \\\n",
    "                        metric= \"mse\", n_threads = 3,n_estimators= 99999, verbose = 0, \\\n",
    "                        depth = 2, num_leaves = 5)\n",
    "grid = GridSearchCV(estimator = clf, param_grid = grid_params, cv = 5, verbose = 2, scoring=\"neg_mean_squared_error\")\n",
    "grid.fit(X_train, y_train, eval_set = [(X_test, y_test)], early_stopping_rounds = 10, verbose = 0, categorical_feature = [1,2,3,5,6,9,12,13])"
   ]
  },
  {
   "cell_type": "code",
   "execution_count": 13,
   "metadata": {},
   "outputs": [
    {
     "data": {
      "text/plain": [
       "{'min_child_weight': 250}"
      ]
     },
     "execution_count": 13,
     "metadata": {},
     "output_type": "execute_result"
    }
   ],
   "source": [
    "grid.best_params_"
   ]
  },
  {
   "cell_type": "code",
   "execution_count": 14,
   "metadata": {},
   "outputs": [
    {
     "data": {
      "text/plain": [
       "-0.006217947880967147"
      ]
     },
     "execution_count": 14,
     "metadata": {},
     "output_type": "execute_result"
    }
   ],
   "source": [
    "grid.best_score_"
   ]
  },
  {
   "cell_type": "code",
   "execution_count": 15,
   "metadata": {},
   "outputs": [
    {
     "data": {
      "text/plain": [
       "0.006448070213684092"
      ]
     },
     "execution_count": 15,
     "metadata": {},
     "output_type": "execute_result"
    }
   ],
   "source": [
    "mean_squared_error(y_test, grid.best_estimator_.predict(X_test))"
   ]
  },
  {
   "cell_type": "code",
   "execution_count": 16,
   "metadata": {},
   "outputs": [
    {
     "name": "stdout",
     "output_type": "stream",
     "text": [
      "Fitting 5 folds for each of 25 candidates, totalling 125 fits\n",
      "[CV] bagging_fraction=0.3, colsample_bytree=0.4 ......................\n"
     ]
    },
    {
     "name": "stderr",
     "output_type": "stream",
     "text": [
      "[Parallel(n_jobs=1)]: Using backend SequentialBackend with 1 concurrent workers.\n",
      "/opt/conda/lib/python3.6/site-packages/lightgbm/basic.py:1295: UserWarning: categorical_feature in Dataset is overridden.\n",
      "New categorical_feature is [1, 2, 3, 5, 6, 9, 12, 13]\n",
      "  'New categorical_feature is {}'.format(sorted(list(categorical_feature))))\n"
     ]
    },
    {
     "name": "stdout",
     "output_type": "stream",
     "text": [
      "[CV] ....... bagging_fraction=0.3, colsample_bytree=0.4, total=   0.4s\n",
      "[CV] bagging_fraction=0.3, colsample_bytree=0.4 ......................\n"
     ]
    },
    {
     "name": "stderr",
     "output_type": "stream",
     "text": [
      "[Parallel(n_jobs=1)]: Done   1 out of   1 | elapsed:    0.4s remaining:    0.0s\n",
      "/opt/conda/lib/python3.6/site-packages/lightgbm/basic.py:1295: UserWarning: categorical_feature in Dataset is overridden.\n",
      "New categorical_feature is [1, 2, 3, 5, 6, 9, 12, 13]\n",
      "  'New categorical_feature is {}'.format(sorted(list(categorical_feature))))\n"
     ]
    },
    {
     "name": "stdout",
     "output_type": "stream",
     "text": [
      "[CV] ....... bagging_fraction=0.3, colsample_bytree=0.4, total=   0.5s\n",
      "[CV] bagging_fraction=0.3, colsample_bytree=0.4 ......................\n"
     ]
    },
    {
     "name": "stderr",
     "output_type": "stream",
     "text": [
      "/opt/conda/lib/python3.6/site-packages/lightgbm/basic.py:1295: UserWarning: categorical_feature in Dataset is overridden.\n",
      "New categorical_feature is [1, 2, 3, 5, 6, 9, 12, 13]\n",
      "  'New categorical_feature is {}'.format(sorted(list(categorical_feature))))\n"
     ]
    },
    {
     "name": "stdout",
     "output_type": "stream",
     "text": [
      "[CV] ....... bagging_fraction=0.3, colsample_bytree=0.4, total=   0.4s\n",
      "[CV] bagging_fraction=0.3, colsample_bytree=0.4 ......................\n"
     ]
    },
    {
     "name": "stderr",
     "output_type": "stream",
     "text": [
      "/opt/conda/lib/python3.6/site-packages/lightgbm/basic.py:1295: UserWarning: categorical_feature in Dataset is overridden.\n",
      "New categorical_feature is [1, 2, 3, 5, 6, 9, 12, 13]\n",
      "  'New categorical_feature is {}'.format(sorted(list(categorical_feature))))\n"
     ]
    },
    {
     "name": "stdout",
     "output_type": "stream",
     "text": [
      "[CV] ....... bagging_fraction=0.3, colsample_bytree=0.4, total=   0.5s\n",
      "[CV] bagging_fraction=0.3, colsample_bytree=0.4 ......................\n"
     ]
    },
    {
     "name": "stderr",
     "output_type": "stream",
     "text": [
      "/opt/conda/lib/python3.6/site-packages/lightgbm/basic.py:1295: UserWarning: categorical_feature in Dataset is overridden.\n",
      "New categorical_feature is [1, 2, 3, 5, 6, 9, 12, 13]\n",
      "  'New categorical_feature is {}'.format(sorted(list(categorical_feature))))\n"
     ]
    },
    {
     "name": "stdout",
     "output_type": "stream",
     "text": [
      "[CV] ....... bagging_fraction=0.3, colsample_bytree=0.4, total=   0.4s\n",
      "[CV] bagging_fraction=0.3, colsample_bytree=0.6 ......................\n"
     ]
    },
    {
     "name": "stderr",
     "output_type": "stream",
     "text": [
      "/opt/conda/lib/python3.6/site-packages/lightgbm/basic.py:1295: UserWarning: categorical_feature in Dataset is overridden.\n",
      "New categorical_feature is [1, 2, 3, 5, 6, 9, 12, 13]\n",
      "  'New categorical_feature is {}'.format(sorted(list(categorical_feature))))\n"
     ]
    },
    {
     "name": "stdout",
     "output_type": "stream",
     "text": [
      "[CV] ....... bagging_fraction=0.3, colsample_bytree=0.6, total=   0.4s\n",
      "[CV] bagging_fraction=0.3, colsample_bytree=0.6 ......................\n"
     ]
    },
    {
     "name": "stderr",
     "output_type": "stream",
     "text": [
      "/opt/conda/lib/python3.6/site-packages/lightgbm/basic.py:1295: UserWarning: categorical_feature in Dataset is overridden.\n",
      "New categorical_feature is [1, 2, 3, 5, 6, 9, 12, 13]\n",
      "  'New categorical_feature is {}'.format(sorted(list(categorical_feature))))\n"
     ]
    },
    {
     "name": "stdout",
     "output_type": "stream",
     "text": [
      "[CV] ....... bagging_fraction=0.3, colsample_bytree=0.6, total=   0.4s\n",
      "[CV] bagging_fraction=0.3, colsample_bytree=0.6 ......................\n"
     ]
    },
    {
     "name": "stderr",
     "output_type": "stream",
     "text": [
      "/opt/conda/lib/python3.6/site-packages/lightgbm/basic.py:1295: UserWarning: categorical_feature in Dataset is overridden.\n",
      "New categorical_feature is [1, 2, 3, 5, 6, 9, 12, 13]\n",
      "  'New categorical_feature is {}'.format(sorted(list(categorical_feature))))\n"
     ]
    },
    {
     "name": "stdout",
     "output_type": "stream",
     "text": [
      "[CV] ....... bagging_fraction=0.3, colsample_bytree=0.6, total=   0.4s\n",
      "[CV] bagging_fraction=0.3, colsample_bytree=0.6 ......................\n"
     ]
    },
    {
     "name": "stderr",
     "output_type": "stream",
     "text": [
      "/opt/conda/lib/python3.6/site-packages/lightgbm/basic.py:1295: UserWarning: categorical_feature in Dataset is overridden.\n",
      "New categorical_feature is [1, 2, 3, 5, 6, 9, 12, 13]\n",
      "  'New categorical_feature is {}'.format(sorted(list(categorical_feature))))\n"
     ]
    },
    {
     "name": "stdout",
     "output_type": "stream",
     "text": [
      "[CV] ....... bagging_fraction=0.3, colsample_bytree=0.6, total=   0.5s\n",
      "[CV] bagging_fraction=0.3, colsample_bytree=0.6 ......................\n"
     ]
    },
    {
     "name": "stderr",
     "output_type": "stream",
     "text": [
      "/opt/conda/lib/python3.6/site-packages/lightgbm/basic.py:1295: UserWarning: categorical_feature in Dataset is overridden.\n",
      "New categorical_feature is [1, 2, 3, 5, 6, 9, 12, 13]\n",
      "  'New categorical_feature is {}'.format(sorted(list(categorical_feature))))\n"
     ]
    },
    {
     "name": "stdout",
     "output_type": "stream",
     "text": [
      "[CV] ....... bagging_fraction=0.3, colsample_bytree=0.6, total=   0.4s\n",
      "[CV] bagging_fraction=0.3, colsample_bytree=0.8 ......................\n"
     ]
    },
    {
     "name": "stderr",
     "output_type": "stream",
     "text": [
      "/opt/conda/lib/python3.6/site-packages/lightgbm/basic.py:1295: UserWarning: categorical_feature in Dataset is overridden.\n",
      "New categorical_feature is [1, 2, 3, 5, 6, 9, 12, 13]\n",
      "  'New categorical_feature is {}'.format(sorted(list(categorical_feature))))\n"
     ]
    },
    {
     "name": "stdout",
     "output_type": "stream",
     "text": [
      "[CV] ....... bagging_fraction=0.3, colsample_bytree=0.8, total=   0.3s\n",
      "[CV] bagging_fraction=0.3, colsample_bytree=0.8 ......................\n"
     ]
    },
    {
     "name": "stderr",
     "output_type": "stream",
     "text": [
      "/opt/conda/lib/python3.6/site-packages/lightgbm/basic.py:1295: UserWarning: categorical_feature in Dataset is overridden.\n",
      "New categorical_feature is [1, 2, 3, 5, 6, 9, 12, 13]\n",
      "  'New categorical_feature is {}'.format(sorted(list(categorical_feature))))\n"
     ]
    },
    {
     "name": "stdout",
     "output_type": "stream",
     "text": [
      "[CV] ....... bagging_fraction=0.3, colsample_bytree=0.8, total=   0.5s\n",
      "[CV] bagging_fraction=0.3, colsample_bytree=0.8 ......................\n"
     ]
    },
    {
     "name": "stderr",
     "output_type": "stream",
     "text": [
      "/opt/conda/lib/python3.6/site-packages/lightgbm/basic.py:1295: UserWarning: categorical_feature in Dataset is overridden.\n",
      "New categorical_feature is [1, 2, 3, 5, 6, 9, 12, 13]\n",
      "  'New categorical_feature is {}'.format(sorted(list(categorical_feature))))\n"
     ]
    },
    {
     "name": "stdout",
     "output_type": "stream",
     "text": [
      "[CV] ....... bagging_fraction=0.3, colsample_bytree=0.8, total=   0.5s\n",
      "[CV] bagging_fraction=0.3, colsample_bytree=0.8 ......................\n"
     ]
    },
    {
     "name": "stderr",
     "output_type": "stream",
     "text": [
      "/opt/conda/lib/python3.6/site-packages/lightgbm/basic.py:1295: UserWarning: categorical_feature in Dataset is overridden.\n",
      "New categorical_feature is [1, 2, 3, 5, 6, 9, 12, 13]\n",
      "  'New categorical_feature is {}'.format(sorted(list(categorical_feature))))\n"
     ]
    },
    {
     "name": "stdout",
     "output_type": "stream",
     "text": [
      "[CV] ....... bagging_fraction=0.3, colsample_bytree=0.8, total=   0.4s\n",
      "[CV] bagging_fraction=0.3, colsample_bytree=0.8 ......................\n"
     ]
    },
    {
     "name": "stderr",
     "output_type": "stream",
     "text": [
      "/opt/conda/lib/python3.6/site-packages/lightgbm/basic.py:1295: UserWarning: categorical_feature in Dataset is overridden.\n",
      "New categorical_feature is [1, 2, 3, 5, 6, 9, 12, 13]\n",
      "  'New categorical_feature is {}'.format(sorted(list(categorical_feature))))\n"
     ]
    },
    {
     "name": "stdout",
     "output_type": "stream",
     "text": [
      "[CV] ....... bagging_fraction=0.3, colsample_bytree=0.8, total=   0.4s\n",
      "[CV] bagging_fraction=0.3, colsample_bytree=0.9 ......................\n"
     ]
    },
    {
     "name": "stderr",
     "output_type": "stream",
     "text": [
      "/opt/conda/lib/python3.6/site-packages/lightgbm/basic.py:1295: UserWarning: categorical_feature in Dataset is overridden.\n",
      "New categorical_feature is [1, 2, 3, 5, 6, 9, 12, 13]\n",
      "  'New categorical_feature is {}'.format(sorted(list(categorical_feature))))\n"
     ]
    },
    {
     "name": "stdout",
     "output_type": "stream",
     "text": [
      "[CV] ....... bagging_fraction=0.3, colsample_bytree=0.9, total=   0.3s\n",
      "[CV] bagging_fraction=0.3, colsample_bytree=0.9 ......................\n"
     ]
    },
    {
     "name": "stderr",
     "output_type": "stream",
     "text": [
      "/opt/conda/lib/python3.6/site-packages/lightgbm/basic.py:1295: UserWarning: categorical_feature in Dataset is overridden.\n",
      "New categorical_feature is [1, 2, 3, 5, 6, 9, 12, 13]\n",
      "  'New categorical_feature is {}'.format(sorted(list(categorical_feature))))\n"
     ]
    },
    {
     "name": "stdout",
     "output_type": "stream",
     "text": [
      "[CV] ....... bagging_fraction=0.3, colsample_bytree=0.9, total=   0.3s\n",
      "[CV] bagging_fraction=0.3, colsample_bytree=0.9 ......................\n"
     ]
    },
    {
     "name": "stderr",
     "output_type": "stream",
     "text": [
      "/opt/conda/lib/python3.6/site-packages/lightgbm/basic.py:1295: UserWarning: categorical_feature in Dataset is overridden.\n",
      "New categorical_feature is [1, 2, 3, 5, 6, 9, 12, 13]\n",
      "  'New categorical_feature is {}'.format(sorted(list(categorical_feature))))\n"
     ]
    },
    {
     "name": "stdout",
     "output_type": "stream",
     "text": [
      "[CV] ....... bagging_fraction=0.3, colsample_bytree=0.9, total=   0.4s\n",
      "[CV] bagging_fraction=0.3, colsample_bytree=0.9 ......................\n"
     ]
    },
    {
     "name": "stderr",
     "output_type": "stream",
     "text": [
      "/opt/conda/lib/python3.6/site-packages/lightgbm/basic.py:1295: UserWarning: categorical_feature in Dataset is overridden.\n",
      "New categorical_feature is [1, 2, 3, 5, 6, 9, 12, 13]\n",
      "  'New categorical_feature is {}'.format(sorted(list(categorical_feature))))\n"
     ]
    },
    {
     "name": "stdout",
     "output_type": "stream",
     "text": [
      "[CV] ....... bagging_fraction=0.3, colsample_bytree=0.9, total=   0.4s\n",
      "[CV] bagging_fraction=0.3, colsample_bytree=0.9 ......................\n"
     ]
    },
    {
     "name": "stderr",
     "output_type": "stream",
     "text": [
      "/opt/conda/lib/python3.6/site-packages/lightgbm/basic.py:1295: UserWarning: categorical_feature in Dataset is overridden.\n",
      "New categorical_feature is [1, 2, 3, 5, 6, 9, 12, 13]\n",
      "  'New categorical_feature is {}'.format(sorted(list(categorical_feature))))\n"
     ]
    },
    {
     "name": "stdout",
     "output_type": "stream",
     "text": [
      "[CV] ....... bagging_fraction=0.3, colsample_bytree=0.9, total=   0.4s\n",
      "[CV] bagging_fraction=0.3, colsample_bytree=1 ........................\n"
     ]
    },
    {
     "name": "stderr",
     "output_type": "stream",
     "text": [
      "/opt/conda/lib/python3.6/site-packages/lightgbm/basic.py:1295: UserWarning: categorical_feature in Dataset is overridden.\n",
      "New categorical_feature is [1, 2, 3, 5, 6, 9, 12, 13]\n",
      "  'New categorical_feature is {}'.format(sorted(list(categorical_feature))))\n"
     ]
    },
    {
     "name": "stdout",
     "output_type": "stream",
     "text": [
      "[CV] ......... bagging_fraction=0.3, colsample_bytree=1, total=   0.3s\n",
      "[CV] bagging_fraction=0.3, colsample_bytree=1 ........................\n"
     ]
    },
    {
     "name": "stderr",
     "output_type": "stream",
     "text": [
      "/opt/conda/lib/python3.6/site-packages/lightgbm/basic.py:1295: UserWarning: categorical_feature in Dataset is overridden.\n",
      "New categorical_feature is [1, 2, 3, 5, 6, 9, 12, 13]\n",
      "  'New categorical_feature is {}'.format(sorted(list(categorical_feature))))\n"
     ]
    },
    {
     "name": "stdout",
     "output_type": "stream",
     "text": [
      "[CV] ......... bagging_fraction=0.3, colsample_bytree=1, total=   0.5s\n",
      "[CV] bagging_fraction=0.3, colsample_bytree=1 ........................\n"
     ]
    },
    {
     "name": "stderr",
     "output_type": "stream",
     "text": [
      "/opt/conda/lib/python3.6/site-packages/lightgbm/basic.py:1295: UserWarning: categorical_feature in Dataset is overridden.\n",
      "New categorical_feature is [1, 2, 3, 5, 6, 9, 12, 13]\n",
      "  'New categorical_feature is {}'.format(sorted(list(categorical_feature))))\n"
     ]
    },
    {
     "name": "stdout",
     "output_type": "stream",
     "text": [
      "[CV] ......... bagging_fraction=0.3, colsample_bytree=1, total=   0.4s\n",
      "[CV] bagging_fraction=0.3, colsample_bytree=1 ........................\n"
     ]
    },
    {
     "name": "stderr",
     "output_type": "stream",
     "text": [
      "/opt/conda/lib/python3.6/site-packages/lightgbm/basic.py:1295: UserWarning: categorical_feature in Dataset is overridden.\n",
      "New categorical_feature is [1, 2, 3, 5, 6, 9, 12, 13]\n",
      "  'New categorical_feature is {}'.format(sorted(list(categorical_feature))))\n"
     ]
    },
    {
     "name": "stdout",
     "output_type": "stream",
     "text": [
      "[CV] ......... bagging_fraction=0.3, colsample_bytree=1, total=   0.4s\n",
      "[CV] bagging_fraction=0.3, colsample_bytree=1 ........................\n"
     ]
    },
    {
     "name": "stderr",
     "output_type": "stream",
     "text": [
      "/opt/conda/lib/python3.6/site-packages/lightgbm/basic.py:1295: UserWarning: categorical_feature in Dataset is overridden.\n",
      "New categorical_feature is [1, 2, 3, 5, 6, 9, 12, 13]\n",
      "  'New categorical_feature is {}'.format(sorted(list(categorical_feature))))\n"
     ]
    },
    {
     "name": "stdout",
     "output_type": "stream",
     "text": [
      "[CV] ......... bagging_fraction=0.3, colsample_bytree=1, total=   0.4s\n",
      "[CV] bagging_fraction=0.4, colsample_bytree=0.4 ......................\n"
     ]
    },
    {
     "name": "stderr",
     "output_type": "stream",
     "text": [
      "/opt/conda/lib/python3.6/site-packages/lightgbm/basic.py:1295: UserWarning: categorical_feature in Dataset is overridden.\n",
      "New categorical_feature is [1, 2, 3, 5, 6, 9, 12, 13]\n",
      "  'New categorical_feature is {}'.format(sorted(list(categorical_feature))))\n"
     ]
    },
    {
     "name": "stdout",
     "output_type": "stream",
     "text": [
      "[CV] ....... bagging_fraction=0.4, colsample_bytree=0.4, total=   0.3s\n",
      "[CV] bagging_fraction=0.4, colsample_bytree=0.4 ......................\n"
     ]
    },
    {
     "name": "stderr",
     "output_type": "stream",
     "text": [
      "/opt/conda/lib/python3.6/site-packages/lightgbm/basic.py:1295: UserWarning: categorical_feature in Dataset is overridden.\n",
      "New categorical_feature is [1, 2, 3, 5, 6, 9, 12, 13]\n",
      "  'New categorical_feature is {}'.format(sorted(list(categorical_feature))))\n"
     ]
    },
    {
     "name": "stdout",
     "output_type": "stream",
     "text": [
      "[CV] ....... bagging_fraction=0.4, colsample_bytree=0.4, total=   0.4s\n",
      "[CV] bagging_fraction=0.4, colsample_bytree=0.4 ......................\n"
     ]
    },
    {
     "name": "stderr",
     "output_type": "stream",
     "text": [
      "/opt/conda/lib/python3.6/site-packages/lightgbm/basic.py:1295: UserWarning: categorical_feature in Dataset is overridden.\n",
      "New categorical_feature is [1, 2, 3, 5, 6, 9, 12, 13]\n",
      "  'New categorical_feature is {}'.format(sorted(list(categorical_feature))))\n"
     ]
    },
    {
     "name": "stdout",
     "output_type": "stream",
     "text": [
      "[CV] ....... bagging_fraction=0.4, colsample_bytree=0.4, total=   0.4s\n",
      "[CV] bagging_fraction=0.4, colsample_bytree=0.4 ......................\n"
     ]
    },
    {
     "name": "stderr",
     "output_type": "stream",
     "text": [
      "/opt/conda/lib/python3.6/site-packages/lightgbm/basic.py:1295: UserWarning: categorical_feature in Dataset is overridden.\n",
      "New categorical_feature is [1, 2, 3, 5, 6, 9, 12, 13]\n",
      "  'New categorical_feature is {}'.format(sorted(list(categorical_feature))))\n"
     ]
    },
    {
     "name": "stdout",
     "output_type": "stream",
     "text": [
      "[CV] ....... bagging_fraction=0.4, colsample_bytree=0.4, total=   0.4s\n",
      "[CV] bagging_fraction=0.4, colsample_bytree=0.4 ......................\n"
     ]
    },
    {
     "name": "stderr",
     "output_type": "stream",
     "text": [
      "/opt/conda/lib/python3.6/site-packages/lightgbm/basic.py:1295: UserWarning: categorical_feature in Dataset is overridden.\n",
      "New categorical_feature is [1, 2, 3, 5, 6, 9, 12, 13]\n",
      "  'New categorical_feature is {}'.format(sorted(list(categorical_feature))))\n"
     ]
    },
    {
     "name": "stdout",
     "output_type": "stream",
     "text": [
      "[CV] ....... bagging_fraction=0.4, colsample_bytree=0.4, total=   0.4s\n",
      "[CV] bagging_fraction=0.4, colsample_bytree=0.6 ......................\n"
     ]
    },
    {
     "name": "stderr",
     "output_type": "stream",
     "text": [
      "/opt/conda/lib/python3.6/site-packages/lightgbm/basic.py:1295: UserWarning: categorical_feature in Dataset is overridden.\n",
      "New categorical_feature is [1, 2, 3, 5, 6, 9, 12, 13]\n",
      "  'New categorical_feature is {}'.format(sorted(list(categorical_feature))))\n"
     ]
    },
    {
     "name": "stdout",
     "output_type": "stream",
     "text": [
      "[CV] ....... bagging_fraction=0.4, colsample_bytree=0.6, total=   0.3s\n",
      "[CV] bagging_fraction=0.4, colsample_bytree=0.6 ......................\n"
     ]
    },
    {
     "name": "stderr",
     "output_type": "stream",
     "text": [
      "/opt/conda/lib/python3.6/site-packages/lightgbm/basic.py:1295: UserWarning: categorical_feature in Dataset is overridden.\n",
      "New categorical_feature is [1, 2, 3, 5, 6, 9, 12, 13]\n",
      "  'New categorical_feature is {}'.format(sorted(list(categorical_feature))))\n"
     ]
    },
    {
     "name": "stdout",
     "output_type": "stream",
     "text": [
      "[CV] ....... bagging_fraction=0.4, colsample_bytree=0.6, total=   0.5s\n",
      "[CV] bagging_fraction=0.4, colsample_bytree=0.6 ......................\n"
     ]
    },
    {
     "name": "stderr",
     "output_type": "stream",
     "text": [
      "/opt/conda/lib/python3.6/site-packages/lightgbm/basic.py:1295: UserWarning: categorical_feature in Dataset is overridden.\n",
      "New categorical_feature is [1, 2, 3, 5, 6, 9, 12, 13]\n",
      "  'New categorical_feature is {}'.format(sorted(list(categorical_feature))))\n"
     ]
    },
    {
     "name": "stdout",
     "output_type": "stream",
     "text": [
      "[CV] ....... bagging_fraction=0.4, colsample_bytree=0.6, total=   0.4s\n",
      "[CV] bagging_fraction=0.4, colsample_bytree=0.6 ......................\n"
     ]
    },
    {
     "name": "stderr",
     "output_type": "stream",
     "text": [
      "/opt/conda/lib/python3.6/site-packages/lightgbm/basic.py:1295: UserWarning: categorical_feature in Dataset is overridden.\n",
      "New categorical_feature is [1, 2, 3, 5, 6, 9, 12, 13]\n",
      "  'New categorical_feature is {}'.format(sorted(list(categorical_feature))))\n"
     ]
    },
    {
     "name": "stdout",
     "output_type": "stream",
     "text": [
      "[CV] ....... bagging_fraction=0.4, colsample_bytree=0.6, total=   0.4s\n",
      "[CV] bagging_fraction=0.4, colsample_bytree=0.6 ......................\n"
     ]
    },
    {
     "name": "stderr",
     "output_type": "stream",
     "text": [
      "/opt/conda/lib/python3.6/site-packages/lightgbm/basic.py:1295: UserWarning: categorical_feature in Dataset is overridden.\n",
      "New categorical_feature is [1, 2, 3, 5, 6, 9, 12, 13]\n",
      "  'New categorical_feature is {}'.format(sorted(list(categorical_feature))))\n"
     ]
    },
    {
     "name": "stdout",
     "output_type": "stream",
     "text": [
      "[CV] ....... bagging_fraction=0.4, colsample_bytree=0.6, total=   0.5s\n",
      "[CV] bagging_fraction=0.4, colsample_bytree=0.8 ......................\n"
     ]
    },
    {
     "name": "stderr",
     "output_type": "stream",
     "text": [
      "/opt/conda/lib/python3.6/site-packages/lightgbm/basic.py:1295: UserWarning: categorical_feature in Dataset is overridden.\n",
      "New categorical_feature is [1, 2, 3, 5, 6, 9, 12, 13]\n",
      "  'New categorical_feature is {}'.format(sorted(list(categorical_feature))))\n"
     ]
    },
    {
     "name": "stdout",
     "output_type": "stream",
     "text": [
      "[CV] ....... bagging_fraction=0.4, colsample_bytree=0.8, total=   0.4s\n",
      "[CV] bagging_fraction=0.4, colsample_bytree=0.8 ......................\n"
     ]
    },
    {
     "name": "stderr",
     "output_type": "stream",
     "text": [
      "/opt/conda/lib/python3.6/site-packages/lightgbm/basic.py:1295: UserWarning: categorical_feature in Dataset is overridden.\n",
      "New categorical_feature is [1, 2, 3, 5, 6, 9, 12, 13]\n",
      "  'New categorical_feature is {}'.format(sorted(list(categorical_feature))))\n"
     ]
    },
    {
     "name": "stdout",
     "output_type": "stream",
     "text": [
      "[CV] ....... bagging_fraction=0.4, colsample_bytree=0.8, total=   0.3s\n",
      "[CV] bagging_fraction=0.4, colsample_bytree=0.8 ......................\n"
     ]
    },
    {
     "name": "stderr",
     "output_type": "stream",
     "text": [
      "/opt/conda/lib/python3.6/site-packages/lightgbm/basic.py:1295: UserWarning: categorical_feature in Dataset is overridden.\n",
      "New categorical_feature is [1, 2, 3, 5, 6, 9, 12, 13]\n",
      "  'New categorical_feature is {}'.format(sorted(list(categorical_feature))))\n"
     ]
    },
    {
     "name": "stdout",
     "output_type": "stream",
     "text": [
      "[CV] ....... bagging_fraction=0.4, colsample_bytree=0.8, total=   0.4s\n",
      "[CV] bagging_fraction=0.4, colsample_bytree=0.8 ......................\n"
     ]
    },
    {
     "name": "stderr",
     "output_type": "stream",
     "text": [
      "/opt/conda/lib/python3.6/site-packages/lightgbm/basic.py:1295: UserWarning: categorical_feature in Dataset is overridden.\n",
      "New categorical_feature is [1, 2, 3, 5, 6, 9, 12, 13]\n",
      "  'New categorical_feature is {}'.format(sorted(list(categorical_feature))))\n"
     ]
    },
    {
     "name": "stdout",
     "output_type": "stream",
     "text": [
      "[CV] ....... bagging_fraction=0.4, colsample_bytree=0.8, total=   0.4s\n",
      "[CV] bagging_fraction=0.4, colsample_bytree=0.8 ......................\n"
     ]
    },
    {
     "name": "stderr",
     "output_type": "stream",
     "text": [
      "/opt/conda/lib/python3.6/site-packages/lightgbm/basic.py:1295: UserWarning: categorical_feature in Dataset is overridden.\n",
      "New categorical_feature is [1, 2, 3, 5, 6, 9, 12, 13]\n",
      "  'New categorical_feature is {}'.format(sorted(list(categorical_feature))))\n"
     ]
    },
    {
     "name": "stdout",
     "output_type": "stream",
     "text": [
      "[CV] ....... bagging_fraction=0.4, colsample_bytree=0.8, total=   0.4s\n",
      "[CV] bagging_fraction=0.4, colsample_bytree=0.9 ......................\n"
     ]
    },
    {
     "name": "stderr",
     "output_type": "stream",
     "text": [
      "/opt/conda/lib/python3.6/site-packages/lightgbm/basic.py:1295: UserWarning: categorical_feature in Dataset is overridden.\n",
      "New categorical_feature is [1, 2, 3, 5, 6, 9, 12, 13]\n",
      "  'New categorical_feature is {}'.format(sorted(list(categorical_feature))))\n"
     ]
    },
    {
     "name": "stdout",
     "output_type": "stream",
     "text": [
      "[CV] ....... bagging_fraction=0.4, colsample_bytree=0.9, total=   0.4s\n",
      "[CV] bagging_fraction=0.4, colsample_bytree=0.9 ......................\n"
     ]
    },
    {
     "name": "stderr",
     "output_type": "stream",
     "text": [
      "/opt/conda/lib/python3.6/site-packages/lightgbm/basic.py:1295: UserWarning: categorical_feature in Dataset is overridden.\n",
      "New categorical_feature is [1, 2, 3, 5, 6, 9, 12, 13]\n",
      "  'New categorical_feature is {}'.format(sorted(list(categorical_feature))))\n"
     ]
    },
    {
     "name": "stdout",
     "output_type": "stream",
     "text": [
      "[CV] ....... bagging_fraction=0.4, colsample_bytree=0.9, total=   0.3s\n",
      "[CV] bagging_fraction=0.4, colsample_bytree=0.9 ......................\n"
     ]
    },
    {
     "name": "stderr",
     "output_type": "stream",
     "text": [
      "/opt/conda/lib/python3.6/site-packages/lightgbm/basic.py:1295: UserWarning: categorical_feature in Dataset is overridden.\n",
      "New categorical_feature is [1, 2, 3, 5, 6, 9, 12, 13]\n",
      "  'New categorical_feature is {}'.format(sorted(list(categorical_feature))))\n"
     ]
    },
    {
     "name": "stdout",
     "output_type": "stream",
     "text": [
      "[CV] ....... bagging_fraction=0.4, colsample_bytree=0.9, total=   0.3s\n",
      "[CV] bagging_fraction=0.4, colsample_bytree=0.9 ......................\n"
     ]
    },
    {
     "name": "stderr",
     "output_type": "stream",
     "text": [
      "/opt/conda/lib/python3.6/site-packages/lightgbm/basic.py:1295: UserWarning: categorical_feature in Dataset is overridden.\n",
      "New categorical_feature is [1, 2, 3, 5, 6, 9, 12, 13]\n",
      "  'New categorical_feature is {}'.format(sorted(list(categorical_feature))))\n"
     ]
    },
    {
     "name": "stdout",
     "output_type": "stream",
     "text": [
      "[CV] ....... bagging_fraction=0.4, colsample_bytree=0.9, total=   0.4s\n",
      "[CV] bagging_fraction=0.4, colsample_bytree=0.9 ......................\n"
     ]
    },
    {
     "name": "stderr",
     "output_type": "stream",
     "text": [
      "/opt/conda/lib/python3.6/site-packages/lightgbm/basic.py:1295: UserWarning: categorical_feature in Dataset is overridden.\n",
      "New categorical_feature is [1, 2, 3, 5, 6, 9, 12, 13]\n",
      "  'New categorical_feature is {}'.format(sorted(list(categorical_feature))))\n"
     ]
    },
    {
     "name": "stdout",
     "output_type": "stream",
     "text": [
      "[CV] ....... bagging_fraction=0.4, colsample_bytree=0.9, total=   0.4s\n",
      "[CV] bagging_fraction=0.4, colsample_bytree=1 ........................\n"
     ]
    },
    {
     "name": "stderr",
     "output_type": "stream",
     "text": [
      "/opt/conda/lib/python3.6/site-packages/lightgbm/basic.py:1295: UserWarning: categorical_feature in Dataset is overridden.\n",
      "New categorical_feature is [1, 2, 3, 5, 6, 9, 12, 13]\n",
      "  'New categorical_feature is {}'.format(sorted(list(categorical_feature))))\n"
     ]
    },
    {
     "name": "stdout",
     "output_type": "stream",
     "text": [
      "[CV] ......... bagging_fraction=0.4, colsample_bytree=1, total=   0.4s\n",
      "[CV] bagging_fraction=0.4, colsample_bytree=1 ........................\n"
     ]
    },
    {
     "name": "stderr",
     "output_type": "stream",
     "text": [
      "/opt/conda/lib/python3.6/site-packages/lightgbm/basic.py:1295: UserWarning: categorical_feature in Dataset is overridden.\n",
      "New categorical_feature is [1, 2, 3, 5, 6, 9, 12, 13]\n",
      "  'New categorical_feature is {}'.format(sorted(list(categorical_feature))))\n"
     ]
    },
    {
     "name": "stdout",
     "output_type": "stream",
     "text": [
      "[CV] ......... bagging_fraction=0.4, colsample_bytree=1, total=   0.4s\n",
      "[CV] bagging_fraction=0.4, colsample_bytree=1 ........................\n"
     ]
    },
    {
     "name": "stderr",
     "output_type": "stream",
     "text": [
      "/opt/conda/lib/python3.6/site-packages/lightgbm/basic.py:1295: UserWarning: categorical_feature in Dataset is overridden.\n",
      "New categorical_feature is [1, 2, 3, 5, 6, 9, 12, 13]\n",
      "  'New categorical_feature is {}'.format(sorted(list(categorical_feature))))\n"
     ]
    },
    {
     "name": "stdout",
     "output_type": "stream",
     "text": [
      "[CV] ......... bagging_fraction=0.4, colsample_bytree=1, total=   0.4s\n",
      "[CV] bagging_fraction=0.4, colsample_bytree=1 ........................\n"
     ]
    },
    {
     "name": "stderr",
     "output_type": "stream",
     "text": [
      "/opt/conda/lib/python3.6/site-packages/lightgbm/basic.py:1295: UserWarning: categorical_feature in Dataset is overridden.\n",
      "New categorical_feature is [1, 2, 3, 5, 6, 9, 12, 13]\n",
      "  'New categorical_feature is {}'.format(sorted(list(categorical_feature))))\n"
     ]
    },
    {
     "name": "stdout",
     "output_type": "stream",
     "text": [
      "[CV] ......... bagging_fraction=0.4, colsample_bytree=1, total=   0.4s\n",
      "[CV] bagging_fraction=0.4, colsample_bytree=1 ........................\n"
     ]
    },
    {
     "name": "stderr",
     "output_type": "stream",
     "text": [
      "/opt/conda/lib/python3.6/site-packages/lightgbm/basic.py:1295: UserWarning: categorical_feature in Dataset is overridden.\n",
      "New categorical_feature is [1, 2, 3, 5, 6, 9, 12, 13]\n",
      "  'New categorical_feature is {}'.format(sorted(list(categorical_feature))))\n"
     ]
    },
    {
     "name": "stdout",
     "output_type": "stream",
     "text": [
      "[CV] ......... bagging_fraction=0.4, colsample_bytree=1, total=   0.3s\n",
      "[CV] bagging_fraction=0.6, colsample_bytree=0.4 ......................\n"
     ]
    },
    {
     "name": "stderr",
     "output_type": "stream",
     "text": [
      "/opt/conda/lib/python3.6/site-packages/lightgbm/basic.py:1295: UserWarning: categorical_feature in Dataset is overridden.\n",
      "New categorical_feature is [1, 2, 3, 5, 6, 9, 12, 13]\n",
      "  'New categorical_feature is {}'.format(sorted(list(categorical_feature))))\n"
     ]
    },
    {
     "name": "stdout",
     "output_type": "stream",
     "text": [
      "[CV] ....... bagging_fraction=0.6, colsample_bytree=0.4, total=   0.4s\n",
      "[CV] bagging_fraction=0.6, colsample_bytree=0.4 ......................\n"
     ]
    },
    {
     "name": "stderr",
     "output_type": "stream",
     "text": [
      "/opt/conda/lib/python3.6/site-packages/lightgbm/basic.py:1295: UserWarning: categorical_feature in Dataset is overridden.\n",
      "New categorical_feature is [1, 2, 3, 5, 6, 9, 12, 13]\n",
      "  'New categorical_feature is {}'.format(sorted(list(categorical_feature))))\n"
     ]
    },
    {
     "name": "stdout",
     "output_type": "stream",
     "text": [
      "[CV] ....... bagging_fraction=0.6, colsample_bytree=0.4, total=   0.5s\n",
      "[CV] bagging_fraction=0.6, colsample_bytree=0.4 ......................\n"
     ]
    },
    {
     "name": "stderr",
     "output_type": "stream",
     "text": [
      "/opt/conda/lib/python3.6/site-packages/lightgbm/basic.py:1295: UserWarning: categorical_feature in Dataset is overridden.\n",
      "New categorical_feature is [1, 2, 3, 5, 6, 9, 12, 13]\n",
      "  'New categorical_feature is {}'.format(sorted(list(categorical_feature))))\n"
     ]
    },
    {
     "name": "stdout",
     "output_type": "stream",
     "text": [
      "[CV] ....... bagging_fraction=0.6, colsample_bytree=0.4, total=   0.4s\n",
      "[CV] bagging_fraction=0.6, colsample_bytree=0.4 ......................\n"
     ]
    },
    {
     "name": "stderr",
     "output_type": "stream",
     "text": [
      "/opt/conda/lib/python3.6/site-packages/lightgbm/basic.py:1295: UserWarning: categorical_feature in Dataset is overridden.\n",
      "New categorical_feature is [1, 2, 3, 5, 6, 9, 12, 13]\n",
      "  'New categorical_feature is {}'.format(sorted(list(categorical_feature))))\n"
     ]
    },
    {
     "name": "stdout",
     "output_type": "stream",
     "text": [
      "[CV] ....... bagging_fraction=0.6, colsample_bytree=0.4, total=   0.4s\n",
      "[CV] bagging_fraction=0.6, colsample_bytree=0.4 ......................\n"
     ]
    },
    {
     "name": "stderr",
     "output_type": "stream",
     "text": [
      "/opt/conda/lib/python3.6/site-packages/lightgbm/basic.py:1295: UserWarning: categorical_feature in Dataset is overridden.\n",
      "New categorical_feature is [1, 2, 3, 5, 6, 9, 12, 13]\n",
      "  'New categorical_feature is {}'.format(sorted(list(categorical_feature))))\n"
     ]
    },
    {
     "name": "stdout",
     "output_type": "stream",
     "text": [
      "[CV] ....... bagging_fraction=0.6, colsample_bytree=0.4, total=   0.4s\n",
      "[CV] bagging_fraction=0.6, colsample_bytree=0.6 ......................\n"
     ]
    },
    {
     "name": "stderr",
     "output_type": "stream",
     "text": [
      "/opt/conda/lib/python3.6/site-packages/lightgbm/basic.py:1295: UserWarning: categorical_feature in Dataset is overridden.\n",
      "New categorical_feature is [1, 2, 3, 5, 6, 9, 12, 13]\n",
      "  'New categorical_feature is {}'.format(sorted(list(categorical_feature))))\n"
     ]
    },
    {
     "name": "stdout",
     "output_type": "stream",
     "text": [
      "[CV] ....... bagging_fraction=0.6, colsample_bytree=0.6, total=   0.3s\n",
      "[CV] bagging_fraction=0.6, colsample_bytree=0.6 ......................\n"
     ]
    },
    {
     "name": "stderr",
     "output_type": "stream",
     "text": [
      "/opt/conda/lib/python3.6/site-packages/lightgbm/basic.py:1295: UserWarning: categorical_feature in Dataset is overridden.\n",
      "New categorical_feature is [1, 2, 3, 5, 6, 9, 12, 13]\n",
      "  'New categorical_feature is {}'.format(sorted(list(categorical_feature))))\n"
     ]
    },
    {
     "name": "stdout",
     "output_type": "stream",
     "text": [
      "[CV] ....... bagging_fraction=0.6, colsample_bytree=0.6, total=   0.4s\n",
      "[CV] bagging_fraction=0.6, colsample_bytree=0.6 ......................\n"
     ]
    },
    {
     "name": "stderr",
     "output_type": "stream",
     "text": [
      "/opt/conda/lib/python3.6/site-packages/lightgbm/basic.py:1295: UserWarning: categorical_feature in Dataset is overridden.\n",
      "New categorical_feature is [1, 2, 3, 5, 6, 9, 12, 13]\n",
      "  'New categorical_feature is {}'.format(sorted(list(categorical_feature))))\n"
     ]
    },
    {
     "name": "stdout",
     "output_type": "stream",
     "text": [
      "[CV] ....... bagging_fraction=0.6, colsample_bytree=0.6, total=   0.3s\n",
      "[CV] bagging_fraction=0.6, colsample_bytree=0.6 ......................\n"
     ]
    },
    {
     "name": "stderr",
     "output_type": "stream",
     "text": [
      "/opt/conda/lib/python3.6/site-packages/lightgbm/basic.py:1295: UserWarning: categorical_feature in Dataset is overridden.\n",
      "New categorical_feature is [1, 2, 3, 5, 6, 9, 12, 13]\n",
      "  'New categorical_feature is {}'.format(sorted(list(categorical_feature))))\n"
     ]
    },
    {
     "name": "stdout",
     "output_type": "stream",
     "text": [
      "[CV] ....... bagging_fraction=0.6, colsample_bytree=0.6, total=   0.4s\n",
      "[CV] bagging_fraction=0.6, colsample_bytree=0.6 ......................\n"
     ]
    },
    {
     "name": "stderr",
     "output_type": "stream",
     "text": [
      "/opt/conda/lib/python3.6/site-packages/lightgbm/basic.py:1295: UserWarning: categorical_feature in Dataset is overridden.\n",
      "New categorical_feature is [1, 2, 3, 5, 6, 9, 12, 13]\n",
      "  'New categorical_feature is {}'.format(sorted(list(categorical_feature))))\n"
     ]
    },
    {
     "name": "stdout",
     "output_type": "stream",
     "text": [
      "[CV] ....... bagging_fraction=0.6, colsample_bytree=0.6, total=   0.3s\n",
      "[CV] bagging_fraction=0.6, colsample_bytree=0.8 ......................\n"
     ]
    },
    {
     "name": "stderr",
     "output_type": "stream",
     "text": [
      "/opt/conda/lib/python3.6/site-packages/lightgbm/basic.py:1295: UserWarning: categorical_feature in Dataset is overridden.\n",
      "New categorical_feature is [1, 2, 3, 5, 6, 9, 12, 13]\n",
      "  'New categorical_feature is {}'.format(sorted(list(categorical_feature))))\n"
     ]
    },
    {
     "name": "stdout",
     "output_type": "stream",
     "text": [
      "[CV] ....... bagging_fraction=0.6, colsample_bytree=0.8, total=   0.5s\n",
      "[CV] bagging_fraction=0.6, colsample_bytree=0.8 ......................\n"
     ]
    },
    {
     "name": "stderr",
     "output_type": "stream",
     "text": [
      "/opt/conda/lib/python3.6/site-packages/lightgbm/basic.py:1295: UserWarning: categorical_feature in Dataset is overridden.\n",
      "New categorical_feature is [1, 2, 3, 5, 6, 9, 12, 13]\n",
      "  'New categorical_feature is {}'.format(sorted(list(categorical_feature))))\n"
     ]
    },
    {
     "name": "stdout",
     "output_type": "stream",
     "text": [
      "[CV] ....... bagging_fraction=0.6, colsample_bytree=0.8, total=   0.3s\n",
      "[CV] bagging_fraction=0.6, colsample_bytree=0.8 ......................\n"
     ]
    },
    {
     "name": "stderr",
     "output_type": "stream",
     "text": [
      "/opt/conda/lib/python3.6/site-packages/lightgbm/basic.py:1295: UserWarning: categorical_feature in Dataset is overridden.\n",
      "New categorical_feature is [1, 2, 3, 5, 6, 9, 12, 13]\n",
      "  'New categorical_feature is {}'.format(sorted(list(categorical_feature))))\n"
     ]
    },
    {
     "name": "stdout",
     "output_type": "stream",
     "text": [
      "[CV] ....... bagging_fraction=0.6, colsample_bytree=0.8, total=   0.3s\n",
      "[CV] bagging_fraction=0.6, colsample_bytree=0.8 ......................\n"
     ]
    },
    {
     "name": "stderr",
     "output_type": "stream",
     "text": [
      "/opt/conda/lib/python3.6/site-packages/lightgbm/basic.py:1295: UserWarning: categorical_feature in Dataset is overridden.\n",
      "New categorical_feature is [1, 2, 3, 5, 6, 9, 12, 13]\n",
      "  'New categorical_feature is {}'.format(sorted(list(categorical_feature))))\n"
     ]
    },
    {
     "name": "stdout",
     "output_type": "stream",
     "text": [
      "[CV] ....... bagging_fraction=0.6, colsample_bytree=0.8, total=   0.3s\n",
      "[CV] bagging_fraction=0.6, colsample_bytree=0.8 ......................\n"
     ]
    },
    {
     "name": "stderr",
     "output_type": "stream",
     "text": [
      "/opt/conda/lib/python3.6/site-packages/lightgbm/basic.py:1295: UserWarning: categorical_feature in Dataset is overridden.\n",
      "New categorical_feature is [1, 2, 3, 5, 6, 9, 12, 13]\n",
      "  'New categorical_feature is {}'.format(sorted(list(categorical_feature))))\n"
     ]
    },
    {
     "name": "stdout",
     "output_type": "stream",
     "text": [
      "[CV] ....... bagging_fraction=0.6, colsample_bytree=0.8, total=   0.3s\n",
      "[CV] bagging_fraction=0.6, colsample_bytree=0.9 ......................\n"
     ]
    },
    {
     "name": "stderr",
     "output_type": "stream",
     "text": [
      "/opt/conda/lib/python3.6/site-packages/lightgbm/basic.py:1295: UserWarning: categorical_feature in Dataset is overridden.\n",
      "New categorical_feature is [1, 2, 3, 5, 6, 9, 12, 13]\n",
      "  'New categorical_feature is {}'.format(sorted(list(categorical_feature))))\n"
     ]
    },
    {
     "name": "stdout",
     "output_type": "stream",
     "text": [
      "[CV] ....... bagging_fraction=0.6, colsample_bytree=0.9, total=   0.3s\n",
      "[CV] bagging_fraction=0.6, colsample_bytree=0.9 ......................\n"
     ]
    },
    {
     "name": "stderr",
     "output_type": "stream",
     "text": [
      "/opt/conda/lib/python3.6/site-packages/lightgbm/basic.py:1295: UserWarning: categorical_feature in Dataset is overridden.\n",
      "New categorical_feature is [1, 2, 3, 5, 6, 9, 12, 13]\n",
      "  'New categorical_feature is {}'.format(sorted(list(categorical_feature))))\n"
     ]
    },
    {
     "name": "stdout",
     "output_type": "stream",
     "text": [
      "[CV] ....... bagging_fraction=0.6, colsample_bytree=0.9, total=   0.4s\n",
      "[CV] bagging_fraction=0.6, colsample_bytree=0.9 ......................\n"
     ]
    },
    {
     "name": "stderr",
     "output_type": "stream",
     "text": [
      "/opt/conda/lib/python3.6/site-packages/lightgbm/basic.py:1295: UserWarning: categorical_feature in Dataset is overridden.\n",
      "New categorical_feature is [1, 2, 3, 5, 6, 9, 12, 13]\n",
      "  'New categorical_feature is {}'.format(sorted(list(categorical_feature))))\n"
     ]
    },
    {
     "name": "stdout",
     "output_type": "stream",
     "text": [
      "[CV] ....... bagging_fraction=0.6, colsample_bytree=0.9, total=   0.3s\n",
      "[CV] bagging_fraction=0.6, colsample_bytree=0.9 ......................\n"
     ]
    },
    {
     "name": "stderr",
     "output_type": "stream",
     "text": [
      "/opt/conda/lib/python3.6/site-packages/lightgbm/basic.py:1295: UserWarning: categorical_feature in Dataset is overridden.\n",
      "New categorical_feature is [1, 2, 3, 5, 6, 9, 12, 13]\n",
      "  'New categorical_feature is {}'.format(sorted(list(categorical_feature))))\n"
     ]
    },
    {
     "name": "stdout",
     "output_type": "stream",
     "text": [
      "[CV] ....... bagging_fraction=0.6, colsample_bytree=0.9, total=   0.3s\n",
      "[CV] bagging_fraction=0.6, colsample_bytree=0.9 ......................\n"
     ]
    },
    {
     "name": "stderr",
     "output_type": "stream",
     "text": [
      "/opt/conda/lib/python3.6/site-packages/lightgbm/basic.py:1295: UserWarning: categorical_feature in Dataset is overridden.\n",
      "New categorical_feature is [1, 2, 3, 5, 6, 9, 12, 13]\n",
      "  'New categorical_feature is {}'.format(sorted(list(categorical_feature))))\n"
     ]
    },
    {
     "name": "stdout",
     "output_type": "stream",
     "text": [
      "[CV] ....... bagging_fraction=0.6, colsample_bytree=0.9, total=   0.4s\n",
      "[CV] bagging_fraction=0.6, colsample_bytree=1 ........................\n"
     ]
    },
    {
     "name": "stderr",
     "output_type": "stream",
     "text": [
      "/opt/conda/lib/python3.6/site-packages/lightgbm/basic.py:1295: UserWarning: categorical_feature in Dataset is overridden.\n",
      "New categorical_feature is [1, 2, 3, 5, 6, 9, 12, 13]\n",
      "  'New categorical_feature is {}'.format(sorted(list(categorical_feature))))\n"
     ]
    },
    {
     "name": "stdout",
     "output_type": "stream",
     "text": [
      "[CV] ......... bagging_fraction=0.6, colsample_bytree=1, total=   0.4s\n",
      "[CV] bagging_fraction=0.6, colsample_bytree=1 ........................\n"
     ]
    },
    {
     "name": "stderr",
     "output_type": "stream",
     "text": [
      "/opt/conda/lib/python3.6/site-packages/lightgbm/basic.py:1295: UserWarning: categorical_feature in Dataset is overridden.\n",
      "New categorical_feature is [1, 2, 3, 5, 6, 9, 12, 13]\n",
      "  'New categorical_feature is {}'.format(sorted(list(categorical_feature))))\n"
     ]
    },
    {
     "name": "stdout",
     "output_type": "stream",
     "text": [
      "[CV] ......... bagging_fraction=0.6, colsample_bytree=1, total=   0.3s\n",
      "[CV] bagging_fraction=0.6, colsample_bytree=1 ........................\n"
     ]
    },
    {
     "name": "stderr",
     "output_type": "stream",
     "text": [
      "/opt/conda/lib/python3.6/site-packages/lightgbm/basic.py:1295: UserWarning: categorical_feature in Dataset is overridden.\n",
      "New categorical_feature is [1, 2, 3, 5, 6, 9, 12, 13]\n",
      "  'New categorical_feature is {}'.format(sorted(list(categorical_feature))))\n"
     ]
    },
    {
     "name": "stdout",
     "output_type": "stream",
     "text": [
      "[CV] ......... bagging_fraction=0.6, colsample_bytree=1, total=   1.1s\n",
      "[CV] bagging_fraction=0.6, colsample_bytree=1 ........................\n"
     ]
    },
    {
     "name": "stderr",
     "output_type": "stream",
     "text": [
      "/opt/conda/lib/python3.6/site-packages/lightgbm/basic.py:1295: UserWarning: categorical_feature in Dataset is overridden.\n",
      "New categorical_feature is [1, 2, 3, 5, 6, 9, 12, 13]\n",
      "  'New categorical_feature is {}'.format(sorted(list(categorical_feature))))\n"
     ]
    },
    {
     "name": "stdout",
     "output_type": "stream",
     "text": [
      "[CV] ......... bagging_fraction=0.6, colsample_bytree=1, total=   0.6s\n",
      "[CV] bagging_fraction=0.6, colsample_bytree=1 ........................\n"
     ]
    },
    {
     "name": "stderr",
     "output_type": "stream",
     "text": [
      "/opt/conda/lib/python3.6/site-packages/lightgbm/basic.py:1295: UserWarning: categorical_feature in Dataset is overridden.\n",
      "New categorical_feature is [1, 2, 3, 5, 6, 9, 12, 13]\n",
      "  'New categorical_feature is {}'.format(sorted(list(categorical_feature))))\n"
     ]
    },
    {
     "name": "stdout",
     "output_type": "stream",
     "text": [
      "[CV] ......... bagging_fraction=0.6, colsample_bytree=1, total=   0.4s\n",
      "[CV] bagging_fraction=0.8, colsample_bytree=0.4 ......................\n"
     ]
    },
    {
     "name": "stderr",
     "output_type": "stream",
     "text": [
      "/opt/conda/lib/python3.6/site-packages/lightgbm/basic.py:1295: UserWarning: categorical_feature in Dataset is overridden.\n",
      "New categorical_feature is [1, 2, 3, 5, 6, 9, 12, 13]\n",
      "  'New categorical_feature is {}'.format(sorted(list(categorical_feature))))\n"
     ]
    },
    {
     "name": "stdout",
     "output_type": "stream",
     "text": [
      "[CV] ....... bagging_fraction=0.8, colsample_bytree=0.4, total=   0.5s\n",
      "[CV] bagging_fraction=0.8, colsample_bytree=0.4 ......................\n"
     ]
    },
    {
     "name": "stderr",
     "output_type": "stream",
     "text": [
      "/opt/conda/lib/python3.6/site-packages/lightgbm/basic.py:1295: UserWarning: categorical_feature in Dataset is overridden.\n",
      "New categorical_feature is [1, 2, 3, 5, 6, 9, 12, 13]\n",
      "  'New categorical_feature is {}'.format(sorted(list(categorical_feature))))\n"
     ]
    },
    {
     "name": "stdout",
     "output_type": "stream",
     "text": [
      "[CV] ....... bagging_fraction=0.8, colsample_bytree=0.4, total=   0.5s\n",
      "[CV] bagging_fraction=0.8, colsample_bytree=0.4 ......................\n"
     ]
    },
    {
     "name": "stderr",
     "output_type": "stream",
     "text": [
      "/opt/conda/lib/python3.6/site-packages/lightgbm/basic.py:1295: UserWarning: categorical_feature in Dataset is overridden.\n",
      "New categorical_feature is [1, 2, 3, 5, 6, 9, 12, 13]\n",
      "  'New categorical_feature is {}'.format(sorted(list(categorical_feature))))\n"
     ]
    },
    {
     "name": "stdout",
     "output_type": "stream",
     "text": [
      "[CV] ....... bagging_fraction=0.8, colsample_bytree=0.4, total=   0.5s\n",
      "[CV] bagging_fraction=0.8, colsample_bytree=0.4 ......................\n"
     ]
    },
    {
     "name": "stderr",
     "output_type": "stream",
     "text": [
      "/opt/conda/lib/python3.6/site-packages/lightgbm/basic.py:1295: UserWarning: categorical_feature in Dataset is overridden.\n",
      "New categorical_feature is [1, 2, 3, 5, 6, 9, 12, 13]\n",
      "  'New categorical_feature is {}'.format(sorted(list(categorical_feature))))\n"
     ]
    },
    {
     "name": "stdout",
     "output_type": "stream",
     "text": [
      "[CV] ....... bagging_fraction=0.8, colsample_bytree=0.4, total=   0.4s\n",
      "[CV] bagging_fraction=0.8, colsample_bytree=0.4 ......................\n"
     ]
    },
    {
     "name": "stderr",
     "output_type": "stream",
     "text": [
      "/opt/conda/lib/python3.6/site-packages/lightgbm/basic.py:1295: UserWarning: categorical_feature in Dataset is overridden.\n",
      "New categorical_feature is [1, 2, 3, 5, 6, 9, 12, 13]\n",
      "  'New categorical_feature is {}'.format(sorted(list(categorical_feature))))\n"
     ]
    },
    {
     "name": "stdout",
     "output_type": "stream",
     "text": [
      "[CV] ....... bagging_fraction=0.8, colsample_bytree=0.4, total=   0.5s\n",
      "[CV] bagging_fraction=0.8, colsample_bytree=0.6 ......................\n"
     ]
    },
    {
     "name": "stderr",
     "output_type": "stream",
     "text": [
      "/opt/conda/lib/python3.6/site-packages/lightgbm/basic.py:1295: UserWarning: categorical_feature in Dataset is overridden.\n",
      "New categorical_feature is [1, 2, 3, 5, 6, 9, 12, 13]\n",
      "  'New categorical_feature is {}'.format(sorted(list(categorical_feature))))\n"
     ]
    },
    {
     "name": "stdout",
     "output_type": "stream",
     "text": [
      "[CV] ....... bagging_fraction=0.8, colsample_bytree=0.6, total=   0.4s\n",
      "[CV] bagging_fraction=0.8, colsample_bytree=0.6 ......................\n"
     ]
    },
    {
     "name": "stderr",
     "output_type": "stream",
     "text": [
      "/opt/conda/lib/python3.6/site-packages/lightgbm/basic.py:1295: UserWarning: categorical_feature in Dataset is overridden.\n",
      "New categorical_feature is [1, 2, 3, 5, 6, 9, 12, 13]\n",
      "  'New categorical_feature is {}'.format(sorted(list(categorical_feature))))\n"
     ]
    },
    {
     "name": "stdout",
     "output_type": "stream",
     "text": [
      "[CV] ....... bagging_fraction=0.8, colsample_bytree=0.6, total=   0.5s\n",
      "[CV] bagging_fraction=0.8, colsample_bytree=0.6 ......................\n"
     ]
    },
    {
     "name": "stderr",
     "output_type": "stream",
     "text": [
      "/opt/conda/lib/python3.6/site-packages/lightgbm/basic.py:1295: UserWarning: categorical_feature in Dataset is overridden.\n",
      "New categorical_feature is [1, 2, 3, 5, 6, 9, 12, 13]\n",
      "  'New categorical_feature is {}'.format(sorted(list(categorical_feature))))\n"
     ]
    },
    {
     "name": "stdout",
     "output_type": "stream",
     "text": [
      "[CV] ....... bagging_fraction=0.8, colsample_bytree=0.6, total=   0.5s\n",
      "[CV] bagging_fraction=0.8, colsample_bytree=0.6 ......................\n"
     ]
    },
    {
     "name": "stderr",
     "output_type": "stream",
     "text": [
      "/opt/conda/lib/python3.6/site-packages/lightgbm/basic.py:1295: UserWarning: categorical_feature in Dataset is overridden.\n",
      "New categorical_feature is [1, 2, 3, 5, 6, 9, 12, 13]\n",
      "  'New categorical_feature is {}'.format(sorted(list(categorical_feature))))\n"
     ]
    },
    {
     "name": "stdout",
     "output_type": "stream",
     "text": [
      "[CV] ....... bagging_fraction=0.8, colsample_bytree=0.6, total=   0.7s\n",
      "[CV] bagging_fraction=0.8, colsample_bytree=0.6 ......................\n"
     ]
    },
    {
     "name": "stderr",
     "output_type": "stream",
     "text": [
      "/opt/conda/lib/python3.6/site-packages/lightgbm/basic.py:1295: UserWarning: categorical_feature in Dataset is overridden.\n",
      "New categorical_feature is [1, 2, 3, 5, 6, 9, 12, 13]\n",
      "  'New categorical_feature is {}'.format(sorted(list(categorical_feature))))\n"
     ]
    },
    {
     "name": "stdout",
     "output_type": "stream",
     "text": [
      "[CV] ....... bagging_fraction=0.8, colsample_bytree=0.6, total=   0.4s\n",
      "[CV] bagging_fraction=0.8, colsample_bytree=0.8 ......................\n"
     ]
    },
    {
     "name": "stderr",
     "output_type": "stream",
     "text": [
      "/opt/conda/lib/python3.6/site-packages/lightgbm/basic.py:1295: UserWarning: categorical_feature in Dataset is overridden.\n",
      "New categorical_feature is [1, 2, 3, 5, 6, 9, 12, 13]\n",
      "  'New categorical_feature is {}'.format(sorted(list(categorical_feature))))\n"
     ]
    },
    {
     "name": "stdout",
     "output_type": "stream",
     "text": [
      "[CV] ....... bagging_fraction=0.8, colsample_bytree=0.8, total=   0.5s\n",
      "[CV] bagging_fraction=0.8, colsample_bytree=0.8 ......................\n"
     ]
    },
    {
     "name": "stderr",
     "output_type": "stream",
     "text": [
      "/opt/conda/lib/python3.6/site-packages/lightgbm/basic.py:1295: UserWarning: categorical_feature in Dataset is overridden.\n",
      "New categorical_feature is [1, 2, 3, 5, 6, 9, 12, 13]\n",
      "  'New categorical_feature is {}'.format(sorted(list(categorical_feature))))\n"
     ]
    },
    {
     "name": "stdout",
     "output_type": "stream",
     "text": [
      "[CV] ....... bagging_fraction=0.8, colsample_bytree=0.8, total=   0.4s\n",
      "[CV] bagging_fraction=0.8, colsample_bytree=0.8 ......................\n"
     ]
    },
    {
     "name": "stderr",
     "output_type": "stream",
     "text": [
      "/opt/conda/lib/python3.6/site-packages/lightgbm/basic.py:1295: UserWarning: categorical_feature in Dataset is overridden.\n",
      "New categorical_feature is [1, 2, 3, 5, 6, 9, 12, 13]\n",
      "  'New categorical_feature is {}'.format(sorted(list(categorical_feature))))\n"
     ]
    },
    {
     "name": "stdout",
     "output_type": "stream",
     "text": [
      "[CV] ....... bagging_fraction=0.8, colsample_bytree=0.8, total=   0.5s\n",
      "[CV] bagging_fraction=0.8, colsample_bytree=0.8 ......................\n"
     ]
    },
    {
     "name": "stderr",
     "output_type": "stream",
     "text": [
      "/opt/conda/lib/python3.6/site-packages/lightgbm/basic.py:1295: UserWarning: categorical_feature in Dataset is overridden.\n",
      "New categorical_feature is [1, 2, 3, 5, 6, 9, 12, 13]\n",
      "  'New categorical_feature is {}'.format(sorted(list(categorical_feature))))\n"
     ]
    },
    {
     "name": "stdout",
     "output_type": "stream",
     "text": [
      "[CV] ....... bagging_fraction=0.8, colsample_bytree=0.8, total=   0.5s\n",
      "[CV] bagging_fraction=0.8, colsample_bytree=0.8 ......................\n"
     ]
    },
    {
     "name": "stderr",
     "output_type": "stream",
     "text": [
      "/opt/conda/lib/python3.6/site-packages/lightgbm/basic.py:1295: UserWarning: categorical_feature in Dataset is overridden.\n",
      "New categorical_feature is [1, 2, 3, 5, 6, 9, 12, 13]\n",
      "  'New categorical_feature is {}'.format(sorted(list(categorical_feature))))\n"
     ]
    },
    {
     "name": "stdout",
     "output_type": "stream",
     "text": [
      "[CV] ....... bagging_fraction=0.8, colsample_bytree=0.8, total=   0.4s\n",
      "[CV] bagging_fraction=0.8, colsample_bytree=0.9 ......................\n"
     ]
    },
    {
     "name": "stderr",
     "output_type": "stream",
     "text": [
      "/opt/conda/lib/python3.6/site-packages/lightgbm/basic.py:1295: UserWarning: categorical_feature in Dataset is overridden.\n",
      "New categorical_feature is [1, 2, 3, 5, 6, 9, 12, 13]\n",
      "  'New categorical_feature is {}'.format(sorted(list(categorical_feature))))\n"
     ]
    },
    {
     "name": "stdout",
     "output_type": "stream",
     "text": [
      "[CV] ....... bagging_fraction=0.8, colsample_bytree=0.9, total=   0.5s\n",
      "[CV] bagging_fraction=0.8, colsample_bytree=0.9 ......................\n"
     ]
    },
    {
     "name": "stderr",
     "output_type": "stream",
     "text": [
      "/opt/conda/lib/python3.6/site-packages/lightgbm/basic.py:1295: UserWarning: categorical_feature in Dataset is overridden.\n",
      "New categorical_feature is [1, 2, 3, 5, 6, 9, 12, 13]\n",
      "  'New categorical_feature is {}'.format(sorted(list(categorical_feature))))\n"
     ]
    },
    {
     "name": "stdout",
     "output_type": "stream",
     "text": [
      "[CV] ....... bagging_fraction=0.8, colsample_bytree=0.9, total=   0.4s\n",
      "[CV] bagging_fraction=0.8, colsample_bytree=0.9 ......................\n"
     ]
    },
    {
     "name": "stderr",
     "output_type": "stream",
     "text": [
      "/opt/conda/lib/python3.6/site-packages/lightgbm/basic.py:1295: UserWarning: categorical_feature in Dataset is overridden.\n",
      "New categorical_feature is [1, 2, 3, 5, 6, 9, 12, 13]\n",
      "  'New categorical_feature is {}'.format(sorted(list(categorical_feature))))\n"
     ]
    },
    {
     "name": "stdout",
     "output_type": "stream",
     "text": [
      "[CV] ....... bagging_fraction=0.8, colsample_bytree=0.9, total=   0.5s\n",
      "[CV] bagging_fraction=0.8, colsample_bytree=0.9 ......................\n"
     ]
    },
    {
     "name": "stderr",
     "output_type": "stream",
     "text": [
      "/opt/conda/lib/python3.6/site-packages/lightgbm/basic.py:1295: UserWarning: categorical_feature in Dataset is overridden.\n",
      "New categorical_feature is [1, 2, 3, 5, 6, 9, 12, 13]\n",
      "  'New categorical_feature is {}'.format(sorted(list(categorical_feature))))\n"
     ]
    },
    {
     "name": "stdout",
     "output_type": "stream",
     "text": [
      "[CV] ....... bagging_fraction=0.8, colsample_bytree=0.9, total=   0.4s\n",
      "[CV] bagging_fraction=0.8, colsample_bytree=0.9 ......................\n"
     ]
    },
    {
     "name": "stderr",
     "output_type": "stream",
     "text": [
      "/opt/conda/lib/python3.6/site-packages/lightgbm/basic.py:1295: UserWarning: categorical_feature in Dataset is overridden.\n",
      "New categorical_feature is [1, 2, 3, 5, 6, 9, 12, 13]\n",
      "  'New categorical_feature is {}'.format(sorted(list(categorical_feature))))\n"
     ]
    },
    {
     "name": "stdout",
     "output_type": "stream",
     "text": [
      "[CV] ....... bagging_fraction=0.8, colsample_bytree=0.9, total=   0.6s\n",
      "[CV] bagging_fraction=0.8, colsample_bytree=1 ........................\n"
     ]
    },
    {
     "name": "stderr",
     "output_type": "stream",
     "text": [
      "/opt/conda/lib/python3.6/site-packages/lightgbm/basic.py:1295: UserWarning: categorical_feature in Dataset is overridden.\n",
      "New categorical_feature is [1, 2, 3, 5, 6, 9, 12, 13]\n",
      "  'New categorical_feature is {}'.format(sorted(list(categorical_feature))))\n"
     ]
    },
    {
     "name": "stdout",
     "output_type": "stream",
     "text": [
      "[CV] ......... bagging_fraction=0.8, colsample_bytree=1, total=   0.4s\n",
      "[CV] bagging_fraction=0.8, colsample_bytree=1 ........................\n"
     ]
    },
    {
     "name": "stderr",
     "output_type": "stream",
     "text": [
      "/opt/conda/lib/python3.6/site-packages/lightgbm/basic.py:1295: UserWarning: categorical_feature in Dataset is overridden.\n",
      "New categorical_feature is [1, 2, 3, 5, 6, 9, 12, 13]\n",
      "  'New categorical_feature is {}'.format(sorted(list(categorical_feature))))\n"
     ]
    },
    {
     "name": "stdout",
     "output_type": "stream",
     "text": [
      "[CV] ......... bagging_fraction=0.8, colsample_bytree=1, total=   0.4s\n",
      "[CV] bagging_fraction=0.8, colsample_bytree=1 ........................\n"
     ]
    },
    {
     "name": "stderr",
     "output_type": "stream",
     "text": [
      "/opt/conda/lib/python3.6/site-packages/lightgbm/basic.py:1295: UserWarning: categorical_feature in Dataset is overridden.\n",
      "New categorical_feature is [1, 2, 3, 5, 6, 9, 12, 13]\n",
      "  'New categorical_feature is {}'.format(sorted(list(categorical_feature))))\n"
     ]
    },
    {
     "name": "stdout",
     "output_type": "stream",
     "text": [
      "[CV] ......... bagging_fraction=0.8, colsample_bytree=1, total=   0.5s\n",
      "[CV] bagging_fraction=0.8, colsample_bytree=1 ........................\n"
     ]
    },
    {
     "name": "stderr",
     "output_type": "stream",
     "text": [
      "/opt/conda/lib/python3.6/site-packages/lightgbm/basic.py:1295: UserWarning: categorical_feature in Dataset is overridden.\n",
      "New categorical_feature is [1, 2, 3, 5, 6, 9, 12, 13]\n",
      "  'New categorical_feature is {}'.format(sorted(list(categorical_feature))))\n"
     ]
    },
    {
     "name": "stdout",
     "output_type": "stream",
     "text": [
      "[CV] ......... bagging_fraction=0.8, colsample_bytree=1, total=   0.4s\n",
      "[CV] bagging_fraction=0.8, colsample_bytree=1 ........................\n"
     ]
    },
    {
     "name": "stderr",
     "output_type": "stream",
     "text": [
      "/opt/conda/lib/python3.6/site-packages/lightgbm/basic.py:1295: UserWarning: categorical_feature in Dataset is overridden.\n",
      "New categorical_feature is [1, 2, 3, 5, 6, 9, 12, 13]\n",
      "  'New categorical_feature is {}'.format(sorted(list(categorical_feature))))\n"
     ]
    },
    {
     "name": "stdout",
     "output_type": "stream",
     "text": [
      "[CV] ......... bagging_fraction=0.8, colsample_bytree=1, total=   0.4s\n",
      "[CV] bagging_fraction=1, colsample_bytree=0.4 ........................\n"
     ]
    },
    {
     "name": "stderr",
     "output_type": "stream",
     "text": [
      "/opt/conda/lib/python3.6/site-packages/lightgbm/basic.py:1295: UserWarning: categorical_feature in Dataset is overridden.\n",
      "New categorical_feature is [1, 2, 3, 5, 6, 9, 12, 13]\n",
      "  'New categorical_feature is {}'.format(sorted(list(categorical_feature))))\n"
     ]
    },
    {
     "name": "stdout",
     "output_type": "stream",
     "text": [
      "[CV] ......... bagging_fraction=1, colsample_bytree=0.4, total=   0.3s\n",
      "[CV] bagging_fraction=1, colsample_bytree=0.4 ........................\n"
     ]
    },
    {
     "name": "stderr",
     "output_type": "stream",
     "text": [
      "/opt/conda/lib/python3.6/site-packages/lightgbm/basic.py:1295: UserWarning: categorical_feature in Dataset is overridden.\n",
      "New categorical_feature is [1, 2, 3, 5, 6, 9, 12, 13]\n",
      "  'New categorical_feature is {}'.format(sorted(list(categorical_feature))))\n"
     ]
    },
    {
     "name": "stdout",
     "output_type": "stream",
     "text": [
      "[CV] ......... bagging_fraction=1, colsample_bytree=0.4, total=   0.4s\n",
      "[CV] bagging_fraction=1, colsample_bytree=0.4 ........................\n"
     ]
    },
    {
     "name": "stderr",
     "output_type": "stream",
     "text": [
      "/opt/conda/lib/python3.6/site-packages/lightgbm/basic.py:1295: UserWarning: categorical_feature in Dataset is overridden.\n",
      "New categorical_feature is [1, 2, 3, 5, 6, 9, 12, 13]\n",
      "  'New categorical_feature is {}'.format(sorted(list(categorical_feature))))\n"
     ]
    },
    {
     "name": "stdout",
     "output_type": "stream",
     "text": [
      "[CV] ......... bagging_fraction=1, colsample_bytree=0.4, total=   0.4s\n",
      "[CV] bagging_fraction=1, colsample_bytree=0.4 ........................\n"
     ]
    },
    {
     "name": "stderr",
     "output_type": "stream",
     "text": [
      "/opt/conda/lib/python3.6/site-packages/lightgbm/basic.py:1295: UserWarning: categorical_feature in Dataset is overridden.\n",
      "New categorical_feature is [1, 2, 3, 5, 6, 9, 12, 13]\n",
      "  'New categorical_feature is {}'.format(sorted(list(categorical_feature))))\n"
     ]
    },
    {
     "name": "stdout",
     "output_type": "stream",
     "text": [
      "[CV] ......... bagging_fraction=1, colsample_bytree=0.4, total=   0.3s\n",
      "[CV] bagging_fraction=1, colsample_bytree=0.4 ........................\n"
     ]
    },
    {
     "name": "stderr",
     "output_type": "stream",
     "text": [
      "/opt/conda/lib/python3.6/site-packages/lightgbm/basic.py:1295: UserWarning: categorical_feature in Dataset is overridden.\n",
      "New categorical_feature is [1, 2, 3, 5, 6, 9, 12, 13]\n",
      "  'New categorical_feature is {}'.format(sorted(list(categorical_feature))))\n"
     ]
    },
    {
     "name": "stdout",
     "output_type": "stream",
     "text": [
      "[CV] ......... bagging_fraction=1, colsample_bytree=0.4, total=   0.3s\n",
      "[CV] bagging_fraction=1, colsample_bytree=0.6 ........................\n"
     ]
    },
    {
     "name": "stderr",
     "output_type": "stream",
     "text": [
      "/opt/conda/lib/python3.6/site-packages/lightgbm/basic.py:1295: UserWarning: categorical_feature in Dataset is overridden.\n",
      "New categorical_feature is [1, 2, 3, 5, 6, 9, 12, 13]\n",
      "  'New categorical_feature is {}'.format(sorted(list(categorical_feature))))\n"
     ]
    },
    {
     "name": "stdout",
     "output_type": "stream",
     "text": [
      "[CV] ......... bagging_fraction=1, colsample_bytree=0.6, total=   0.3s\n",
      "[CV] bagging_fraction=1, colsample_bytree=0.6 ........................\n"
     ]
    },
    {
     "name": "stderr",
     "output_type": "stream",
     "text": [
      "/opt/conda/lib/python3.6/site-packages/lightgbm/basic.py:1295: UserWarning: categorical_feature in Dataset is overridden.\n",
      "New categorical_feature is [1, 2, 3, 5, 6, 9, 12, 13]\n",
      "  'New categorical_feature is {}'.format(sorted(list(categorical_feature))))\n"
     ]
    },
    {
     "name": "stdout",
     "output_type": "stream",
     "text": [
      "[CV] ......... bagging_fraction=1, colsample_bytree=0.6, total=   0.4s\n",
      "[CV] bagging_fraction=1, colsample_bytree=0.6 ........................\n"
     ]
    },
    {
     "name": "stderr",
     "output_type": "stream",
     "text": [
      "/opt/conda/lib/python3.6/site-packages/lightgbm/basic.py:1295: UserWarning: categorical_feature in Dataset is overridden.\n",
      "New categorical_feature is [1, 2, 3, 5, 6, 9, 12, 13]\n",
      "  'New categorical_feature is {}'.format(sorted(list(categorical_feature))))\n"
     ]
    },
    {
     "name": "stdout",
     "output_type": "stream",
     "text": [
      "[CV] ......... bagging_fraction=1, colsample_bytree=0.6, total=   0.4s\n",
      "[CV] bagging_fraction=1, colsample_bytree=0.6 ........................\n"
     ]
    },
    {
     "name": "stderr",
     "output_type": "stream",
     "text": [
      "/opt/conda/lib/python3.6/site-packages/lightgbm/basic.py:1295: UserWarning: categorical_feature in Dataset is overridden.\n",
      "New categorical_feature is [1, 2, 3, 5, 6, 9, 12, 13]\n",
      "  'New categorical_feature is {}'.format(sorted(list(categorical_feature))))\n"
     ]
    },
    {
     "name": "stdout",
     "output_type": "stream",
     "text": [
      "[CV] ......... bagging_fraction=1, colsample_bytree=0.6, total=   0.3s\n",
      "[CV] bagging_fraction=1, colsample_bytree=0.6 ........................\n"
     ]
    },
    {
     "name": "stderr",
     "output_type": "stream",
     "text": [
      "/opt/conda/lib/python3.6/site-packages/lightgbm/basic.py:1295: UserWarning: categorical_feature in Dataset is overridden.\n",
      "New categorical_feature is [1, 2, 3, 5, 6, 9, 12, 13]\n",
      "  'New categorical_feature is {}'.format(sorted(list(categorical_feature))))\n"
     ]
    },
    {
     "name": "stdout",
     "output_type": "stream",
     "text": [
      "[CV] ......... bagging_fraction=1, colsample_bytree=0.6, total=   0.3s\n",
      "[CV] bagging_fraction=1, colsample_bytree=0.8 ........................\n"
     ]
    },
    {
     "name": "stderr",
     "output_type": "stream",
     "text": [
      "/opt/conda/lib/python3.6/site-packages/lightgbm/basic.py:1295: UserWarning: categorical_feature in Dataset is overridden.\n",
      "New categorical_feature is [1, 2, 3, 5, 6, 9, 12, 13]\n",
      "  'New categorical_feature is {}'.format(sorted(list(categorical_feature))))\n"
     ]
    },
    {
     "name": "stdout",
     "output_type": "stream",
     "text": [
      "[CV] ......... bagging_fraction=1, colsample_bytree=0.8, total=   0.3s\n",
      "[CV] bagging_fraction=1, colsample_bytree=0.8 ........................\n"
     ]
    },
    {
     "name": "stderr",
     "output_type": "stream",
     "text": [
      "/opt/conda/lib/python3.6/site-packages/lightgbm/basic.py:1295: UserWarning: categorical_feature in Dataset is overridden.\n",
      "New categorical_feature is [1, 2, 3, 5, 6, 9, 12, 13]\n",
      "  'New categorical_feature is {}'.format(sorted(list(categorical_feature))))\n"
     ]
    },
    {
     "name": "stdout",
     "output_type": "stream",
     "text": [
      "[CV] ......... bagging_fraction=1, colsample_bytree=0.8, total=   0.4s\n",
      "[CV] bagging_fraction=1, colsample_bytree=0.8 ........................\n"
     ]
    },
    {
     "name": "stderr",
     "output_type": "stream",
     "text": [
      "/opt/conda/lib/python3.6/site-packages/lightgbm/basic.py:1295: UserWarning: categorical_feature in Dataset is overridden.\n",
      "New categorical_feature is [1, 2, 3, 5, 6, 9, 12, 13]\n",
      "  'New categorical_feature is {}'.format(sorted(list(categorical_feature))))\n"
     ]
    },
    {
     "name": "stdout",
     "output_type": "stream",
     "text": [
      "[CV] ......... bagging_fraction=1, colsample_bytree=0.8, total=   0.5s\n",
      "[CV] bagging_fraction=1, colsample_bytree=0.8 ........................\n"
     ]
    },
    {
     "name": "stderr",
     "output_type": "stream",
     "text": [
      "/opt/conda/lib/python3.6/site-packages/lightgbm/basic.py:1295: UserWarning: categorical_feature in Dataset is overridden.\n",
      "New categorical_feature is [1, 2, 3, 5, 6, 9, 12, 13]\n",
      "  'New categorical_feature is {}'.format(sorted(list(categorical_feature))))\n"
     ]
    },
    {
     "name": "stdout",
     "output_type": "stream",
     "text": [
      "[CV] ......... bagging_fraction=1, colsample_bytree=0.8, total=   0.3s\n",
      "[CV] bagging_fraction=1, colsample_bytree=0.8 ........................\n"
     ]
    },
    {
     "name": "stderr",
     "output_type": "stream",
     "text": [
      "/opt/conda/lib/python3.6/site-packages/lightgbm/basic.py:1295: UserWarning: categorical_feature in Dataset is overridden.\n",
      "New categorical_feature is [1, 2, 3, 5, 6, 9, 12, 13]\n",
      "  'New categorical_feature is {}'.format(sorted(list(categorical_feature))))\n"
     ]
    },
    {
     "name": "stdout",
     "output_type": "stream",
     "text": [
      "[CV] ......... bagging_fraction=1, colsample_bytree=0.8, total=   0.3s\n",
      "[CV] bagging_fraction=1, colsample_bytree=0.9 ........................\n"
     ]
    },
    {
     "name": "stderr",
     "output_type": "stream",
     "text": [
      "/opt/conda/lib/python3.6/site-packages/lightgbm/basic.py:1295: UserWarning: categorical_feature in Dataset is overridden.\n",
      "New categorical_feature is [1, 2, 3, 5, 6, 9, 12, 13]\n",
      "  'New categorical_feature is {}'.format(sorted(list(categorical_feature))))\n"
     ]
    },
    {
     "name": "stdout",
     "output_type": "stream",
     "text": [
      "[CV] ......... bagging_fraction=1, colsample_bytree=0.9, total=   0.4s\n",
      "[CV] bagging_fraction=1, colsample_bytree=0.9 ........................\n"
     ]
    },
    {
     "name": "stderr",
     "output_type": "stream",
     "text": [
      "/opt/conda/lib/python3.6/site-packages/lightgbm/basic.py:1295: UserWarning: categorical_feature in Dataset is overridden.\n",
      "New categorical_feature is [1, 2, 3, 5, 6, 9, 12, 13]\n",
      "  'New categorical_feature is {}'.format(sorted(list(categorical_feature))))\n"
     ]
    },
    {
     "name": "stdout",
     "output_type": "stream",
     "text": [
      "[CV] ......... bagging_fraction=1, colsample_bytree=0.9, total=   0.4s\n",
      "[CV] bagging_fraction=1, colsample_bytree=0.9 ........................\n"
     ]
    },
    {
     "name": "stderr",
     "output_type": "stream",
     "text": [
      "/opt/conda/lib/python3.6/site-packages/lightgbm/basic.py:1295: UserWarning: categorical_feature in Dataset is overridden.\n",
      "New categorical_feature is [1, 2, 3, 5, 6, 9, 12, 13]\n",
      "  'New categorical_feature is {}'.format(sorted(list(categorical_feature))))\n"
     ]
    },
    {
     "name": "stdout",
     "output_type": "stream",
     "text": [
      "[CV] ......... bagging_fraction=1, colsample_bytree=0.9, total=   0.4s\n",
      "[CV] bagging_fraction=1, colsample_bytree=0.9 ........................\n"
     ]
    },
    {
     "name": "stderr",
     "output_type": "stream",
     "text": [
      "/opt/conda/lib/python3.6/site-packages/lightgbm/basic.py:1295: UserWarning: categorical_feature in Dataset is overridden.\n",
      "New categorical_feature is [1, 2, 3, 5, 6, 9, 12, 13]\n",
      "  'New categorical_feature is {}'.format(sorted(list(categorical_feature))))\n"
     ]
    },
    {
     "name": "stdout",
     "output_type": "stream",
     "text": [
      "[CV] ......... bagging_fraction=1, colsample_bytree=0.9, total=   0.3s\n",
      "[CV] bagging_fraction=1, colsample_bytree=0.9 ........................\n"
     ]
    },
    {
     "name": "stderr",
     "output_type": "stream",
     "text": [
      "/opt/conda/lib/python3.6/site-packages/lightgbm/basic.py:1295: UserWarning: categorical_feature in Dataset is overridden.\n",
      "New categorical_feature is [1, 2, 3, 5, 6, 9, 12, 13]\n",
      "  'New categorical_feature is {}'.format(sorted(list(categorical_feature))))\n"
     ]
    },
    {
     "name": "stdout",
     "output_type": "stream",
     "text": [
      "[CV] ......... bagging_fraction=1, colsample_bytree=0.9, total=   0.3s\n",
      "[CV] bagging_fraction=1, colsample_bytree=1 ..........................\n"
     ]
    },
    {
     "name": "stderr",
     "output_type": "stream",
     "text": [
      "/opt/conda/lib/python3.6/site-packages/lightgbm/basic.py:1295: UserWarning: categorical_feature in Dataset is overridden.\n",
      "New categorical_feature is [1, 2, 3, 5, 6, 9, 12, 13]\n",
      "  'New categorical_feature is {}'.format(sorted(list(categorical_feature))))\n"
     ]
    },
    {
     "name": "stdout",
     "output_type": "stream",
     "text": [
      "[CV] ........... bagging_fraction=1, colsample_bytree=1, total=   0.4s\n",
      "[CV] bagging_fraction=1, colsample_bytree=1 ..........................\n"
     ]
    },
    {
     "name": "stderr",
     "output_type": "stream",
     "text": [
      "/opt/conda/lib/python3.6/site-packages/lightgbm/basic.py:1295: UserWarning: categorical_feature in Dataset is overridden.\n",
      "New categorical_feature is [1, 2, 3, 5, 6, 9, 12, 13]\n",
      "  'New categorical_feature is {}'.format(sorted(list(categorical_feature))))\n"
     ]
    },
    {
     "name": "stdout",
     "output_type": "stream",
     "text": [
      "[CV] ........... bagging_fraction=1, colsample_bytree=1, total=   0.5s\n",
      "[CV] bagging_fraction=1, colsample_bytree=1 ..........................\n"
     ]
    },
    {
     "name": "stderr",
     "output_type": "stream",
     "text": [
      "/opt/conda/lib/python3.6/site-packages/lightgbm/basic.py:1295: UserWarning: categorical_feature in Dataset is overridden.\n",
      "New categorical_feature is [1, 2, 3, 5, 6, 9, 12, 13]\n",
      "  'New categorical_feature is {}'.format(sorted(list(categorical_feature))))\n"
     ]
    },
    {
     "name": "stdout",
     "output_type": "stream",
     "text": [
      "[CV] ........... bagging_fraction=1, colsample_bytree=1, total=   0.4s\n",
      "[CV] bagging_fraction=1, colsample_bytree=1 ..........................\n"
     ]
    },
    {
     "name": "stderr",
     "output_type": "stream",
     "text": [
      "/opt/conda/lib/python3.6/site-packages/lightgbm/basic.py:1295: UserWarning: categorical_feature in Dataset is overridden.\n",
      "New categorical_feature is [1, 2, 3, 5, 6, 9, 12, 13]\n",
      "  'New categorical_feature is {}'.format(sorted(list(categorical_feature))))\n"
     ]
    },
    {
     "name": "stdout",
     "output_type": "stream",
     "text": [
      "[CV] ........... bagging_fraction=1, colsample_bytree=1, total=   0.4s\n",
      "[CV] bagging_fraction=1, colsample_bytree=1 ..........................\n"
     ]
    },
    {
     "name": "stderr",
     "output_type": "stream",
     "text": [
      "/opt/conda/lib/python3.6/site-packages/lightgbm/basic.py:1295: UserWarning: categorical_feature in Dataset is overridden.\n",
      "New categorical_feature is [1, 2, 3, 5, 6, 9, 12, 13]\n",
      "  'New categorical_feature is {}'.format(sorted(list(categorical_feature))))\n"
     ]
    },
    {
     "name": "stdout",
     "output_type": "stream",
     "text": [
      "[CV] ........... bagging_fraction=1, colsample_bytree=1, total=   0.4s\n"
     ]
    },
    {
     "name": "stderr",
     "output_type": "stream",
     "text": [
      "[Parallel(n_jobs=1)]: Done 125 out of 125 | elapsed:   50.6s finished\n",
      "/opt/conda/lib/python3.6/site-packages/lightgbm/basic.py:1295: UserWarning: categorical_feature in Dataset is overridden.\n",
      "New categorical_feature is [1, 2, 3, 5, 6, 9, 12, 13]\n",
      "  'New categorical_feature is {}'.format(sorted(list(categorical_feature))))\n"
     ]
    },
    {
     "data": {
      "text/plain": [
       "GridSearchCV(cv=5, error_score=nan,\n",
       "             estimator=LGBMRegressor(bagging_freq=1, boosting_type='gbdt',\n",
       "                                     class_weight=None, colsample_bytree=1.0,\n",
       "                                     depth=2, importance_type='split',\n",
       "                                     learning_rate=0.01, max_bin=1000,\n",
       "                                     max_depth=-1, metric='mse',\n",
       "                                     min_child_samples=20, min_child_weight=250,\n",
       "                                     min_split_gain=0.0, n_estimators=99999,\n",
       "                                     n_jobs=-1, n_threads=3, num_leaves=5,\n",
       "                                     objective='r...\n",
       "                                     reg_alpha=0.0, reg_lambda=0.0,\n",
       "                                     scale_pos_weight=1, silent=True,\n",
       "                                     subsample=1.0, subsample_for_bin=200000,\n",
       "                                     subsample_freq=0, verbose=0),\n",
       "             iid='deprecated', n_jobs=None,\n",
       "             param_grid={'bagging_fraction': [0.3, 0.4, 0.6, 0.8, 1],\n",
       "                         'colsample_bytree': [0.4, 0.6, 0.8, 0.9, 1]},\n",
       "             pre_dispatch='2*n_jobs', refit=True, return_train_score=False,\n",
       "             scoring='neg_mean_squared_error', verbose=2)"
      ]
     },
     "execution_count": 16,
     "metadata": {},
     "output_type": "execute_result"
    }
   ],
   "source": [
    "grid_params = {\"colsample_bytree\":[0.4,0.6,0.8,0.9,1],\"bagging_fraction\":[0.3,0.4,0.6,0.8,1]}\n",
    "clf = lgb.LGBMRegressor(boosting_type=\"gbdt\",objective=\"regression\",learning_rate=0.01, \\\n",
    "                        bagging_freq=1, \\\n",
    "                        max_bin=1000, scale_pos_weight=1, \\\n",
    "                        metric= \"mse\", n_threads = 3,n_estimators= 99999, verbose = 0, \\\n",
    "                        depth = 2, num_leaves = 5, min_child_weight = 250,)\n",
    "grid = GridSearchCV(estimator = clf, param_grid = grid_params, cv = 5, verbose = 2, scoring=\"neg_mean_squared_error\")\n",
    "grid.fit(X_train, y_train, eval_set = [(X_test, y_test)], early_stopping_rounds = 10, verbose = 0, categorical_feature = [1,2,3,5,6,9,12,13])"
   ]
  },
  {
   "cell_type": "code",
   "execution_count": 17,
   "metadata": {},
   "outputs": [
    {
     "data": {
      "text/plain": [
       "{'bagging_fraction': 0.8, 'colsample_bytree': 0.9}"
      ]
     },
     "execution_count": 17,
     "metadata": {},
     "output_type": "execute_result"
    }
   ],
   "source": [
    "grid.best_params_"
   ]
  },
  {
   "cell_type": "code",
   "execution_count": 18,
   "metadata": {},
   "outputs": [
    {
     "data": {
      "text/plain": [
       "-0.006198258285215179"
      ]
     },
     "execution_count": 18,
     "metadata": {},
     "output_type": "execute_result"
    }
   ],
   "source": [
    "grid.best_score_"
   ]
  },
  {
   "cell_type": "code",
   "execution_count": 19,
   "metadata": {},
   "outputs": [
    {
     "data": {
      "text/plain": [
       "0.006433414062505371"
      ]
     },
     "execution_count": 19,
     "metadata": {},
     "output_type": "execute_result"
    }
   ],
   "source": [
    "mean_squared_error(y_test, grid.best_estimator_.predict(X_test))"
   ]
  },
  {
   "cell_type": "markdown",
   "metadata": {},
   "source": [
    "Now, most of the parameters have been optimised, so lower the learning rate and rerun the algorithm:"
   ]
  },
  {
   "cell_type": "code",
   "execution_count": 20,
   "metadata": {},
   "outputs": [
    {
     "name": "stderr",
     "output_type": "stream",
     "text": [
      "/opt/conda/lib/python3.6/site-packages/lightgbm/basic.py:1295: UserWarning: categorical_feature in Dataset is overridden.\n",
      "New categorical_feature is [1, 2, 3, 5, 6, 9, 12, 13]\n",
      "  'New categorical_feature is {}'.format(sorted(list(categorical_feature))))\n"
     ]
    },
    {
     "name": "stdout",
     "output_type": "stream",
     "text": [
      "Training until validation scores don't improve for 30 rounds\n",
      "[2]\tvalid_0's l2: 0.0100897\n",
      "[4]\tvalid_0's l2: 0.010077\n",
      "[6]\tvalid_0's l2: 0.0100646\n",
      "[8]\tvalid_0's l2: 0.0100522\n",
      "[10]\tvalid_0's l2: 0.0100396\n",
      "[12]\tvalid_0's l2: 0.0100267\n",
      "[14]\tvalid_0's l2: 0.0100138\n",
      "[16]\tvalid_0's l2: 0.0100016\n",
      "[18]\tvalid_0's l2: 0.00998898\n",
      "[20]\tvalid_0's l2: 0.00997645\n",
      "[22]\tvalid_0's l2: 0.00996376\n",
      "[24]\tvalid_0's l2: 0.00995444\n",
      "[26]\tvalid_0's l2: 0.00994182\n",
      "[28]\tvalid_0's l2: 0.00992928\n",
      "[30]\tvalid_0's l2: 0.00991661\n",
      "[32]\tvalid_0's l2: 0.00990436\n",
      "[34]\tvalid_0's l2: 0.00989254\n",
      "[36]\tvalid_0's l2: 0.00988019\n",
      "[38]\tvalid_0's l2: 0.00986837\n",
      "[40]\tvalid_0's l2: 0.00985589\n",
      "[42]\tvalid_0's l2: 0.00984395\n",
      "[44]\tvalid_0's l2: 0.00983205\n",
      "[46]\tvalid_0's l2: 0.00981992\n",
      "[48]\tvalid_0's l2: 0.00980793\n",
      "[50]\tvalid_0's l2: 0.00979623\n",
      "[52]\tvalid_0's l2: 0.00978414\n",
      "[54]\tvalid_0's l2: 0.00977262\n",
      "[56]\tvalid_0's l2: 0.00976086\n",
      "[58]\tvalid_0's l2: 0.00974887\n",
      "[60]\tvalid_0's l2: 0.00973715\n",
      "[62]\tvalid_0's l2: 0.0097252\n",
      "[64]\tvalid_0's l2: 0.00971394\n",
      "[66]\tvalid_0's l2: 0.00970251\n",
      "[68]\tvalid_0's l2: 0.00969124\n",
      "[70]\tvalid_0's l2: 0.00968016\n",
      "[72]\tvalid_0's l2: 0.00966861\n",
      "[74]\tvalid_0's l2: 0.00965768\n",
      "[76]\tvalid_0's l2: 0.00964605\n",
      "[78]\tvalid_0's l2: 0.00963521\n",
      "[80]\tvalid_0's l2: 0.00962416\n",
      "[82]\tvalid_0's l2: 0.00961328\n",
      "[84]\tvalid_0's l2: 0.009602\n",
      "[86]\tvalid_0's l2: 0.00959076\n",
      "[88]\tvalid_0's l2: 0.0095797\n",
      "[90]\tvalid_0's l2: 0.00956878\n",
      "[92]\tvalid_0's l2: 0.00955782\n",
      "[94]\tvalid_0's l2: 0.00954655\n",
      "[96]\tvalid_0's l2: 0.00953573\n",
      "[98]\tvalid_0's l2: 0.0095251\n",
      "[100]\tvalid_0's l2: 0.0095144\n",
      "[102]\tvalid_0's l2: 0.00950431\n",
      "[104]\tvalid_0's l2: 0.00949386\n",
      "[106]\tvalid_0's l2: 0.00948322\n",
      "[108]\tvalid_0's l2: 0.00947266\n",
      "[110]\tvalid_0's l2: 0.00946174\n",
      "[112]\tvalid_0's l2: 0.00945139\n",
      "[114]\tvalid_0's l2: 0.00944068\n",
      "[116]\tvalid_0's l2: 0.0094304\n",
      "[118]\tvalid_0's l2: 0.0094205\n",
      "[120]\tvalid_0's l2: 0.00940988\n",
      "[122]\tvalid_0's l2: 0.00939977\n",
      "[124]\tvalid_0's l2: 0.00938949\n",
      "[126]\tvalid_0's l2: 0.00937899\n",
      "[128]\tvalid_0's l2: 0.00936925\n",
      "[130]\tvalid_0's l2: 0.0093589\n",
      "[132]\tvalid_0's l2: 0.00934931\n",
      "[134]\tvalid_0's l2: 0.00933935\n",
      "[136]\tvalid_0's l2: 0.00932902\n",
      "[138]\tvalid_0's l2: 0.00931895\n",
      "[140]\tvalid_0's l2: 0.00930929\n",
      "[142]\tvalid_0's l2: 0.00929914\n",
      "[144]\tvalid_0's l2: 0.00928991\n",
      "[146]\tvalid_0's l2: 0.00928047\n",
      "[148]\tvalid_0's l2: 0.00927057\n",
      "[150]\tvalid_0's l2: 0.00926061\n",
      "[152]\tvalid_0's l2: 0.00925092\n",
      "[154]\tvalid_0's l2: 0.00924131\n",
      "[156]\tvalid_0's l2: 0.00923167\n",
      "[158]\tvalid_0's l2: 0.0092218\n",
      "[160]\tvalid_0's l2: 0.00921235\n",
      "[162]\tvalid_0's l2: 0.00920297\n",
      "[164]\tvalid_0's l2: 0.00919363\n",
      "[166]\tvalid_0's l2: 0.00918497\n",
      "[168]\tvalid_0's l2: 0.0091755\n",
      "[170]\tvalid_0's l2: 0.00916622\n",
      "[172]\tvalid_0's l2: 0.00915669\n",
      "[174]\tvalid_0's l2: 0.00914769\n",
      "[176]\tvalid_0's l2: 0.0091384\n",
      "[178]\tvalid_0's l2: 0.00912903\n",
      "[180]\tvalid_0's l2: 0.00911933\n",
      "[182]\tvalid_0's l2: 0.00911015\n",
      "[184]\tvalid_0's l2: 0.00910145\n",
      "[186]\tvalid_0's l2: 0.00909258\n",
      "[188]\tvalid_0's l2: 0.00908334\n",
      "[190]\tvalid_0's l2: 0.00907403\n",
      "[192]\tvalid_0's l2: 0.00906577\n",
      "[194]\tvalid_0's l2: 0.00905616\n",
      "[196]\tvalid_0's l2: 0.00904721\n",
      "[198]\tvalid_0's l2: 0.00903871\n",
      "[200]\tvalid_0's l2: 0.00902985\n",
      "[202]\tvalid_0's l2: 0.00902073\n",
      "[204]\tvalid_0's l2: 0.00901187\n",
      "[206]\tvalid_0's l2: 0.00900278\n",
      "[208]\tvalid_0's l2: 0.0089937\n",
      "[210]\tvalid_0's l2: 0.00898513\n",
      "[212]\tvalid_0's l2: 0.00897626\n",
      "[214]\tvalid_0's l2: 0.00896793\n",
      "[216]\tvalid_0's l2: 0.00896003\n",
      "[218]\tvalid_0's l2: 0.00895121\n",
      "[220]\tvalid_0's l2: 0.00894256\n",
      "[222]\tvalid_0's l2: 0.00893369\n",
      "[224]\tvalid_0's l2: 0.00892437\n",
      "[226]\tvalid_0's l2: 0.00891594\n",
      "[228]\tvalid_0's l2: 0.00890715\n",
      "[230]\tvalid_0's l2: 0.00889863\n",
      "[232]\tvalid_0's l2: 0.00889012\n",
      "[234]\tvalid_0's l2: 0.00888202\n",
      "[236]\tvalid_0's l2: 0.00887364\n",
      "[238]\tvalid_0's l2: 0.008865\n",
      "[240]\tvalid_0's l2: 0.00885631\n",
      "[242]\tvalid_0's l2: 0.008848\n",
      "[244]\tvalid_0's l2: 0.00883993\n",
      "[246]\tvalid_0's l2: 0.00883158\n",
      "[248]\tvalid_0's l2: 0.00882331\n",
      "[250]\tvalid_0's l2: 0.00881492\n",
      "[252]\tvalid_0's l2: 0.00880695\n",
      "[254]\tvalid_0's l2: 0.00879834\n",
      "[256]\tvalid_0's l2: 0.00879031\n",
      "[258]\tvalid_0's l2: 0.00878189\n",
      "[260]\tvalid_0's l2: 0.00877384\n",
      "[262]\tvalid_0's l2: 0.0087653\n",
      "[264]\tvalid_0's l2: 0.0087574\n",
      "[266]\tvalid_0's l2: 0.00874926\n",
      "[268]\tvalid_0's l2: 0.00874142\n",
      "[270]\tvalid_0's l2: 0.0087338\n",
      "[272]\tvalid_0's l2: 0.00872537\n",
      "[274]\tvalid_0's l2: 0.00871728\n",
      "[276]\tvalid_0's l2: 0.0087094\n",
      "[278]\tvalid_0's l2: 0.00870162\n",
      "[280]\tvalid_0's l2: 0.00869395\n",
      "[282]\tvalid_0's l2: 0.00868573\n",
      "[284]\tvalid_0's l2: 0.00867792\n",
      "[286]\tvalid_0's l2: 0.00867036\n",
      "[288]\tvalid_0's l2: 0.00866264\n",
      "[290]\tvalid_0's l2: 0.00865528\n",
      "[292]\tvalid_0's l2: 0.00864782\n",
      "[294]\tvalid_0's l2: 0.00864047\n",
      "[296]\tvalid_0's l2: 0.00863286\n",
      "[298]\tvalid_0's l2: 0.00862528\n",
      "[300]\tvalid_0's l2: 0.00861727\n",
      "[302]\tvalid_0's l2: 0.00860955\n",
      "[304]\tvalid_0's l2: 0.00860154\n",
      "[306]\tvalid_0's l2: 0.00859387\n",
      "[308]\tvalid_0's l2: 0.00858651\n",
      "[310]\tvalid_0's l2: 0.00857951\n",
      "[312]\tvalid_0's l2: 0.00857256\n",
      "[314]\tvalid_0's l2: 0.0085653\n",
      "[316]\tvalid_0's l2: 0.00855757\n",
      "[318]\tvalid_0's l2: 0.0085508\n",
      "[320]\tvalid_0's l2: 0.00854306\n",
      "[322]\tvalid_0's l2: 0.00853548\n",
      "[324]\tvalid_0's l2: 0.00852765\n",
      "[326]\tvalid_0's l2: 0.00852048\n",
      "[328]\tvalid_0's l2: 0.00851334\n",
      "[330]\tvalid_0's l2: 0.00850607\n",
      "[332]\tvalid_0's l2: 0.0084989\n",
      "[334]\tvalid_0's l2: 0.00849155\n",
      "[336]\tvalid_0's l2: 0.00848435\n",
      "[338]\tvalid_0's l2: 0.00847716\n",
      "[340]\tvalid_0's l2: 0.00847006\n",
      "[342]\tvalid_0's l2: 0.00846274\n",
      "[344]\tvalid_0's l2: 0.00845561\n",
      "[346]\tvalid_0's l2: 0.00844902\n",
      "[348]\tvalid_0's l2: 0.00844178\n",
      "[350]\tvalid_0's l2: 0.00843555\n",
      "[352]\tvalid_0's l2: 0.00842872\n",
      "[354]\tvalid_0's l2: 0.00842219\n",
      "[356]\tvalid_0's l2: 0.008415\n",
      "[358]\tvalid_0's l2: 0.00840813\n",
      "[360]\tvalid_0's l2: 0.00840161\n",
      "[362]\tvalid_0's l2: 0.00839474\n",
      "[364]\tvalid_0's l2: 0.00838819\n",
      "[366]\tvalid_0's l2: 0.00838178\n",
      "[368]\tvalid_0's l2: 0.00837683\n",
      "[370]\tvalid_0's l2: 0.00836988\n",
      "[372]\tvalid_0's l2: 0.00836322\n",
      "[374]\tvalid_0's l2: 0.00835692\n",
      "[376]\tvalid_0's l2: 0.00835\n",
      "[378]\tvalid_0's l2: 0.00834293\n",
      "[380]\tvalid_0's l2: 0.00833681\n",
      "[382]\tvalid_0's l2: 0.00833031\n",
      "[384]\tvalid_0's l2: 0.00832318\n",
      "[386]\tvalid_0's l2: 0.0083163\n",
      "[388]\tvalid_0's l2: 0.00830929\n",
      "[390]\tvalid_0's l2: 0.00830269\n",
      "[392]\tvalid_0's l2: 0.00829644\n",
      "[394]\tvalid_0's l2: 0.00828965\n",
      "[396]\tvalid_0's l2: 0.00828296\n",
      "[398]\tvalid_0's l2: 0.0082765\n",
      "[400]\tvalid_0's l2: 0.00827038\n",
      "[402]\tvalid_0's l2: 0.00826414\n",
      "[404]\tvalid_0's l2: 0.00825761\n",
      "[406]\tvalid_0's l2: 0.00825095\n",
      "[408]\tvalid_0's l2: 0.00824441\n",
      "[410]\tvalid_0's l2: 0.0082382\n",
      "[412]\tvalid_0's l2: 0.00823154\n",
      "[414]\tvalid_0's l2: 0.00822512\n",
      "[416]\tvalid_0's l2: 0.00821863\n",
      "[418]\tvalid_0's l2: 0.00821231\n",
      "[420]\tvalid_0's l2: 0.00820645\n",
      "[422]\tvalid_0's l2: 0.00820017\n",
      "[424]\tvalid_0's l2: 0.0081938\n",
      "[426]\tvalid_0's l2: 0.00818742\n",
      "[428]\tvalid_0's l2: 0.00818094\n",
      "[430]\tvalid_0's l2: 0.00817527\n",
      "[432]\tvalid_0's l2: 0.00816918\n",
      "[434]\tvalid_0's l2: 0.00816306\n",
      "[436]\tvalid_0's l2: 0.00815689\n",
      "[438]\tvalid_0's l2: 0.00815091\n",
      "[440]\tvalid_0's l2: 0.00814473\n",
      "[442]\tvalid_0's l2: 0.0081388\n",
      "[444]\tvalid_0's l2: 0.00813329\n",
      "[446]\tvalid_0's l2: 0.00812701\n",
      "[448]\tvalid_0's l2: 0.00812138\n",
      "[450]\tvalid_0's l2: 0.00811631\n",
      "[452]\tvalid_0's l2: 0.0081103\n",
      "[454]\tvalid_0's l2: 0.00810453\n",
      "[456]\tvalid_0's l2: 0.00809934\n",
      "[458]\tvalid_0's l2: 0.00809333\n",
      "[460]\tvalid_0's l2: 0.00808729\n",
      "[462]\tvalid_0's l2: 0.00808174\n",
      "[464]\tvalid_0's l2: 0.00807637\n",
      "[466]\tvalid_0's l2: 0.00807109\n",
      "[468]\tvalid_0's l2: 0.00806496\n",
      "[470]\tvalid_0's l2: 0.00805975\n",
      "[472]\tvalid_0's l2: 0.00805402\n",
      "[474]\tvalid_0's l2: 0.00804809\n",
      "[476]\tvalid_0's l2: 0.00804226\n",
      "[478]\tvalid_0's l2: 0.00803664\n",
      "[480]\tvalid_0's l2: 0.00803185\n",
      "[482]\tvalid_0's l2: 0.00802589\n",
      "[484]\tvalid_0's l2: 0.00801998\n",
      "[486]\tvalid_0's l2: 0.00801449\n",
      "[488]\tvalid_0's l2: 0.00800925\n",
      "[490]\tvalid_0's l2: 0.00800358\n",
      "[492]\tvalid_0's l2: 0.00799844\n",
      "[494]\tvalid_0's l2: 0.00799333\n",
      "[496]\tvalid_0's l2: 0.00798813\n",
      "[498]\tvalid_0's l2: 0.00798322\n",
      "[500]\tvalid_0's l2: 0.00797761\n",
      "[502]\tvalid_0's l2: 0.00797229\n",
      "[504]\tvalid_0's l2: 0.00796699\n",
      "[506]\tvalid_0's l2: 0.00796177\n",
      "[508]\tvalid_0's l2: 0.00795665\n",
      "[510]\tvalid_0's l2: 0.00795128\n",
      "[512]\tvalid_0's l2: 0.00794545\n",
      "[514]\tvalid_0's l2: 0.00794032\n",
      "[516]\tvalid_0's l2: 0.00793502\n",
      "[518]\tvalid_0's l2: 0.00793019\n",
      "[520]\tvalid_0's l2: 0.00792513\n",
      "[522]\tvalid_0's l2: 0.00792005\n",
      "[524]\tvalid_0's l2: 0.00791451\n",
      "[526]\tvalid_0's l2: 0.00790957\n",
      "[528]\tvalid_0's l2: 0.00790421\n",
      "[530]\tvalid_0's l2: 0.00789944\n",
      "[532]\tvalid_0's l2: 0.00789446\n",
      "[534]\tvalid_0's l2: 0.00788939\n",
      "[536]\tvalid_0's l2: 0.00788498\n",
      "[538]\tvalid_0's l2: 0.00787987\n",
      "[540]\tvalid_0's l2: 0.00787454\n",
      "[542]\tvalid_0's l2: 0.00786944\n",
      "[544]\tvalid_0's l2: 0.00786454\n",
      "[546]\tvalid_0's l2: 0.00785969\n",
      "[548]\tvalid_0's l2: 0.00785501\n",
      "[550]\tvalid_0's l2: 0.00785035\n",
      "[552]\tvalid_0's l2: 0.00784541\n",
      "[554]\tvalid_0's l2: 0.00783992\n",
      "[556]\tvalid_0's l2: 0.00783535\n",
      "[558]\tvalid_0's l2: 0.00783043\n",
      "[560]\tvalid_0's l2: 0.00782565\n",
      "[562]\tvalid_0's l2: 0.00782037\n",
      "[564]\tvalid_0's l2: 0.00781545\n",
      "[566]\tvalid_0's l2: 0.00781067\n",
      "[568]\tvalid_0's l2: 0.00780586\n",
      "[570]\tvalid_0's l2: 0.0078007\n",
      "[572]\tvalid_0's l2: 0.00779558\n",
      "[574]\tvalid_0's l2: 0.00779068\n",
      "[576]\tvalid_0's l2: 0.007786\n",
      "[578]\tvalid_0's l2: 0.00778138\n",
      "[580]\tvalid_0's l2: 0.00777685\n",
      "[582]\tvalid_0's l2: 0.00777239\n",
      "[584]\tvalid_0's l2: 0.007768\n",
      "[586]\tvalid_0's l2: 0.00776335\n",
      "[588]\tvalid_0's l2: 0.00775894\n",
      "[590]\tvalid_0's l2: 0.00775414\n",
      "[592]\tvalid_0's l2: 0.00774974\n",
      "[594]\tvalid_0's l2: 0.00774533\n",
      "[596]\tvalid_0's l2: 0.00774129\n",
      "[598]\tvalid_0's l2: 0.00773714\n",
      "[600]\tvalid_0's l2: 0.00773273\n",
      "[602]\tvalid_0's l2: 0.0077282\n",
      "[604]\tvalid_0's l2: 0.00772304\n",
      "[606]\tvalid_0's l2: 0.00771853\n",
      "[608]\tvalid_0's l2: 0.00771421\n",
      "[610]\tvalid_0's l2: 0.00770967\n",
      "[612]\tvalid_0's l2: 0.00770581\n",
      "[614]\tvalid_0's l2: 0.0077014\n",
      "[616]\tvalid_0's l2: 0.00769723\n",
      "[618]\tvalid_0's l2: 0.00769271\n",
      "[620]\tvalid_0's l2: 0.00768825\n",
      "[622]\tvalid_0's l2: 0.00768437\n",
      "[624]\tvalid_0's l2: 0.00767984\n",
      "[626]\tvalid_0's l2: 0.00767544\n",
      "[628]\tvalid_0's l2: 0.00767094\n",
      "[630]\tvalid_0's l2: 0.00766693\n",
      "[632]\tvalid_0's l2: 0.00766232\n",
      "[634]\tvalid_0's l2: 0.00765842\n",
      "[636]\tvalid_0's l2: 0.00765409\n",
      "[638]\tvalid_0's l2: 0.00765007\n",
      "[640]\tvalid_0's l2: 0.00764575\n",
      "[642]\tvalid_0's l2: 0.00764181\n",
      "[644]\tvalid_0's l2: 0.0076379\n",
      "[646]\tvalid_0's l2: 0.00763363\n",
      "[648]\tvalid_0's l2: 0.00762982\n",
      "[650]\tvalid_0's l2: 0.00762568\n",
      "[652]\tvalid_0's l2: 0.00762144\n",
      "[654]\tvalid_0's l2: 0.00761741\n",
      "[656]\tvalid_0's l2: 0.00761364\n",
      "[658]\tvalid_0's l2: 0.00760952\n",
      "[660]\tvalid_0's l2: 0.00760555\n",
      "[662]\tvalid_0's l2: 0.00760191\n",
      "[664]\tvalid_0's l2: 0.0075978\n",
      "[666]\tvalid_0's l2: 0.00759387\n",
      "[668]\tvalid_0's l2: 0.00759002\n",
      "[670]\tvalid_0's l2: 0.00758626\n",
      "[672]\tvalid_0's l2: 0.00758215\n",
      "[674]\tvalid_0's l2: 0.00757839\n",
      "[676]\tvalid_0's l2: 0.00757438\n",
      "[678]\tvalid_0's l2: 0.00757038\n",
      "[680]\tvalid_0's l2: 0.00756653\n",
      "[682]\tvalid_0's l2: 0.0075624\n",
      "[684]\tvalid_0's l2: 0.00755856\n",
      "[686]\tvalid_0's l2: 0.0075546\n",
      "[688]\tvalid_0's l2: 0.00755067\n",
      "[690]\tvalid_0's l2: 0.00754698\n",
      "[692]\tvalid_0's l2: 0.00754361\n",
      "[694]\tvalid_0's l2: 0.00753993\n",
      "[696]\tvalid_0's l2: 0.00753603\n",
      "[698]\tvalid_0's l2: 0.00753222\n",
      "[700]\tvalid_0's l2: 0.00752872\n",
      "[702]\tvalid_0's l2: 0.00752474\n",
      "[704]\tvalid_0's l2: 0.00752079\n",
      "[706]\tvalid_0's l2: 0.00751734\n",
      "[708]\tvalid_0's l2: 0.00751344\n",
      "[710]\tvalid_0's l2: 0.00750965\n",
      "[712]\tvalid_0's l2: 0.00750611\n",
      "[714]\tvalid_0's l2: 0.00750224\n",
      "[716]\tvalid_0's l2: 0.00749864\n",
      "[718]\tvalid_0's l2: 0.0074951\n",
      "[720]\tvalid_0's l2: 0.00749135\n",
      "[722]\tvalid_0's l2: 0.00748773\n",
      "[724]\tvalid_0's l2: 0.00748423\n",
      "[726]\tvalid_0's l2: 0.0074807\n",
      "[728]\tvalid_0's l2: 0.00747712\n",
      "[730]\tvalid_0's l2: 0.00747358\n",
      "[732]\tvalid_0's l2: 0.00746995\n",
      "[734]\tvalid_0's l2: 0.00746659\n",
      "[736]\tvalid_0's l2: 0.00746292\n",
      "[738]\tvalid_0's l2: 0.0074593\n",
      "[740]\tvalid_0's l2: 0.00745533\n",
      "[742]\tvalid_0's l2: 0.00745185\n",
      "[744]\tvalid_0's l2: 0.00744833\n",
      "[746]\tvalid_0's l2: 0.00744481\n",
      "[748]\tvalid_0's l2: 0.00744122\n",
      "[750]\tvalid_0's l2: 0.00743803\n",
      "[752]\tvalid_0's l2: 0.00743471\n",
      "[754]\tvalid_0's l2: 0.00743122\n",
      "[756]\tvalid_0's l2: 0.00742772\n",
      "[758]\tvalid_0's l2: 0.00742415\n",
      "[760]\tvalid_0's l2: 0.00742119\n",
      "[762]\tvalid_0's l2: 0.0074178\n",
      "[764]\tvalid_0's l2: 0.00741428\n",
      "[766]\tvalid_0's l2: 0.00741082\n",
      "[768]\tvalid_0's l2: 0.00740752\n",
      "[770]\tvalid_0's l2: 0.00740445\n",
      "[772]\tvalid_0's l2: 0.00740094\n",
      "[774]\tvalid_0's l2: 0.00739793\n",
      "[776]\tvalid_0's l2: 0.00739458\n",
      "[778]\tvalid_0's l2: 0.00739138\n",
      "[780]\tvalid_0's l2: 0.00738813\n",
      "[782]\tvalid_0's l2: 0.0073852\n",
      "[784]\tvalid_0's l2: 0.00738203\n",
      "[786]\tvalid_0's l2: 0.00737879\n",
      "[788]\tvalid_0's l2: 0.00737593\n",
      "[790]\tvalid_0's l2: 0.00737278\n",
      "[792]\tvalid_0's l2: 0.0073697\n",
      "[794]\tvalid_0's l2: 0.00736625\n",
      "[796]\tvalid_0's l2: 0.00736309\n",
      "[798]\tvalid_0's l2: 0.00736011\n",
      "[800]\tvalid_0's l2: 0.00735697\n",
      "[802]\tvalid_0's l2: 0.00735391\n",
      "[804]\tvalid_0's l2: 0.00735084\n",
      "[806]\tvalid_0's l2: 0.00734761\n",
      "[808]\tvalid_0's l2: 0.00734472\n",
      "[810]\tvalid_0's l2: 0.00734178\n",
      "[812]\tvalid_0's l2: 0.00733864\n",
      "[814]\tvalid_0's l2: 0.00733553\n",
      "[816]\tvalid_0's l2: 0.00733267\n",
      "[818]\tvalid_0's l2: 0.00732988\n",
      "[820]\tvalid_0's l2: 0.00732695\n",
      "[822]\tvalid_0's l2: 0.00732428\n",
      "[824]\tvalid_0's l2: 0.00732148\n",
      "[826]\tvalid_0's l2: 0.00731849\n",
      "[828]\tvalid_0's l2: 0.00731556\n",
      "[830]\tvalid_0's l2: 0.00731284\n",
      "[832]\tvalid_0's l2: 0.00730982\n",
      "[834]\tvalid_0's l2: 0.00730703\n",
      "[836]\tvalid_0's l2: 0.00730423\n",
      "[838]\tvalid_0's l2: 0.0073013\n",
      "[840]\tvalid_0's l2: 0.00729856\n",
      "[842]\tvalid_0's l2: 0.00729576\n",
      "[844]\tvalid_0's l2: 0.00729288\n",
      "[846]\tvalid_0's l2: 0.00729\n",
      "[848]\tvalid_0's l2: 0.00728699\n",
      "[850]\tvalid_0's l2: 0.0072843\n",
      "[852]\tvalid_0's l2: 0.00728133\n",
      "[854]\tvalid_0's l2: 0.00727865\n",
      "[856]\tvalid_0's l2: 0.00727584\n",
      "[858]\tvalid_0's l2: 0.00727305\n",
      "[860]\tvalid_0's l2: 0.00727012\n",
      "[862]\tvalid_0's l2: 0.00726726\n",
      "[864]\tvalid_0's l2: 0.00726435\n",
      "[866]\tvalid_0's l2: 0.00726168\n",
      "[868]\tvalid_0's l2: 0.00725912\n",
      "[870]\tvalid_0's l2: 0.00725651\n",
      "[872]\tvalid_0's l2: 0.00725385\n",
      "[874]\tvalid_0's l2: 0.00725111\n",
      "[876]\tvalid_0's l2: 0.00724837\n",
      "[878]\tvalid_0's l2: 0.00724575\n",
      "[880]\tvalid_0's l2: 0.00724294\n",
      "[882]\tvalid_0's l2: 0.00724036\n",
      "[884]\tvalid_0's l2: 0.00723813\n",
      "[886]\tvalid_0's l2: 0.00723538\n",
      "[888]\tvalid_0's l2: 0.00723269\n",
      "[890]\tvalid_0's l2: 0.00723019\n",
      "[892]\tvalid_0's l2: 0.00722791\n",
      "[894]\tvalid_0's l2: 0.00722526\n",
      "[896]\tvalid_0's l2: 0.00722237\n",
      "[898]\tvalid_0's l2: 0.00721972\n",
      "[900]\tvalid_0's l2: 0.00721699\n",
      "[902]\tvalid_0's l2: 0.00721502\n",
      "[904]\tvalid_0's l2: 0.00721276\n",
      "[906]\tvalid_0's l2: 0.00721028\n",
      "[908]\tvalid_0's l2: 0.00720759\n",
      "[910]\tvalid_0's l2: 0.00720499\n",
      "[912]\tvalid_0's l2: 0.00720231\n",
      "[914]\tvalid_0's l2: 0.00719967\n",
      "[916]\tvalid_0's l2: 0.00719708\n",
      "[918]\tvalid_0's l2: 0.00719449\n",
      "[920]\tvalid_0's l2: 0.00719192\n",
      "[922]\tvalid_0's l2: 0.00718958\n",
      "[924]\tvalid_0's l2: 0.00718736\n",
      "[926]\tvalid_0's l2: 0.00718472\n",
      "[928]\tvalid_0's l2: 0.00718214\n",
      "[930]\tvalid_0's l2: 0.00717941\n",
      "[932]\tvalid_0's l2: 0.00717688\n",
      "[934]\tvalid_0's l2: 0.00717432\n",
      "[936]\tvalid_0's l2: 0.00717198\n",
      "[938]\tvalid_0's l2: 0.00716924\n",
      "[940]\tvalid_0's l2: 0.00716657\n",
      "[942]\tvalid_0's l2: 0.00716384\n",
      "[944]\tvalid_0's l2: 0.00716155\n",
      "[946]\tvalid_0's l2: 0.00715892\n",
      "[948]\tvalid_0's l2: 0.00715651\n",
      "[950]\tvalid_0's l2: 0.0071537\n",
      "[952]\tvalid_0's l2: 0.00715134\n",
      "[954]\tvalid_0's l2: 0.0071492\n",
      "[956]\tvalid_0's l2: 0.00714679\n",
      "[958]\tvalid_0's l2: 0.00714447\n",
      "[960]\tvalid_0's l2: 0.00714233\n",
      "[962]\tvalid_0's l2: 0.00714013\n",
      "[964]\tvalid_0's l2: 0.00713796\n",
      "[966]\tvalid_0's l2: 0.00713593\n",
      "[968]\tvalid_0's l2: 0.00713399\n",
      "[970]\tvalid_0's l2: 0.00713165\n",
      "[972]\tvalid_0's l2: 0.00712911\n",
      "[974]\tvalid_0's l2: 0.00712668\n",
      "[976]\tvalid_0's l2: 0.00712454\n",
      "[978]\tvalid_0's l2: 0.00712226\n",
      "[980]\tvalid_0's l2: 0.00711992\n",
      "[982]\tvalid_0's l2: 0.00711748\n",
      "[984]\tvalid_0's l2: 0.00711538\n",
      "[986]\tvalid_0's l2: 0.00711311\n",
      "[988]\tvalid_0's l2: 0.00711087\n",
      "[990]\tvalid_0's l2: 0.0071086\n",
      "[992]\tvalid_0's l2: 0.00710629\n",
      "[994]\tvalid_0's l2: 0.00710397\n",
      "[996]\tvalid_0's l2: 0.00710168\n",
      "[998]\tvalid_0's l2: 0.00709949\n",
      "[1000]\tvalid_0's l2: 0.00709742\n",
      "[1002]\tvalid_0's l2: 0.00709531\n",
      "[1004]\tvalid_0's l2: 0.00709313\n",
      "[1006]\tvalid_0's l2: 0.00709119\n",
      "[1008]\tvalid_0's l2: 0.00708881\n",
      "[1010]\tvalid_0's l2: 0.00708709\n",
      "[1012]\tvalid_0's l2: 0.00708489\n",
      "[1014]\tvalid_0's l2: 0.00708293\n",
      "[1016]\tvalid_0's l2: 0.00708088\n",
      "[1018]\tvalid_0's l2: 0.00707867\n",
      "[1020]\tvalid_0's l2: 0.00707667\n",
      "[1022]\tvalid_0's l2: 0.00707458\n",
      "[1024]\tvalid_0's l2: 0.00707248\n",
      "[1026]\tvalid_0's l2: 0.00707021\n",
      "[1028]\tvalid_0's l2: 0.00706806\n",
      "[1030]\tvalid_0's l2: 0.0070659\n",
      "[1032]\tvalid_0's l2: 0.00706395\n",
      "[1034]\tvalid_0's l2: 0.0070616\n",
      "[1036]\tvalid_0's l2: 0.00705986\n",
      "[1038]\tvalid_0's l2: 0.00705796\n",
      "[1040]\tvalid_0's l2: 0.00705571\n",
      "[1042]\tvalid_0's l2: 0.00705347\n",
      "[1044]\tvalid_0's l2: 0.00705149\n",
      "[1046]\tvalid_0's l2: 0.0070493\n",
      "[1048]\tvalid_0's l2: 0.00704727\n",
      "[1050]\tvalid_0's l2: 0.00704533\n",
      "[1052]\tvalid_0's l2: 0.00704361\n",
      "[1054]\tvalid_0's l2: 0.00704151\n",
      "[1056]\tvalid_0's l2: 0.00703963\n",
      "[1058]\tvalid_0's l2: 0.00703765\n",
      "[1060]\tvalid_0's l2: 0.00703581\n",
      "[1062]\tvalid_0's l2: 0.00703393\n",
      "[1064]\tvalid_0's l2: 0.00703195\n",
      "[1066]\tvalid_0's l2: 0.0070301\n",
      "[1068]\tvalid_0's l2: 0.00702801\n",
      "[1070]\tvalid_0's l2: 0.00702615\n",
      "[1072]\tvalid_0's l2: 0.00702401\n",
      "[1074]\tvalid_0's l2: 0.00702185\n",
      "[1076]\tvalid_0's l2: 0.00701993\n",
      "[1078]\tvalid_0's l2: 0.00701815\n",
      "[1080]\tvalid_0's l2: 0.00701627\n",
      "[1082]\tvalid_0's l2: 0.0070145\n",
      "[1084]\tvalid_0's l2: 0.00701251\n",
      "[1086]\tvalid_0's l2: 0.00701078\n",
      "[1088]\tvalid_0's l2: 0.00700867\n",
      "[1090]\tvalid_0's l2: 0.0070067\n",
      "[1092]\tvalid_0's l2: 0.00700492\n",
      "[1094]\tvalid_0's l2: 0.00700299\n",
      "[1096]\tvalid_0's l2: 0.00700106\n",
      "[1098]\tvalid_0's l2: 0.00699923\n",
      "[1100]\tvalid_0's l2: 0.00699749\n",
      "[1102]\tvalid_0's l2: 0.00699565\n",
      "[1104]\tvalid_0's l2: 0.00699408\n",
      "[1106]\tvalid_0's l2: 0.00699238\n",
      "[1108]\tvalid_0's l2: 0.0069907\n",
      "[1110]\tvalid_0's l2: 0.00698891\n",
      "[1112]\tvalid_0's l2: 0.00698695\n",
      "[1114]\tvalid_0's l2: 0.00698519\n",
      "[1116]\tvalid_0's l2: 0.00698364\n",
      "[1118]\tvalid_0's l2: 0.00698184\n",
      "[1120]\tvalid_0's l2: 0.00698026\n",
      "[1122]\tvalid_0's l2: 0.00697831\n",
      "[1124]\tvalid_0's l2: 0.0069765\n",
      "[1126]\tvalid_0's l2: 0.00697476\n",
      "[1128]\tvalid_0's l2: 0.0069729\n",
      "[1130]\tvalid_0's l2: 0.00697085\n",
      "[1132]\tvalid_0's l2: 0.00696896\n",
      "[1134]\tvalid_0's l2: 0.00696703\n",
      "[1136]\tvalid_0's l2: 0.0069654\n",
      "[1138]\tvalid_0's l2: 0.00696353\n",
      "[1140]\tvalid_0's l2: 0.006962\n",
      "[1142]\tvalid_0's l2: 0.00696025\n",
      "[1144]\tvalid_0's l2: 0.0069587\n",
      "[1146]\tvalid_0's l2: 0.00695714\n",
      "[1148]\tvalid_0's l2: 0.00695552\n",
      "[1150]\tvalid_0's l2: 0.00695367\n",
      "[1152]\tvalid_0's l2: 0.00695194\n",
      "[1154]\tvalid_0's l2: 0.00695015\n",
      "[1156]\tvalid_0's l2: 0.00694865\n",
      "[1158]\tvalid_0's l2: 0.00694695\n",
      "[1160]\tvalid_0's l2: 0.00694556\n",
      "[1162]\tvalid_0's l2: 0.00694403\n",
      "[1164]\tvalid_0's l2: 0.0069425\n",
      "[1166]\tvalid_0's l2: 0.00694083\n",
      "[1168]\tvalid_0's l2: 0.00693938\n",
      "[1170]\tvalid_0's l2: 0.0069378\n",
      "[1172]\tvalid_0's l2: 0.00693609\n",
      "[1174]\tvalid_0's l2: 0.00693461\n",
      "[1176]\tvalid_0's l2: 0.0069332\n",
      "[1178]\tvalid_0's l2: 0.00693123\n",
      "[1180]\tvalid_0's l2: 0.00693003\n",
      "[1182]\tvalid_0's l2: 0.00692852\n",
      "[1184]\tvalid_0's l2: 0.0069269\n",
      "[1186]\tvalid_0's l2: 0.00692527\n",
      "[1188]\tvalid_0's l2: 0.00692378\n",
      "[1190]\tvalid_0's l2: 0.00692196\n",
      "[1192]\tvalid_0's l2: 0.00692039\n",
      "[1194]\tvalid_0's l2: 0.00691883\n",
      "[1196]\tvalid_0's l2: 0.00691764\n",
      "[1198]\tvalid_0's l2: 0.00691613\n",
      "[1200]\tvalid_0's l2: 0.00691468\n",
      "[1202]\tvalid_0's l2: 0.00691341\n",
      "[1204]\tvalid_0's l2: 0.00691161\n",
      "[1206]\tvalid_0's l2: 0.00690995\n",
      "[1208]\tvalid_0's l2: 0.00690838\n",
      "[1210]\tvalid_0's l2: 0.00690681\n",
      "[1212]\tvalid_0's l2: 0.00690551\n",
      "[1214]\tvalid_0's l2: 0.00690397\n",
      "[1216]\tvalid_0's l2: 0.0069022\n",
      "[1218]\tvalid_0's l2: 0.00690061\n",
      "[1220]\tvalid_0's l2: 0.006899\n",
      "[1222]\tvalid_0's l2: 0.00689764\n",
      "[1224]\tvalid_0's l2: 0.00689612\n",
      "[1226]\tvalid_0's l2: 0.00689483\n",
      "[1228]\tvalid_0's l2: 0.00689329\n",
      "[1230]\tvalid_0's l2: 0.00689179\n",
      "[1232]\tvalid_0's l2: 0.00689022\n",
      "[1234]\tvalid_0's l2: 0.00688877\n",
      "[1236]\tvalid_0's l2: 0.00688727\n",
      "[1238]\tvalid_0's l2: 0.00688559\n",
      "[1240]\tvalid_0's l2: 0.00688418\n",
      "[1242]\tvalid_0's l2: 0.00688298\n",
      "[1244]\tvalid_0's l2: 0.00688131\n",
      "[1246]\tvalid_0's l2: 0.00687998\n",
      "[1248]\tvalid_0's l2: 0.00687834\n",
      "[1250]\tvalid_0's l2: 0.00687705\n",
      "[1252]\tvalid_0's l2: 0.00687575\n",
      "[1254]\tvalid_0's l2: 0.00687466\n",
      "[1256]\tvalid_0's l2: 0.00687336\n",
      "[1258]\tvalid_0's l2: 0.00687169\n",
      "[1260]\tvalid_0's l2: 0.00687043\n",
      "[1262]\tvalid_0's l2: 0.00686912\n",
      "[1264]\tvalid_0's l2: 0.00686776\n",
      "[1266]\tvalid_0's l2: 0.00686628\n",
      "[1268]\tvalid_0's l2: 0.00686512\n",
      "[1270]\tvalid_0's l2: 0.006864\n",
      "[1272]\tvalid_0's l2: 0.00686231\n",
      "[1274]\tvalid_0's l2: 0.006861\n",
      "[1276]\tvalid_0's l2: 0.00685975\n",
      "[1278]\tvalid_0's l2: 0.00685845\n",
      "[1280]\tvalid_0's l2: 0.0068571\n",
      "[1282]\tvalid_0's l2: 0.00685587\n",
      "[1284]\tvalid_0's l2: 0.0068545\n",
      "[1286]\tvalid_0's l2: 0.00685309\n",
      "[1288]\tvalid_0's l2: 0.00685172\n",
      "[1290]\tvalid_0's l2: 0.00685026\n",
      "[1292]\tvalid_0's l2: 0.00684902\n",
      "[1294]\tvalid_0's l2: 0.00684808\n",
      "[1296]\tvalid_0's l2: 0.00684675\n",
      "[1298]\tvalid_0's l2: 0.00684548\n",
      "[1300]\tvalid_0's l2: 0.00684411\n",
      "[1302]\tvalid_0's l2: 0.00684298\n",
      "[1304]\tvalid_0's l2: 0.0068415\n",
      "[1306]\tvalid_0's l2: 0.00683995\n",
      "[1308]\tvalid_0's l2: 0.00683866\n",
      "[1310]\tvalid_0's l2: 0.00683719\n",
      "[1312]\tvalid_0's l2: 0.00683596\n",
      "[1314]\tvalid_0's l2: 0.00683491\n",
      "[1316]\tvalid_0's l2: 0.00683355\n",
      "[1318]\tvalid_0's l2: 0.00683213\n",
      "[1320]\tvalid_0's l2: 0.00683095\n",
      "[1322]\tvalid_0's l2: 0.00682971\n",
      "[1324]\tvalid_0's l2: 0.00682842\n",
      "[1326]\tvalid_0's l2: 0.00682696\n",
      "[1328]\tvalid_0's l2: 0.00682604\n",
      "[1330]\tvalid_0's l2: 0.00682474\n",
      "[1332]\tvalid_0's l2: 0.00682359\n",
      "[1334]\tvalid_0's l2: 0.00682235\n",
      "[1336]\tvalid_0's l2: 0.00682126\n",
      "[1338]\tvalid_0's l2: 0.00682027\n",
      "[1340]\tvalid_0's l2: 0.00681894\n",
      "[1342]\tvalid_0's l2: 0.00681765\n",
      "[1344]\tvalid_0's l2: 0.00681631\n",
      "[1346]\tvalid_0's l2: 0.00681532\n",
      "[1348]\tvalid_0's l2: 0.00681421\n",
      "[1350]\tvalid_0's l2: 0.00681317\n",
      "[1352]\tvalid_0's l2: 0.00681204\n",
      "[1354]\tvalid_0's l2: 0.0068107\n",
      "[1356]\tvalid_0's l2: 0.00680968\n",
      "[1358]\tvalid_0's l2: 0.00680845\n",
      "[1360]\tvalid_0's l2: 0.00680722\n",
      "[1362]\tvalid_0's l2: 0.00680611\n",
      "[1364]\tvalid_0's l2: 0.00680487\n",
      "[1366]\tvalid_0's l2: 0.00680363\n",
      "[1368]\tvalid_0's l2: 0.00680238\n",
      "[1370]\tvalid_0's l2: 0.00680139\n",
      "[1372]\tvalid_0's l2: 0.00680023\n",
      "[1374]\tvalid_0's l2: 0.00679889\n",
      "[1376]\tvalid_0's l2: 0.00679777\n",
      "[1378]\tvalid_0's l2: 0.00679657\n",
      "[1380]\tvalid_0's l2: 0.00679548\n",
      "[1382]\tvalid_0's l2: 0.00679434\n",
      "[1384]\tvalid_0's l2: 0.00679339\n",
      "[1386]\tvalid_0's l2: 0.0067923\n",
      "[1388]\tvalid_0's l2: 0.0067912\n",
      "[1390]\tvalid_0's l2: 0.00679\n",
      "[1392]\tvalid_0's l2: 0.00678895\n",
      "[1394]\tvalid_0's l2: 0.00678779\n",
      "[1396]\tvalid_0's l2: 0.00678675\n",
      "[1398]\tvalid_0's l2: 0.00678576\n",
      "[1400]\tvalid_0's l2: 0.0067848\n",
      "[1402]\tvalid_0's l2: 0.00678371\n",
      "[1404]\tvalid_0's l2: 0.00678264\n",
      "[1406]\tvalid_0's l2: 0.00678166\n",
      "[1408]\tvalid_0's l2: 0.00678059\n",
      "[1410]\tvalid_0's l2: 0.00677983\n",
      "[1412]\tvalid_0's l2: 0.00677873\n",
      "[1414]\tvalid_0's l2: 0.00677753\n",
      "[1416]\tvalid_0's l2: 0.00677634\n",
      "[1418]\tvalid_0's l2: 0.00677529\n",
      "[1420]\tvalid_0's l2: 0.00677404\n",
      "[1422]\tvalid_0's l2: 0.0067733\n",
      "[1424]\tvalid_0's l2: 0.00677243\n",
      "[1426]\tvalid_0's l2: 0.00677131\n",
      "[1428]\tvalid_0's l2: 0.00677032\n",
      "[1430]\tvalid_0's l2: 0.00676939\n",
      "[1432]\tvalid_0's l2: 0.00676813\n",
      "[1434]\tvalid_0's l2: 0.00676698\n",
      "[1436]\tvalid_0's l2: 0.00676586\n",
      "[1438]\tvalid_0's l2: 0.00676518\n",
      "[1440]\tvalid_0's l2: 0.00676407\n",
      "[1442]\tvalid_0's l2: 0.0067634\n",
      "[1444]\tvalid_0's l2: 0.00676227\n",
      "[1446]\tvalid_0's l2: 0.00676132\n",
      "[1448]\tvalid_0's l2: 0.00676064\n",
      "[1450]\tvalid_0's l2: 0.00675935\n",
      "[1452]\tvalid_0's l2: 0.0067585\n",
      "[1454]\tvalid_0's l2: 0.00675769\n",
      "[1456]\tvalid_0's l2: 0.00675666\n",
      "[1458]\tvalid_0's l2: 0.00675579\n",
      "[1460]\tvalid_0's l2: 0.00675487\n",
      "[1462]\tvalid_0's l2: 0.00675394\n",
      "[1464]\tvalid_0's l2: 0.00675319\n",
      "[1466]\tvalid_0's l2: 0.00675241\n",
      "[1468]\tvalid_0's l2: 0.00675134\n",
      "[1470]\tvalid_0's l2: 0.00675049\n",
      "[1472]\tvalid_0's l2: 0.00674947\n",
      "[1474]\tvalid_0's l2: 0.00674869\n",
      "[1476]\tvalid_0's l2: 0.00674785\n",
      "[1478]\tvalid_0's l2: 0.00674716\n",
      "[1480]\tvalid_0's l2: 0.0067463\n",
      "[1482]\tvalid_0's l2: 0.00674534\n",
      "[1484]\tvalid_0's l2: 0.00674439\n",
      "[1486]\tvalid_0's l2: 0.00674363\n",
      "[1488]\tvalid_0's l2: 0.00674259\n",
      "[1490]\tvalid_0's l2: 0.00674188\n",
      "[1492]\tvalid_0's l2: 0.00674087\n",
      "[1494]\tvalid_0's l2: 0.00674018\n",
      "[1496]\tvalid_0's l2: 0.00673954\n",
      "[1498]\tvalid_0's l2: 0.00673875\n",
      "[1500]\tvalid_0's l2: 0.00673766\n",
      "[1502]\tvalid_0's l2: 0.00673682\n",
      "[1504]\tvalid_0's l2: 0.00673592\n",
      "[1506]\tvalid_0's l2: 0.00673504\n",
      "[1508]\tvalid_0's l2: 0.00673436\n",
      "[1510]\tvalid_0's l2: 0.0067335\n",
      "[1512]\tvalid_0's l2: 0.00673277\n",
      "[1514]\tvalid_0's l2: 0.00673204\n",
      "[1516]\tvalid_0's l2: 0.00673112\n",
      "[1518]\tvalid_0's l2: 0.0067303\n",
      "[1520]\tvalid_0's l2: 0.00672945\n",
      "[1522]\tvalid_0's l2: 0.00672866\n",
      "[1524]\tvalid_0's l2: 0.00672791\n",
      "[1526]\tvalid_0's l2: 0.00672692\n",
      "[1528]\tvalid_0's l2: 0.00672612\n",
      "[1530]\tvalid_0's l2: 0.00672549\n",
      "[1532]\tvalid_0's l2: 0.00672473\n",
      "[1534]\tvalid_0's l2: 0.00672399\n",
      "[1536]\tvalid_0's l2: 0.00672342\n",
      "[1538]\tvalid_0's l2: 0.00672261\n",
      "[1540]\tvalid_0's l2: 0.0067216\n",
      "[1542]\tvalid_0's l2: 0.00672082\n",
      "[1544]\tvalid_0's l2: 0.00672012\n",
      "[1546]\tvalid_0's l2: 0.00671934\n",
      "[1548]\tvalid_0's l2: 0.00671863\n",
      "[1550]\tvalid_0's l2: 0.00671762\n",
      "[1552]\tvalid_0's l2: 0.00671689\n",
      "[1554]\tvalid_0's l2: 0.00671629\n",
      "[1556]\tvalid_0's l2: 0.0067154\n",
      "[1558]\tvalid_0's l2: 0.00671459\n",
      "[1560]\tvalid_0's l2: 0.00671381\n",
      "[1562]\tvalid_0's l2: 0.00671281\n",
      "[1564]\tvalid_0's l2: 0.00671216\n",
      "[1566]\tvalid_0's l2: 0.00671144\n",
      "[1568]\tvalid_0's l2: 0.00671085\n",
      "[1570]\tvalid_0's l2: 0.00671005\n",
      "[1572]\tvalid_0's l2: 0.00670908\n",
      "[1574]\tvalid_0's l2: 0.0067083\n",
      "[1576]\tvalid_0's l2: 0.00670734\n",
      "[1578]\tvalid_0's l2: 0.00670669\n",
      "[1580]\tvalid_0's l2: 0.00670602\n",
      "[1582]\tvalid_0's l2: 0.00670533\n",
      "[1584]\tvalid_0's l2: 0.00670467\n",
      "[1586]\tvalid_0's l2: 0.006704\n",
      "[1588]\tvalid_0's l2: 0.00670329\n",
      "[1590]\tvalid_0's l2: 0.00670239\n",
      "[1592]\tvalid_0's l2: 0.00670149\n",
      "[1594]\tvalid_0's l2: 0.00670097\n",
      "[1596]\tvalid_0's l2: 0.00670021\n",
      "[1598]\tvalid_0's l2: 0.00669975\n",
      "[1600]\tvalid_0's l2: 0.00669899\n",
      "[1602]\tvalid_0's l2: 0.00669835\n",
      "[1604]\tvalid_0's l2: 0.00669736\n",
      "[1606]\tvalid_0's l2: 0.00669673\n",
      "[1608]\tvalid_0's l2: 0.00669596\n",
      "[1610]\tvalid_0's l2: 0.00669531\n",
      "[1612]\tvalid_0's l2: 0.00669472\n",
      "[1614]\tvalid_0's l2: 0.00669426\n",
      "[1616]\tvalid_0's l2: 0.00669341\n",
      "[1618]\tvalid_0's l2: 0.00669261\n",
      "[1620]\tvalid_0's l2: 0.00669192\n",
      "[1622]\tvalid_0's l2: 0.00669115\n",
      "[1624]\tvalid_0's l2: 0.00669035\n",
      "[1626]\tvalid_0's l2: 0.00668945\n",
      "[1628]\tvalid_0's l2: 0.00668855\n",
      "[1630]\tvalid_0's l2: 0.00668802\n",
      "[1632]\tvalid_0's l2: 0.0066874\n",
      "[1634]\tvalid_0's l2: 0.00668682\n",
      "[1636]\tvalid_0's l2: 0.00668616\n",
      "[1638]\tvalid_0's l2: 0.00668558\n",
      "[1640]\tvalid_0's l2: 0.00668493\n",
      "[1642]\tvalid_0's l2: 0.00668415\n",
      "[1644]\tvalid_0's l2: 0.0066834\n",
      "[1646]\tvalid_0's l2: 0.00668293\n",
      "[1648]\tvalid_0's l2: 0.00668224\n",
      "[1650]\tvalid_0's l2: 0.00668162\n",
      "[1652]\tvalid_0's l2: 0.00668081\n",
      "[1654]\tvalid_0's l2: 0.00667996\n",
      "[1656]\tvalid_0's l2: 0.00667911\n",
      "[1658]\tvalid_0's l2: 0.00667843\n",
      "[1660]\tvalid_0's l2: 0.00667783\n",
      "[1662]\tvalid_0's l2: 0.00667719\n",
      "[1664]\tvalid_0's l2: 0.00667664\n",
      "[1666]\tvalid_0's l2: 0.00667605\n",
      "[1668]\tvalid_0's l2: 0.00667534\n",
      "[1670]\tvalid_0's l2: 0.00667464\n",
      "[1672]\tvalid_0's l2: 0.00667409\n",
      "[1674]\tvalid_0's l2: 0.00667354\n",
      "[1676]\tvalid_0's l2: 0.00667293\n",
      "[1678]\tvalid_0's l2: 0.00667252\n",
      "[1680]\tvalid_0's l2: 0.00667199\n",
      "[1682]\tvalid_0's l2: 0.00667141\n",
      "[1684]\tvalid_0's l2: 0.00667087\n",
      "[1686]\tvalid_0's l2: 0.00667021\n",
      "[1688]\tvalid_0's l2: 0.00666986\n",
      "[1690]\tvalid_0's l2: 0.00666899\n",
      "[1692]\tvalid_0's l2: 0.00666804\n",
      "[1694]\tvalid_0's l2: 0.00666726\n",
      "[1696]\tvalid_0's l2: 0.00666648\n",
      "[1698]\tvalid_0's l2: 0.00666591\n",
      "[1700]\tvalid_0's l2: 0.00666551\n",
      "[1702]\tvalid_0's l2: 0.00666469\n",
      "[1704]\tvalid_0's l2: 0.00666406\n",
      "[1706]\tvalid_0's l2: 0.00666348\n",
      "[1708]\tvalid_0's l2: 0.00666297\n",
      "[1710]\tvalid_0's l2: 0.00666233\n",
      "[1712]\tvalid_0's l2: 0.00666188\n",
      "[1714]\tvalid_0's l2: 0.0066614\n",
      "[1716]\tvalid_0's l2: 0.00666072\n",
      "[1718]\tvalid_0's l2: 0.00665999\n",
      "[1720]\tvalid_0's l2: 0.00665938\n",
      "[1722]\tvalid_0's l2: 0.00665899\n",
      "[1724]\tvalid_0's l2: 0.00665849\n",
      "[1726]\tvalid_0's l2: 0.006658\n",
      "[1728]\tvalid_0's l2: 0.00665727\n",
      "[1730]\tvalid_0's l2: 0.00665677\n",
      "[1732]\tvalid_0's l2: 0.00665626\n",
      "[1734]\tvalid_0's l2: 0.00665563\n",
      "[1736]\tvalid_0's l2: 0.00665492\n",
      "[1738]\tvalid_0's l2: 0.00665414\n",
      "[1740]\tvalid_0's l2: 0.00665321\n",
      "[1742]\tvalid_0's l2: 0.00665271\n",
      "[1744]\tvalid_0's l2: 0.00665246\n",
      "[1746]\tvalid_0's l2: 0.00665182\n",
      "[1748]\tvalid_0's l2: 0.0066513\n",
      "[1750]\tvalid_0's l2: 0.00665114\n",
      "[1752]\tvalid_0's l2: 0.00665072\n",
      "[1754]\tvalid_0's l2: 0.00665028\n",
      "[1756]\tvalid_0's l2: 0.00664983\n",
      "[1758]\tvalid_0's l2: 0.00664919\n",
      "[1760]\tvalid_0's l2: 0.00664871\n",
      "[1762]\tvalid_0's l2: 0.00664825\n",
      "[1764]\tvalid_0's l2: 0.00664763\n",
      "[1766]\tvalid_0's l2: 0.00664721\n",
      "[1768]\tvalid_0's l2: 0.00664645\n",
      "[1770]\tvalid_0's l2: 0.00664585\n",
      "[1772]\tvalid_0's l2: 0.00664532\n",
      "[1774]\tvalid_0's l2: 0.00664485\n",
      "[1776]\tvalid_0's l2: 0.00664428\n",
      "[1778]\tvalid_0's l2: 0.0066438\n",
      "[1780]\tvalid_0's l2: 0.00664312\n",
      "[1782]\tvalid_0's l2: 0.00664264\n",
      "[1784]\tvalid_0's l2: 0.00664193\n",
      "[1786]\tvalid_0's l2: 0.00664142\n",
      "[1788]\tvalid_0's l2: 0.00664097\n",
      "[1790]\tvalid_0's l2: 0.00664049\n",
      "[1792]\tvalid_0's l2: 0.00664004\n",
      "[1794]\tvalid_0's l2: 0.00663935\n",
      "[1796]\tvalid_0's l2: 0.00663895\n",
      "[1798]\tvalid_0's l2: 0.00663833\n",
      "[1800]\tvalid_0's l2: 0.00663785\n",
      "[1802]\tvalid_0's l2: 0.00663736\n",
      "[1804]\tvalid_0's l2: 0.00663681\n",
      "[1806]\tvalid_0's l2: 0.00663632\n",
      "[1808]\tvalid_0's l2: 0.00663567\n",
      "[1810]\tvalid_0's l2: 0.00663516\n",
      "[1812]\tvalid_0's l2: 0.00663468\n",
      "[1814]\tvalid_0's l2: 0.0066343\n",
      "[1816]\tvalid_0's l2: 0.00663365\n",
      "[1818]\tvalid_0's l2: 0.00663306\n",
      "[1820]\tvalid_0's l2: 0.00663266\n",
      "[1822]\tvalid_0's l2: 0.00663223\n",
      "[1824]\tvalid_0's l2: 0.00663166\n",
      "[1826]\tvalid_0's l2: 0.00663128\n",
      "[1828]\tvalid_0's l2: 0.00663088\n",
      "[1830]\tvalid_0's l2: 0.00663056\n",
      "[1832]\tvalid_0's l2: 0.00662994\n",
      "[1834]\tvalid_0's l2: 0.00662961\n",
      "[1836]\tvalid_0's l2: 0.00662919\n",
      "[1838]\tvalid_0's l2: 0.00662867\n",
      "[1840]\tvalid_0's l2: 0.00662817\n",
      "[1842]\tvalid_0's l2: 0.00662786\n",
      "[1844]\tvalid_0's l2: 0.00662714\n",
      "[1846]\tvalid_0's l2: 0.00662662\n",
      "[1848]\tvalid_0's l2: 0.00662612\n",
      "[1850]\tvalid_0's l2: 0.0066255\n",
      "[1852]\tvalid_0's l2: 0.00662502\n",
      "[1854]\tvalid_0's l2: 0.00662466\n",
      "[1856]\tvalid_0's l2: 0.00662418\n",
      "[1858]\tvalid_0's l2: 0.00662344\n",
      "[1860]\tvalid_0's l2: 0.00662298\n",
      "[1862]\tvalid_0's l2: 0.00662251\n",
      "[1864]\tvalid_0's l2: 0.00662216\n",
      "[1866]\tvalid_0's l2: 0.00662194\n",
      "[1868]\tvalid_0's l2: 0.00662152\n",
      "[1870]\tvalid_0's l2: 0.0066211\n",
      "[1872]\tvalid_0's l2: 0.00662079\n",
      "[1874]\tvalid_0's l2: 0.00662056\n",
      "[1876]\tvalid_0's l2: 0.00662017\n",
      "[1878]\tvalid_0's l2: 0.00661958\n",
      "[1880]\tvalid_0's l2: 0.00661929\n",
      "[1882]\tvalid_0's l2: 0.00661887\n",
      "[1884]\tvalid_0's l2: 0.00661842\n",
      "[1886]\tvalid_0's l2: 0.00661785\n",
      "[1888]\tvalid_0's l2: 0.00661734\n",
      "[1890]\tvalid_0's l2: 0.0066171\n",
      "[1892]\tvalid_0's l2: 0.00661664\n",
      "[1894]\tvalid_0's l2: 0.00661622\n",
      "[1896]\tvalid_0's l2: 0.00661558\n",
      "[1898]\tvalid_0's l2: 0.0066151\n",
      "[1900]\tvalid_0's l2: 0.00661467\n",
      "[1902]\tvalid_0's l2: 0.00661414\n",
      "[1904]\tvalid_0's l2: 0.00661357\n",
      "[1906]\tvalid_0's l2: 0.00661327\n",
      "[1908]\tvalid_0's l2: 0.00661284\n",
      "[1910]\tvalid_0's l2: 0.00661239\n",
      "[1912]\tvalid_0's l2: 0.00661186\n",
      "[1914]\tvalid_0's l2: 0.00661148\n",
      "[1916]\tvalid_0's l2: 0.00661114\n",
      "[1918]\tvalid_0's l2: 0.00661069\n",
      "[1920]\tvalid_0's l2: 0.00661034\n",
      "[1922]\tvalid_0's l2: 0.00660987\n",
      "[1924]\tvalid_0's l2: 0.00660964\n",
      "[1926]\tvalid_0's l2: 0.00660938\n",
      "[1928]\tvalid_0's l2: 0.00660887\n",
      "[1930]\tvalid_0's l2: 0.00660844\n",
      "[1932]\tvalid_0's l2: 0.00660792\n",
      "[1934]\tvalid_0's l2: 0.00660767\n",
      "[1936]\tvalid_0's l2: 0.00660729\n",
      "[1938]\tvalid_0's l2: 0.00660706\n",
      "[1940]\tvalid_0's l2: 0.00660645\n",
      "[1942]\tvalid_0's l2: 0.00660622\n",
      "[1944]\tvalid_0's l2: 0.00660588\n",
      "[1946]\tvalid_0's l2: 0.00660539\n",
      "[1948]\tvalid_0's l2: 0.00660511\n",
      "[1950]\tvalid_0's l2: 0.00660481\n",
      "[1952]\tvalid_0's l2: 0.00660422\n",
      "[1954]\tvalid_0's l2: 0.00660398\n",
      "[1956]\tvalid_0's l2: 0.0066037\n",
      "[1958]\tvalid_0's l2: 0.00660317\n",
      "[1960]\tvalid_0's l2: 0.00660264\n",
      "[1962]\tvalid_0's l2: 0.0066025\n",
      "[1964]\tvalid_0's l2: 0.00660214\n",
      "[1966]\tvalid_0's l2: 0.00660166\n",
      "[1968]\tvalid_0's l2: 0.00660116\n",
      "[1970]\tvalid_0's l2: 0.00660099\n",
      "[1972]\tvalid_0's l2: 0.0066005\n",
      "[1974]\tvalid_0's l2: 0.00660007\n",
      "[1976]\tvalid_0's l2: 0.00659976\n",
      "[1978]\tvalid_0's l2: 0.00659951\n",
      "[1980]\tvalid_0's l2: 0.00659912\n",
      "[1982]\tvalid_0's l2: 0.00659851\n",
      "[1984]\tvalid_0's l2: 0.00659813\n",
      "[1986]\tvalid_0's l2: 0.00659756\n",
      "[1988]\tvalid_0's l2: 0.00659709\n",
      "[1990]\tvalid_0's l2: 0.00659664\n",
      "[1992]\tvalid_0's l2: 0.00659618\n",
      "[1994]\tvalid_0's l2: 0.00659566\n",
      "[1996]\tvalid_0's l2: 0.00659528\n",
      "[1998]\tvalid_0's l2: 0.00659458\n",
      "[2000]\tvalid_0's l2: 0.00659409\n",
      "[2002]\tvalid_0's l2: 0.00659362\n",
      "[2004]\tvalid_0's l2: 0.00659326\n",
      "[2006]\tvalid_0's l2: 0.00659291\n",
      "[2008]\tvalid_0's l2: 0.00659253\n",
      "[2010]\tvalid_0's l2: 0.00659232\n",
      "[2012]\tvalid_0's l2: 0.00659173\n",
      "[2014]\tvalid_0's l2: 0.00659121\n",
      "[2016]\tvalid_0's l2: 0.00659101\n",
      "[2018]\tvalid_0's l2: 0.00659055\n",
      "[2020]\tvalid_0's l2: 0.00659002\n",
      "[2022]\tvalid_0's l2: 0.00658954\n",
      "[2024]\tvalid_0's l2: 0.00658905\n",
      "[2026]\tvalid_0's l2: 0.00658863\n",
      "[2028]\tvalid_0's l2: 0.00658825\n",
      "[2030]\tvalid_0's l2: 0.00658789\n",
      "[2032]\tvalid_0's l2: 0.00658749\n",
      "[2034]\tvalid_0's l2: 0.00658714\n",
      "[2036]\tvalid_0's l2: 0.00658665\n",
      "[2038]\tvalid_0's l2: 0.00658613\n",
      "[2040]\tvalid_0's l2: 0.00658584\n",
      "[2042]\tvalid_0's l2: 0.00658525\n",
      "[2044]\tvalid_0's l2: 0.00658483\n",
      "[2046]\tvalid_0's l2: 0.00658448\n",
      "[2048]\tvalid_0's l2: 0.00658419\n",
      "[2050]\tvalid_0's l2: 0.0065838\n",
      "[2052]\tvalid_0's l2: 0.00658335\n",
      "[2054]\tvalid_0's l2: 0.00658287\n",
      "[2056]\tvalid_0's l2: 0.00658236\n",
      "[2058]\tvalid_0's l2: 0.00658212\n",
      "[2060]\tvalid_0's l2: 0.00658171\n",
      "[2062]\tvalid_0's l2: 0.00658138\n",
      "[2064]\tvalid_0's l2: 0.00658088\n",
      "[2066]\tvalid_0's l2: 0.00658057\n",
      "[2068]\tvalid_0's l2: 0.00658008\n",
      "[2070]\tvalid_0's l2: 0.00657962\n",
      "[2072]\tvalid_0's l2: 0.00657908\n",
      "[2074]\tvalid_0's l2: 0.00657869\n",
      "[2076]\tvalid_0's l2: 0.00657809\n",
      "[2078]\tvalid_0's l2: 0.00657755\n",
      "[2080]\tvalid_0's l2: 0.00657713\n",
      "[2082]\tvalid_0's l2: 0.00657654\n",
      "[2084]\tvalid_0's l2: 0.00657613\n",
      "[2086]\tvalid_0's l2: 0.00657598\n",
      "[2088]\tvalid_0's l2: 0.00657552\n",
      "[2090]\tvalid_0's l2: 0.00657525\n",
      "[2092]\tvalid_0's l2: 0.00657481\n",
      "[2094]\tvalid_0's l2: 0.00657452\n",
      "[2096]\tvalid_0's l2: 0.00657414\n",
      "[2098]\tvalid_0's l2: 0.00657382\n",
      "[2100]\tvalid_0's l2: 0.00657341\n",
      "[2102]\tvalid_0's l2: 0.00657317\n",
      "[2104]\tvalid_0's l2: 0.00657259\n",
      "[2106]\tvalid_0's l2: 0.00657209\n",
      "[2108]\tvalid_0's l2: 0.00657184\n",
      "[2110]\tvalid_0's l2: 0.00657164\n",
      "[2112]\tvalid_0's l2: 0.00657128\n",
      "[2114]\tvalid_0's l2: 0.00657099\n",
      "[2116]\tvalid_0's l2: 0.0065707\n",
      "[2118]\tvalid_0's l2: 0.00657009\n",
      "[2120]\tvalid_0's l2: 0.00656973\n",
      "[2122]\tvalid_0's l2: 0.00656914\n",
      "[2124]\tvalid_0's l2: 0.00656871\n",
      "[2126]\tvalid_0's l2: 0.00656811\n",
      "[2128]\tvalid_0's l2: 0.00656769\n",
      "[2130]\tvalid_0's l2: 0.00656714\n",
      "[2132]\tvalid_0's l2: 0.00656696\n",
      "[2134]\tvalid_0's l2: 0.00656666\n",
      "[2136]\tvalid_0's l2: 0.00656626\n",
      "[2138]\tvalid_0's l2: 0.00656609\n",
      "[2140]\tvalid_0's l2: 0.00656571\n",
      "[2142]\tvalid_0's l2: 0.00656555\n",
      "[2144]\tvalid_0's l2: 0.00656531\n",
      "[2146]\tvalid_0's l2: 0.00656475\n",
      "[2148]\tvalid_0's l2: 0.00656436\n",
      "[2150]\tvalid_0's l2: 0.00656394\n",
      "[2152]\tvalid_0's l2: 0.00656357\n",
      "[2154]\tvalid_0's l2: 0.00656314\n",
      "[2156]\tvalid_0's l2: 0.00656257\n",
      "[2158]\tvalid_0's l2: 0.00656203\n",
      "[2160]\tvalid_0's l2: 0.00656173\n",
      "[2162]\tvalid_0's l2: 0.00656143\n",
      "[2164]\tvalid_0's l2: 0.00656084\n",
      "[2166]\tvalid_0's l2: 0.00656037\n",
      "[2168]\tvalid_0's l2: 0.00655977\n",
      "[2170]\tvalid_0's l2: 0.00655938\n",
      "[2172]\tvalid_0's l2: 0.00655897\n",
      "[2174]\tvalid_0's l2: 0.00655852\n",
      "[2176]\tvalid_0's l2: 0.00655829\n",
      "[2178]\tvalid_0's l2: 0.00655796\n",
      "[2180]\tvalid_0's l2: 0.00655752\n",
      "[2182]\tvalid_0's l2: 0.00655721\n",
      "[2184]\tvalid_0's l2: 0.00655684\n",
      "[2186]\tvalid_0's l2: 0.00655655\n",
      "[2188]\tvalid_0's l2: 0.00655627\n",
      "[2190]\tvalid_0's l2: 0.00655582\n",
      "[2192]\tvalid_0's l2: 0.00655528\n",
      "[2194]\tvalid_0's l2: 0.0065549\n",
      "[2196]\tvalid_0's l2: 0.00655463\n",
      "[2198]\tvalid_0's l2: 0.00655445\n",
      "[2200]\tvalid_0's l2: 0.00655429\n",
      "[2202]\tvalid_0's l2: 0.00655389\n",
      "[2204]\tvalid_0's l2: 0.00655356\n",
      "[2206]\tvalid_0's l2: 0.00655317\n",
      "[2208]\tvalid_0's l2: 0.00655269\n",
      "[2210]\tvalid_0's l2: 0.00655225\n",
      "[2212]\tvalid_0's l2: 0.00655202\n",
      "[2214]\tvalid_0's l2: 0.00655166\n",
      "[2216]\tvalid_0's l2: 0.0065515\n",
      "[2218]\tvalid_0's l2: 0.00655127\n",
      "[2220]\tvalid_0's l2: 0.006551\n",
      "[2222]\tvalid_0's l2: 0.00655047\n",
      "[2224]\tvalid_0's l2: 0.00655011\n",
      "[2226]\tvalid_0's l2: 0.00654972\n",
      "[2228]\tvalid_0's l2: 0.00654947\n",
      "[2230]\tvalid_0's l2: 0.00654921\n",
      "[2232]\tvalid_0's l2: 0.00654879\n",
      "[2234]\tvalid_0's l2: 0.00654846\n",
      "[2236]\tvalid_0's l2: 0.00654817\n",
      "[2238]\tvalid_0's l2: 0.00654769\n",
      "[2240]\tvalid_0's l2: 0.00654741\n",
      "[2242]\tvalid_0's l2: 0.00654694\n",
      "[2244]\tvalid_0's l2: 0.00654654\n",
      "[2246]\tvalid_0's l2: 0.00654632\n",
      "[2248]\tvalid_0's l2: 0.00654593\n",
      "[2250]\tvalid_0's l2: 0.0065456\n",
      "[2252]\tvalid_0's l2: 0.00654527\n",
      "[2254]\tvalid_0's l2: 0.00654477\n",
      "[2256]\tvalid_0's l2: 0.00654455\n",
      "[2258]\tvalid_0's l2: 0.00654405\n",
      "[2260]\tvalid_0's l2: 0.00654384\n",
      "[2262]\tvalid_0's l2: 0.00654327\n",
      "[2264]\tvalid_0's l2: 0.00654292\n",
      "[2266]\tvalid_0's l2: 0.00654266\n",
      "[2268]\tvalid_0's l2: 0.00654226\n",
      "[2270]\tvalid_0's l2: 0.0065419\n",
      "[2272]\tvalid_0's l2: 0.00654131\n",
      "[2274]\tvalid_0's l2: 0.00654107\n",
      "[2276]\tvalid_0's l2: 0.00654058\n",
      "[2278]\tvalid_0's l2: 0.00654023\n",
      "[2280]\tvalid_0's l2: 0.00653971\n",
      "[2282]\tvalid_0's l2: 0.00653956\n",
      "[2284]\tvalid_0's l2: 0.00653939\n",
      "[2286]\tvalid_0's l2: 0.00653913\n",
      "[2288]\tvalid_0's l2: 0.00653876\n",
      "[2290]\tvalid_0's l2: 0.00653823\n",
      "[2292]\tvalid_0's l2: 0.00653785\n",
      "[2294]\tvalid_0's l2: 0.00653741\n",
      "[2296]\tvalid_0's l2: 0.00653688\n",
      "[2298]\tvalid_0's l2: 0.00653664\n",
      "[2300]\tvalid_0's l2: 0.00653653\n",
      "[2302]\tvalid_0's l2: 0.00653612\n",
      "[2304]\tvalid_0's l2: 0.00653569\n",
      "[2306]\tvalid_0's l2: 0.00653535\n",
      "[2308]\tvalid_0's l2: 0.00653517\n",
      "[2310]\tvalid_0's l2: 0.00653487\n",
      "[2312]\tvalid_0's l2: 0.00653437\n",
      "[2314]\tvalid_0's l2: 0.00653433\n",
      "[2316]\tvalid_0's l2: 0.00653394\n",
      "[2318]\tvalid_0's l2: 0.0065334\n",
      "[2320]\tvalid_0's l2: 0.00653316\n",
      "[2322]\tvalid_0's l2: 0.0065328\n",
      "[2324]\tvalid_0's l2: 0.00653251\n",
      "[2326]\tvalid_0's l2: 0.00653221\n",
      "[2328]\tvalid_0's l2: 0.00653183\n",
      "[2330]\tvalid_0's l2: 0.00653148\n",
      "[2332]\tvalid_0's l2: 0.0065312\n",
      "[2334]\tvalid_0's l2: 0.00653075\n",
      "[2336]\tvalid_0's l2: 0.00653025\n",
      "[2338]\tvalid_0's l2: 0.00652971\n",
      "[2340]\tvalid_0's l2: 0.00652945\n",
      "[2342]\tvalid_0's l2: 0.00652906\n",
      "[2344]\tvalid_0's l2: 0.00652876\n",
      "[2346]\tvalid_0's l2: 0.00652856\n",
      "[2348]\tvalid_0's l2: 0.00652807\n",
      "[2350]\tvalid_0's l2: 0.00652779\n",
      "[2352]\tvalid_0's l2: 0.00652741\n",
      "[2354]\tvalid_0's l2: 0.00652711\n",
      "[2356]\tvalid_0's l2: 0.00652703\n",
      "[2358]\tvalid_0's l2: 0.0065268\n",
      "[2360]\tvalid_0's l2: 0.00652633\n",
      "[2362]\tvalid_0's l2: 0.00652597\n",
      "[2364]\tvalid_0's l2: 0.00652573\n",
      "[2366]\tvalid_0's l2: 0.00652552\n",
      "[2368]\tvalid_0's l2: 0.00652536\n",
      "[2370]\tvalid_0's l2: 0.00652512\n",
      "[2372]\tvalid_0's l2: 0.00652494\n",
      "[2374]\tvalid_0's l2: 0.00652473\n",
      "[2376]\tvalid_0's l2: 0.0065245\n",
      "[2378]\tvalid_0's l2: 0.00652421\n",
      "[2380]\tvalid_0's l2: 0.00652391\n",
      "[2382]\tvalid_0's l2: 0.00652371\n",
      "[2384]\tvalid_0's l2: 0.00652347\n",
      "[2386]\tvalid_0's l2: 0.00652297\n",
      "[2388]\tvalid_0's l2: 0.0065228\n",
      "[2390]\tvalid_0's l2: 0.0065227\n",
      "[2392]\tvalid_0's l2: 0.00652249\n",
      "[2394]\tvalid_0's l2: 0.00652224\n",
      "[2396]\tvalid_0's l2: 0.00652183\n",
      "[2398]\tvalid_0's l2: 0.00652152\n",
      "[2400]\tvalid_0's l2: 0.0065211\n",
      "[2402]\tvalid_0's l2: 0.00652096\n",
      "[2404]\tvalid_0's l2: 0.00652078\n",
      "[2406]\tvalid_0's l2: 0.00652048\n",
      "[2408]\tvalid_0's l2: 0.00652013\n",
      "[2410]\tvalid_0's l2: 0.00651992\n",
      "[2412]\tvalid_0's l2: 0.00651964\n",
      "[2414]\tvalid_0's l2: 0.00651959\n",
      "[2416]\tvalid_0's l2: 0.00651912\n",
      "[2418]\tvalid_0's l2: 0.00651899\n",
      "[2420]\tvalid_0's l2: 0.00651869\n",
      "[2422]\tvalid_0's l2: 0.00651839\n",
      "[2424]\tvalid_0's l2: 0.00651815\n",
      "[2426]\tvalid_0's l2: 0.00651792\n",
      "[2428]\tvalid_0's l2: 0.00651773\n",
      "[2430]\tvalid_0's l2: 0.00651754\n",
      "[2432]\tvalid_0's l2: 0.00651725\n",
      "[2434]\tvalid_0's l2: 0.00651715\n",
      "[2436]\tvalid_0's l2: 0.00651704\n",
      "[2438]\tvalid_0's l2: 0.00651685\n",
      "[2440]\tvalid_0's l2: 0.00651651\n",
      "[2442]\tvalid_0's l2: 0.00651636\n",
      "[2444]\tvalid_0's l2: 0.00651622\n",
      "[2446]\tvalid_0's l2: 0.00651607\n",
      "[2448]\tvalid_0's l2: 0.00651579\n",
      "[2450]\tvalid_0's l2: 0.00651548\n",
      "[2452]\tvalid_0's l2: 0.00651529\n",
      "[2454]\tvalid_0's l2: 0.0065152\n",
      "[2456]\tvalid_0's l2: 0.00651504\n",
      "[2458]\tvalid_0's l2: 0.00651485\n",
      "[2460]\tvalid_0's l2: 0.00651451\n",
      "[2462]\tvalid_0's l2: 0.00651419\n",
      "[2464]\tvalid_0's l2: 0.0065139\n",
      "[2466]\tvalid_0's l2: 0.00651339\n",
      "[2468]\tvalid_0's l2: 0.00651315\n",
      "[2470]\tvalid_0's l2: 0.00651308\n",
      "[2472]\tvalid_0's l2: 0.00651281\n",
      "[2474]\tvalid_0's l2: 0.00651238\n",
      "[2476]\tvalid_0's l2: 0.0065123\n",
      "[2478]\tvalid_0's l2: 0.00651205\n",
      "[2480]\tvalid_0's l2: 0.00651171\n",
      "[2482]\tvalid_0's l2: 0.0065114\n",
      "[2484]\tvalid_0's l2: 0.00651123\n",
      "[2486]\tvalid_0's l2: 0.00651098\n",
      "[2488]\tvalid_0's l2: 0.00651066\n",
      "[2490]\tvalid_0's l2: 0.00651039\n",
      "[2492]\tvalid_0's l2: 0.00651023\n",
      "[2494]\tvalid_0's l2: 0.00651002\n",
      "[2496]\tvalid_0's l2: 0.00650987\n",
      "[2498]\tvalid_0's l2: 0.00650971\n",
      "[2500]\tvalid_0's l2: 0.00650942\n",
      "[2502]\tvalid_0's l2: 0.00650916\n",
      "[2504]\tvalid_0's l2: 0.00650887\n",
      "[2506]\tvalid_0's l2: 0.0065087\n",
      "[2508]\tvalid_0's l2: 0.0065084\n",
      "[2510]\tvalid_0's l2: 0.00650802\n",
      "[2512]\tvalid_0's l2: 0.00650767\n",
      "[2514]\tvalid_0's l2: 0.00650764\n",
      "[2516]\tvalid_0's l2: 0.00650758\n",
      "[2518]\tvalid_0's l2: 0.00650723\n",
      "[2520]\tvalid_0's l2: 0.00650706\n",
      "[2522]\tvalid_0's l2: 0.00650689\n",
      "[2524]\tvalid_0's l2: 0.00650659\n",
      "[2526]\tvalid_0's l2: 0.0065064\n",
      "[2528]\tvalid_0's l2: 0.0065061\n",
      "[2530]\tvalid_0's l2: 0.00650589\n",
      "[2532]\tvalid_0's l2: 0.00650567\n",
      "[2534]\tvalid_0's l2: 0.00650542\n",
      "[2536]\tvalid_0's l2: 0.00650527\n",
      "[2538]\tvalid_0's l2: 0.006505\n",
      "[2540]\tvalid_0's l2: 0.00650474\n",
      "[2542]\tvalid_0's l2: 0.0065045\n",
      "[2544]\tvalid_0's l2: 0.00650455\n",
      "[2546]\tvalid_0's l2: 0.00650414\n",
      "[2548]\tvalid_0's l2: 0.00650401\n",
      "[2550]\tvalid_0's l2: 0.00650365\n",
      "[2552]\tvalid_0's l2: 0.00650337\n",
      "[2554]\tvalid_0's l2: 0.00650307\n",
      "[2556]\tvalid_0's l2: 0.00650282\n",
      "[2558]\tvalid_0's l2: 0.00650237\n",
      "[2560]\tvalid_0's l2: 0.00650197\n",
      "[2562]\tvalid_0's l2: 0.00650183\n",
      "[2564]\tvalid_0's l2: 0.00650167\n",
      "[2566]\tvalid_0's l2: 0.00650153\n",
      "[2568]\tvalid_0's l2: 0.00650134\n",
      "[2570]\tvalid_0's l2: 0.00650113\n",
      "[2572]\tvalid_0's l2: 0.00650094\n",
      "[2574]\tvalid_0's l2: 0.0065006\n",
      "[2576]\tvalid_0's l2: 0.00650032\n",
      "[2578]\tvalid_0's l2: 0.0064999\n",
      "[2580]\tvalid_0's l2: 0.00649976\n",
      "[2582]\tvalid_0's l2: 0.0064996\n",
      "[2584]\tvalid_0's l2: 0.00649943\n",
      "[2586]\tvalid_0's l2: 0.0064993\n",
      "[2588]\tvalid_0's l2: 0.00649899\n",
      "[2590]\tvalid_0's l2: 0.0064986\n",
      "[2592]\tvalid_0's l2: 0.0064984\n",
      "[2594]\tvalid_0's l2: 0.00649797\n",
      "[2596]\tvalid_0's l2: 0.00649788\n",
      "[2598]\tvalid_0's l2: 0.00649759\n",
      "[2600]\tvalid_0's l2: 0.00649754\n",
      "[2602]\tvalid_0's l2: 0.00649729\n",
      "[2604]\tvalid_0's l2: 0.00649709\n",
      "[2606]\tvalid_0's l2: 0.00649684\n",
      "[2608]\tvalid_0's l2: 0.0064965\n",
      "[2610]\tvalid_0's l2: 0.00649638\n",
      "[2612]\tvalid_0's l2: 0.00649612\n",
      "[2614]\tvalid_0's l2: 0.00649584\n",
      "[2616]\tvalid_0's l2: 0.00649558\n",
      "[2618]\tvalid_0's l2: 0.0064954\n",
      "[2620]\tvalid_0's l2: 0.00649523\n",
      "[2622]\tvalid_0's l2: 0.00649502\n",
      "[2624]\tvalid_0's l2: 0.00649462\n",
      "[2626]\tvalid_0's l2: 0.00649438\n",
      "[2628]\tvalid_0's l2: 0.00649421\n",
      "[2630]\tvalid_0's l2: 0.00649403\n",
      "[2632]\tvalid_0's l2: 0.00649394\n",
      "[2634]\tvalid_0's l2: 0.00649356\n",
      "[2636]\tvalid_0's l2: 0.00649344\n",
      "[2638]\tvalid_0's l2: 0.00649335\n",
      "[2640]\tvalid_0's l2: 0.00649334\n",
      "[2642]\tvalid_0's l2: 0.00649299\n",
      "[2644]\tvalid_0's l2: 0.00649275\n",
      "[2646]\tvalid_0's l2: 0.00649246\n",
      "[2648]\tvalid_0's l2: 0.00649235\n",
      "[2650]\tvalid_0's l2: 0.00649214\n",
      "[2652]\tvalid_0's l2: 0.00649199\n",
      "[2654]\tvalid_0's l2: 0.00649175\n",
      "[2656]\tvalid_0's l2: 0.00649135\n",
      "[2658]\tvalid_0's l2: 0.0064912\n",
      "[2660]\tvalid_0's l2: 0.00649094\n",
      "[2662]\tvalid_0's l2: 0.00649078\n",
      "[2664]\tvalid_0's l2: 0.00649052\n",
      "[2666]\tvalid_0's l2: 0.00649041\n",
      "[2668]\tvalid_0's l2: 0.0064903\n",
      "[2670]\tvalid_0's l2: 0.00649002\n",
      "[2672]\tvalid_0's l2: 0.00648987\n",
      "[2674]\tvalid_0's l2: 0.00648977\n",
      "[2676]\tvalid_0's l2: 0.00648973\n",
      "[2678]\tvalid_0's l2: 0.00648964\n",
      "[2680]\tvalid_0's l2: 0.00648956\n",
      "[2682]\tvalid_0's l2: 0.0064894\n",
      "[2684]\tvalid_0's l2: 0.00648899\n",
      "[2686]\tvalid_0's l2: 0.00648877\n",
      "[2688]\tvalid_0's l2: 0.00648858\n",
      "[2690]\tvalid_0's l2: 0.00648845\n",
      "[2692]\tvalid_0's l2: 0.0064881\n",
      "[2694]\tvalid_0's l2: 0.00648796\n",
      "[2696]\tvalid_0's l2: 0.00648764\n",
      "[2698]\tvalid_0's l2: 0.00648753\n",
      "[2700]\tvalid_0's l2: 0.0064872\n",
      "[2702]\tvalid_0's l2: 0.00648691\n",
      "[2704]\tvalid_0's l2: 0.00648655\n",
      "[2706]\tvalid_0's l2: 0.00648634\n",
      "[2708]\tvalid_0's l2: 0.00648607\n",
      "[2710]\tvalid_0's l2: 0.00648597\n",
      "[2712]\tvalid_0's l2: 0.00648564\n",
      "[2714]\tvalid_0's l2: 0.00648551\n",
      "[2716]\tvalid_0's l2: 0.00648529\n",
      "[2718]\tvalid_0's l2: 0.00648499\n",
      "[2720]\tvalid_0's l2: 0.00648486\n",
      "[2722]\tvalid_0's l2: 0.00648474\n",
      "[2724]\tvalid_0's l2: 0.00648448\n",
      "[2726]\tvalid_0's l2: 0.00648428\n",
      "[2728]\tvalid_0's l2: 0.0064842\n",
      "[2730]\tvalid_0's l2: 0.00648397\n",
      "[2732]\tvalid_0's l2: 0.00648384\n",
      "[2734]\tvalid_0's l2: 0.00648358\n",
      "[2736]\tvalid_0's l2: 0.00648335\n",
      "[2738]\tvalid_0's l2: 0.00648319\n",
      "[2740]\tvalid_0's l2: 0.00648297\n",
      "[2742]\tvalid_0's l2: 0.00648262\n",
      "[2744]\tvalid_0's l2: 0.00648259\n",
      "[2746]\tvalid_0's l2: 0.00648239\n",
      "[2748]\tvalid_0's l2: 0.00648211\n",
      "[2750]\tvalid_0's l2: 0.00648193\n",
      "[2752]\tvalid_0's l2: 0.00648167\n",
      "[2754]\tvalid_0's l2: 0.00648158\n",
      "[2756]\tvalid_0's l2: 0.00648137\n",
      "[2758]\tvalid_0's l2: 0.00648114\n",
      "[2760]\tvalid_0's l2: 0.0064809\n",
      "[2762]\tvalid_0's l2: 0.00648086\n",
      "[2764]\tvalid_0's l2: 0.00648054\n",
      "[2766]\tvalid_0's l2: 0.00648041\n",
      "[2768]\tvalid_0's l2: 0.00648029\n",
      "[2770]\tvalid_0's l2: 0.00647998\n",
      "[2772]\tvalid_0's l2: 0.00647985\n",
      "[2774]\tvalid_0's l2: 0.00647961\n",
      "[2776]\tvalid_0's l2: 0.00647936\n",
      "[2778]\tvalid_0's l2: 0.0064792\n",
      "[2780]\tvalid_0's l2: 0.00647907\n",
      "[2782]\tvalid_0's l2: 0.00647889\n",
      "[2784]\tvalid_0's l2: 0.00647867\n",
      "[2786]\tvalid_0's l2: 0.00647851\n",
      "[2788]\tvalid_0's l2: 0.00647829\n",
      "[2790]\tvalid_0's l2: 0.00647825\n",
      "[2792]\tvalid_0's l2: 0.00647798\n",
      "[2794]\tvalid_0's l2: 0.00647793\n",
      "[2796]\tvalid_0's l2: 0.00647773\n",
      "[2798]\tvalid_0's l2: 0.00647747\n",
      "[2800]\tvalid_0's l2: 0.00647722\n",
      "[2802]\tvalid_0's l2: 0.00647713\n",
      "[2804]\tvalid_0's l2: 0.00647688\n",
      "[2806]\tvalid_0's l2: 0.00647671\n",
      "[2808]\tvalid_0's l2: 0.00647648\n",
      "[2810]\tvalid_0's l2: 0.00647631\n",
      "[2812]\tvalid_0's l2: 0.00647615\n",
      "[2814]\tvalid_0's l2: 0.00647585\n",
      "[2816]\tvalid_0's l2: 0.00647547\n",
      "[2818]\tvalid_0's l2: 0.00647524\n",
      "[2820]\tvalid_0's l2: 0.00647509\n",
      "[2822]\tvalid_0's l2: 0.00647476\n",
      "[2824]\tvalid_0's l2: 0.0064747\n",
      "[2826]\tvalid_0's l2: 0.00647462\n",
      "[2828]\tvalid_0's l2: 0.00647447\n",
      "[2830]\tvalid_0's l2: 0.00647436\n",
      "[2832]\tvalid_0's l2: 0.00647409\n",
      "[2834]\tvalid_0's l2: 0.00647394\n",
      "[2836]\tvalid_0's l2: 0.00647372\n",
      "[2838]\tvalid_0's l2: 0.0064738\n",
      "[2840]\tvalid_0's l2: 0.00647365\n",
      "[2842]\tvalid_0's l2: 0.00647353\n",
      "[2844]\tvalid_0's l2: 0.00647343\n",
      "[2846]\tvalid_0's l2: 0.00647328\n",
      "[2848]\tvalid_0's l2: 0.00647319\n",
      "[2850]\tvalid_0's l2: 0.00647294\n",
      "[2852]\tvalid_0's l2: 0.0064727\n",
      "[2854]\tvalid_0's l2: 0.00647256\n",
      "[2856]\tvalid_0's l2: 0.00647237\n",
      "[2858]\tvalid_0's l2: 0.00647217\n",
      "[2860]\tvalid_0's l2: 0.006472\n",
      "[2862]\tvalid_0's l2: 0.00647183\n",
      "[2864]\tvalid_0's l2: 0.00647161\n",
      "[2866]\tvalid_0's l2: 0.00647152\n",
      "[2868]\tvalid_0's l2: 0.00647148\n",
      "[2870]\tvalid_0's l2: 0.00647125\n",
      "[2872]\tvalid_0's l2: 0.00647117\n",
      "[2874]\tvalid_0's l2: 0.00647087\n",
      "[2876]\tvalid_0's l2: 0.00647077\n",
      "[2878]\tvalid_0's l2: 0.00647058\n",
      "[2880]\tvalid_0's l2: 0.00647035\n",
      "[2882]\tvalid_0's l2: 0.0064702\n",
      "[2884]\tvalid_0's l2: 0.00647002\n",
      "[2886]\tvalid_0's l2: 0.00646983\n",
      "[2888]\tvalid_0's l2: 0.00646987\n",
      "[2890]\tvalid_0's l2: 0.00646984\n",
      "[2892]\tvalid_0's l2: 0.00646967\n",
      "[2894]\tvalid_0's l2: 0.00646955\n",
      "[2896]\tvalid_0's l2: 0.00646945\n",
      "[2898]\tvalid_0's l2: 0.00646928\n",
      "[2900]\tvalid_0's l2: 0.00646915\n",
      "[2902]\tvalid_0's l2: 0.00646883\n",
      "[2904]\tvalid_0's l2: 0.00646874\n",
      "[2906]\tvalid_0's l2: 0.00646853\n",
      "[2908]\tvalid_0's l2: 0.00646849\n",
      "[2910]\tvalid_0's l2: 0.00646826\n",
      "[2912]\tvalid_0's l2: 0.00646814\n",
      "[2914]\tvalid_0's l2: 0.00646791\n",
      "[2916]\tvalid_0's l2: 0.00646775\n",
      "[2918]\tvalid_0's l2: 0.00646763\n",
      "[2920]\tvalid_0's l2: 0.00646751\n",
      "[2922]\tvalid_0's l2: 0.00646732\n",
      "[2924]\tvalid_0's l2: 0.00646726\n",
      "[2926]\tvalid_0's l2: 0.00646703\n",
      "[2928]\tvalid_0's l2: 0.00646683\n",
      "[2930]\tvalid_0's l2: 0.0064666\n",
      "[2932]\tvalid_0's l2: 0.00646648\n",
      "[2934]\tvalid_0's l2: 0.00646627\n",
      "[2936]\tvalid_0's l2: 0.0064661\n",
      "[2938]\tvalid_0's l2: 0.00646605\n",
      "[2940]\tvalid_0's l2: 0.00646606\n",
      "[2942]\tvalid_0's l2: 0.00646587\n",
      "[2944]\tvalid_0's l2: 0.00646579\n",
      "[2946]\tvalid_0's l2: 0.00646583\n",
      "[2948]\tvalid_0's l2: 0.00646557\n",
      "[2950]\tvalid_0's l2: 0.00646536\n",
      "[2952]\tvalid_0's l2: 0.00646524\n",
      "[2954]\tvalid_0's l2: 0.00646506\n",
      "[2956]\tvalid_0's l2: 0.00646491\n",
      "[2958]\tvalid_0's l2: 0.00646483\n",
      "[2960]\tvalid_0's l2: 0.00646476\n",
      "[2962]\tvalid_0's l2: 0.00646456\n",
      "[2964]\tvalid_0's l2: 0.00646442\n",
      "[2966]\tvalid_0's l2: 0.0064641\n",
      "[2968]\tvalid_0's l2: 0.00646403\n",
      "[2970]\tvalid_0's l2: 0.00646381\n",
      "[2972]\tvalid_0's l2: 0.00646377\n",
      "[2974]\tvalid_0's l2: 0.00646355\n",
      "[2976]\tvalid_0's l2: 0.00646344\n",
      "[2978]\tvalid_0's l2: 0.00646342\n",
      "[2980]\tvalid_0's l2: 0.00646335\n",
      "[2982]\tvalid_0's l2: 0.00646327\n",
      "[2984]\tvalid_0's l2: 0.00646318\n",
      "[2986]\tvalid_0's l2: 0.00646296\n",
      "[2988]\tvalid_0's l2: 0.00646302\n",
      "[2990]\tvalid_0's l2: 0.00646292\n",
      "[2992]\tvalid_0's l2: 0.00646288\n",
      "[2994]\tvalid_0's l2: 0.0064627\n",
      "[2996]\tvalid_0's l2: 0.00646254\n",
      "[2998]\tvalid_0's l2: 0.00646227\n",
      "[3000]\tvalid_0's l2: 0.00646202\n",
      "[3002]\tvalid_0's l2: 0.00646194\n",
      "[3004]\tvalid_0's l2: 0.0064618\n",
      "[3006]\tvalid_0's l2: 0.00646152\n",
      "[3008]\tvalid_0's l2: 0.00646122\n",
      "[3010]\tvalid_0's l2: 0.00646105\n",
      "[3012]\tvalid_0's l2: 0.00646096\n",
      "[3014]\tvalid_0's l2: 0.00646076\n",
      "[3016]\tvalid_0's l2: 0.00646062\n",
      "[3018]\tvalid_0's l2: 0.00646025\n",
      "[3020]\tvalid_0's l2: 0.00646018\n",
      "[3022]\tvalid_0's l2: 0.00646009\n",
      "[3024]\tvalid_0's l2: 0.00645991\n",
      "[3026]\tvalid_0's l2: 0.00645993\n",
      "[3028]\tvalid_0's l2: 0.00645987\n",
      "[3030]\tvalid_0's l2: 0.00645979\n",
      "[3032]\tvalid_0's l2: 0.00645956\n",
      "[3034]\tvalid_0's l2: 0.00645944\n",
      "[3036]\tvalid_0's l2: 0.00645922\n",
      "[3038]\tvalid_0's l2: 0.00645909\n",
      "[3040]\tvalid_0's l2: 0.00645907\n",
      "[3042]\tvalid_0's l2: 0.00645892\n",
      "[3044]\tvalid_0's l2: 0.00645883\n",
      "[3046]\tvalid_0's l2: 0.00645872\n",
      "[3048]\tvalid_0's l2: 0.00645859\n",
      "[3050]\tvalid_0's l2: 0.00645837\n",
      "[3052]\tvalid_0's l2: 0.00645812\n",
      "[3054]\tvalid_0's l2: 0.00645786\n",
      "[3056]\tvalid_0's l2: 0.00645775\n",
      "[3058]\tvalid_0's l2: 0.00645757\n",
      "[3060]\tvalid_0's l2: 0.00645752\n",
      "[3062]\tvalid_0's l2: 0.00645754\n",
      "[3064]\tvalid_0's l2: 0.00645739\n",
      "[3066]\tvalid_0's l2: 0.00645735\n",
      "[3068]\tvalid_0's l2: 0.00645705\n",
      "[3070]\tvalid_0's l2: 0.00645683\n",
      "[3072]\tvalid_0's l2: 0.00645684\n",
      "[3074]\tvalid_0's l2: 0.00645669\n",
      "[3076]\tvalid_0's l2: 0.00645658\n",
      "[3078]\tvalid_0's l2: 0.00645636\n",
      "[3080]\tvalid_0's l2: 0.00645618\n",
      "[3082]\tvalid_0's l2: 0.00645601\n",
      "[3084]\tvalid_0's l2: 0.00645589\n",
      "[3086]\tvalid_0's l2: 0.00645577\n",
      "[3088]\tvalid_0's l2: 0.00645554\n",
      "[3090]\tvalid_0's l2: 0.00645536\n",
      "[3092]\tvalid_0's l2: 0.00645513\n",
      "[3094]\tvalid_0's l2: 0.00645498\n",
      "[3096]\tvalid_0's l2: 0.00645486\n",
      "[3098]\tvalid_0's l2: 0.00645479\n",
      "[3100]\tvalid_0's l2: 0.00645465\n",
      "[3102]\tvalid_0's l2: 0.00645429\n",
      "[3104]\tvalid_0's l2: 0.00645435\n",
      "[3106]\tvalid_0's l2: 0.00645422\n",
      "[3108]\tvalid_0's l2: 0.00645429\n",
      "[3110]\tvalid_0's l2: 0.0064542\n",
      "[3112]\tvalid_0's l2: 0.0064541\n",
      "[3114]\tvalid_0's l2: 0.00645402\n",
      "[3116]\tvalid_0's l2: 0.00645385\n",
      "[3118]\tvalid_0's l2: 0.00645371\n",
      "[3120]\tvalid_0's l2: 0.00645371\n",
      "[3122]\tvalid_0's l2: 0.00645346\n",
      "[3124]\tvalid_0's l2: 0.00645333\n",
      "[3126]\tvalid_0's l2: 0.00645324\n",
      "[3128]\tvalid_0's l2: 0.00645312\n",
      "[3130]\tvalid_0's l2: 0.00645292\n",
      "[3132]\tvalid_0's l2: 0.00645282\n",
      "[3134]\tvalid_0's l2: 0.0064527\n",
      "[3136]\tvalid_0's l2: 0.00645249\n",
      "[3138]\tvalid_0's l2: 0.00645237\n",
      "[3140]\tvalid_0's l2: 0.0064523\n",
      "[3142]\tvalid_0's l2: 0.00645234\n",
      "[3144]\tvalid_0's l2: 0.00645211\n",
      "[3146]\tvalid_0's l2: 0.00645203\n",
      "[3148]\tvalid_0's l2: 0.00645194\n",
      "[3150]\tvalid_0's l2: 0.00645173\n",
      "[3152]\tvalid_0's l2: 0.00645164\n",
      "[3154]\tvalid_0's l2: 0.00645145\n",
      "[3156]\tvalid_0's l2: 0.00645134\n",
      "[3158]\tvalid_0's l2: 0.00645129\n",
      "[3160]\tvalid_0's l2: 0.00645121\n",
      "[3162]\tvalid_0's l2: 0.00645105\n",
      "[3164]\tvalid_0's l2: 0.00645086\n",
      "[3166]\tvalid_0's l2: 0.00645068\n",
      "[3168]\tvalid_0's l2: 0.00645055\n",
      "[3170]\tvalid_0's l2: 0.00645032\n",
      "[3172]\tvalid_0's l2: 0.00645019\n",
      "[3174]\tvalid_0's l2: 0.00645009\n",
      "[3176]\tvalid_0's l2: 0.00644996\n",
      "[3178]\tvalid_0's l2: 0.00644995\n",
      "[3180]\tvalid_0's l2: 0.00644982\n",
      "[3182]\tvalid_0's l2: 0.00644971\n",
      "[3184]\tvalid_0's l2: 0.00644954\n",
      "[3186]\tvalid_0's l2: 0.00644935\n",
      "[3188]\tvalid_0's l2: 0.0064493\n",
      "[3190]\tvalid_0's l2: 0.0064492\n",
      "[3192]\tvalid_0's l2: 0.00644909\n",
      "[3194]\tvalid_0's l2: 0.00644909\n",
      "[3196]\tvalid_0's l2: 0.00644897\n",
      "[3198]\tvalid_0's l2: 0.00644878\n",
      "[3200]\tvalid_0's l2: 0.0064487\n",
      "[3202]\tvalid_0's l2: 0.0064485\n",
      "[3204]\tvalid_0's l2: 0.00644841\n",
      "[3206]\tvalid_0's l2: 0.00644824\n",
      "[3208]\tvalid_0's l2: 0.00644796\n",
      "[3210]\tvalid_0's l2: 0.00644783\n",
      "[3212]\tvalid_0's l2: 0.00644781\n",
      "[3214]\tvalid_0's l2: 0.00644773\n",
      "[3216]\tvalid_0's l2: 0.00644761\n",
      "[3218]\tvalid_0's l2: 0.00644734\n",
      "[3220]\tvalid_0's l2: 0.00644723\n",
      "[3222]\tvalid_0's l2: 0.00644722\n",
      "[3224]\tvalid_0's l2: 0.00644709\n",
      "[3226]\tvalid_0's l2: 0.00644689\n",
      "[3228]\tvalid_0's l2: 0.00644673\n",
      "[3230]\tvalid_0's l2: 0.0064467\n",
      "[3232]\tvalid_0's l2: 0.00644656\n",
      "[3234]\tvalid_0's l2: 0.00644651\n",
      "[3236]\tvalid_0's l2: 0.00644639\n",
      "[3238]\tvalid_0's l2: 0.00644636\n",
      "[3240]\tvalid_0's l2: 0.00644631\n",
      "[3242]\tvalid_0's l2: 0.00644629\n",
      "[3244]\tvalid_0's l2: 0.00644615\n",
      "[3246]\tvalid_0's l2: 0.00644603\n",
      "[3248]\tvalid_0's l2: 0.00644586\n",
      "[3250]\tvalid_0's l2: 0.00644558\n",
      "[3252]\tvalid_0's l2: 0.00644558\n",
      "[3254]\tvalid_0's l2: 0.00644559\n",
      "[3256]\tvalid_0's l2: 0.00644537\n",
      "[3258]\tvalid_0's l2: 0.00644527\n",
      "[3260]\tvalid_0's l2: 0.00644524\n",
      "[3262]\tvalid_0's l2: 0.00644516\n",
      "[3264]\tvalid_0's l2: 0.00644505\n",
      "[3266]\tvalid_0's l2: 0.00644494\n",
      "[3268]\tvalid_0's l2: 0.00644472\n",
      "[3270]\tvalid_0's l2: 0.00644457\n",
      "[3272]\tvalid_0's l2: 0.00644442\n",
      "[3274]\tvalid_0's l2: 0.00644441\n",
      "[3276]\tvalid_0's l2: 0.00644422\n",
      "[3278]\tvalid_0's l2: 0.00644417\n",
      "[3280]\tvalid_0's l2: 0.00644405\n",
      "[3282]\tvalid_0's l2: 0.00644399\n",
      "[3284]\tvalid_0's l2: 0.00644387\n",
      "[3286]\tvalid_0's l2: 0.00644377\n",
      "[3288]\tvalid_0's l2: 0.00644359\n",
      "[3290]\tvalid_0's l2: 0.00644344\n",
      "[3292]\tvalid_0's l2: 0.00644332\n",
      "[3294]\tvalid_0's l2: 0.00644325\n",
      "[3296]\tvalid_0's l2: 0.00644322\n",
      "[3298]\tvalid_0's l2: 0.00644306\n",
      "[3300]\tvalid_0's l2: 0.00644286\n",
      "[3302]\tvalid_0's l2: 0.00644268\n",
      "[3304]\tvalid_0's l2: 0.00644261\n",
      "[3306]\tvalid_0's l2: 0.00644259\n",
      "[3308]\tvalid_0's l2: 0.00644246\n",
      "[3310]\tvalid_0's l2: 0.00644235\n",
      "[3312]\tvalid_0's l2: 0.00644225\n",
      "[3314]\tvalid_0's l2: 0.00644214\n",
      "[3316]\tvalid_0's l2: 0.006442\n",
      "[3318]\tvalid_0's l2: 0.00644204\n",
      "[3320]\tvalid_0's l2: 0.00644184\n",
      "[3322]\tvalid_0's l2: 0.00644175\n",
      "[3324]\tvalid_0's l2: 0.00644174\n",
      "[3326]\tvalid_0's l2: 0.00644173\n",
      "[3328]\tvalid_0's l2: 0.0064417\n",
      "[3330]\tvalid_0's l2: 0.00644162\n",
      "[3332]\tvalid_0's l2: 0.00644145\n",
      "[3334]\tvalid_0's l2: 0.00644132\n",
      "[3336]\tvalid_0's l2: 0.00644134\n",
      "[3338]\tvalid_0's l2: 0.00644121\n",
      "[3340]\tvalid_0's l2: 0.00644111\n",
      "[3342]\tvalid_0's l2: 0.00644115\n",
      "[3344]\tvalid_0's l2: 0.0064411\n",
      "[3346]\tvalid_0's l2: 0.00644097\n",
      "[3348]\tvalid_0's l2: 0.00644082\n",
      "[3350]\tvalid_0's l2: 0.0064407\n",
      "[3352]\tvalid_0's l2: 0.00644066\n",
      "[3354]\tvalid_0's l2: 0.00644059\n",
      "[3356]\tvalid_0's l2: 0.00644045\n",
      "[3358]\tvalid_0's l2: 0.00644052\n",
      "[3360]\tvalid_0's l2: 0.00644052\n",
      "[3362]\tvalid_0's l2: 0.00644041\n",
      "[3364]\tvalid_0's l2: 0.00644033\n",
      "[3366]\tvalid_0's l2: 0.00644033\n",
      "[3368]\tvalid_0's l2: 0.00644021\n",
      "[3370]\tvalid_0's l2: 0.00644016\n",
      "[3372]\tvalid_0's l2: 0.00644006\n",
      "[3374]\tvalid_0's l2: 0.00644008\n",
      "[3376]\tvalid_0's l2: 0.00643996\n",
      "[3378]\tvalid_0's l2: 0.00643984\n",
      "[3380]\tvalid_0's l2: 0.00643974\n",
      "[3382]\tvalid_0's l2: 0.00643969\n",
      "[3384]\tvalid_0's l2: 0.00643963\n",
      "[3386]\tvalid_0's l2: 0.00643953\n",
      "[3388]\tvalid_0's l2: 0.00643943\n",
      "[3390]\tvalid_0's l2: 0.00643934\n",
      "[3392]\tvalid_0's l2: 0.00643924\n",
      "[3394]\tvalid_0's l2: 0.00643926\n",
      "[3396]\tvalid_0's l2: 0.00643919\n",
      "[3398]\tvalid_0's l2: 0.00643903\n",
      "[3400]\tvalid_0's l2: 0.00643872\n",
      "[3402]\tvalid_0's l2: 0.00643855\n",
      "[3404]\tvalid_0's l2: 0.00643846\n",
      "[3406]\tvalid_0's l2: 0.00643829\n",
      "[3408]\tvalid_0's l2: 0.00643812\n",
      "[3410]\tvalid_0's l2: 0.00643798\n",
      "[3412]\tvalid_0's l2: 0.00643796\n",
      "[3414]\tvalid_0's l2: 0.00643779\n",
      "[3416]\tvalid_0's l2: 0.0064377\n",
      "[3418]\tvalid_0's l2: 0.00643759\n",
      "[3420]\tvalid_0's l2: 0.00643747\n",
      "[3422]\tvalid_0's l2: 0.00643737\n",
      "[3424]\tvalid_0's l2: 0.00643736\n",
      "[3426]\tvalid_0's l2: 0.00643727\n",
      "[3428]\tvalid_0's l2: 0.00643732\n",
      "[3430]\tvalid_0's l2: 0.00643724\n",
      "[3432]\tvalid_0's l2: 0.00643722\n",
      "[3434]\tvalid_0's l2: 0.0064372\n",
      "[3436]\tvalid_0's l2: 0.0064371\n",
      "[3438]\tvalid_0's l2: 0.0064371\n",
      "[3440]\tvalid_0's l2: 0.00643709\n",
      "[3442]\tvalid_0's l2: 0.00643695\n",
      "[3444]\tvalid_0's l2: 0.00643695\n",
      "[3446]\tvalid_0's l2: 0.00643701\n",
      "[3448]\tvalid_0's l2: 0.00643685\n",
      "[3450]\tvalid_0's l2: 0.00643668\n",
      "[3452]\tvalid_0's l2: 0.00643649\n",
      "[3454]\tvalid_0's l2: 0.00643639\n",
      "[3456]\tvalid_0's l2: 0.0064365\n",
      "[3458]\tvalid_0's l2: 0.00643643\n",
      "[3460]\tvalid_0's l2: 0.00643638\n",
      "[3462]\tvalid_0's l2: 0.0064363\n",
      "[3464]\tvalid_0's l2: 0.00643624\n",
      "[3466]\tvalid_0's l2: 0.00643619\n",
      "[3468]\tvalid_0's l2: 0.00643603\n",
      "[3470]\tvalid_0's l2: 0.0064359\n",
      "[3472]\tvalid_0's l2: 0.00643585\n",
      "[3474]\tvalid_0's l2: 0.00643573\n",
      "[3476]\tvalid_0's l2: 0.00643568\n",
      "[3478]\tvalid_0's l2: 0.0064356\n",
      "[3480]\tvalid_0's l2: 0.0064355\n",
      "[3482]\tvalid_0's l2: 0.00643555\n",
      "[3484]\tvalid_0's l2: 0.00643568\n",
      "[3486]\tvalid_0's l2: 0.00643569\n",
      "[3488]\tvalid_0's l2: 0.00643568\n",
      "[3490]\tvalid_0's l2: 0.00643572\n",
      "[3492]\tvalid_0's l2: 0.00643557\n",
      "[3494]\tvalid_0's l2: 0.00643547\n",
      "[3496]\tvalid_0's l2: 0.00643537\n",
      "[3498]\tvalid_0's l2: 0.00643525\n",
      "[3500]\tvalid_0's l2: 0.00643511\n",
      "[3502]\tvalid_0's l2: 0.00643484\n",
      "[3504]\tvalid_0's l2: 0.00643475\n",
      "[3506]\tvalid_0's l2: 0.00643459\n",
      "[3508]\tvalid_0's l2: 0.00643443\n",
      "[3510]\tvalid_0's l2: 0.00643445\n",
      "[3512]\tvalid_0's l2: 0.0064343\n",
      "[3514]\tvalid_0's l2: 0.00643428\n",
      "[3516]\tvalid_0's l2: 0.00643409\n",
      "[3518]\tvalid_0's l2: 0.00643409\n",
      "[3520]\tvalid_0's l2: 0.00643405\n",
      "[3522]\tvalid_0's l2: 0.00643394\n",
      "[3524]\tvalid_0's l2: 0.00643381\n",
      "[3526]\tvalid_0's l2: 0.00643362\n",
      "[3528]\tvalid_0's l2: 0.00643356\n",
      "[3530]\tvalid_0's l2: 0.00643345\n",
      "[3532]\tvalid_0's l2: 0.0064334\n",
      "[3534]\tvalid_0's l2: 0.00643333\n",
      "[3536]\tvalid_0's l2: 0.00643321\n",
      "[3538]\tvalid_0's l2: 0.00643301\n",
      "[3540]\tvalid_0's l2: 0.006433\n",
      "[3542]\tvalid_0's l2: 0.0064328\n",
      "[3544]\tvalid_0's l2: 0.00643271\n",
      "[3546]\tvalid_0's l2: 0.00643265\n",
      "[3548]\tvalid_0's l2: 0.00643253\n",
      "[3550]\tvalid_0's l2: 0.00643253\n",
      "[3552]\tvalid_0's l2: 0.00643247\n",
      "[3554]\tvalid_0's l2: 0.00643243\n",
      "[3556]\tvalid_0's l2: 0.00643238\n",
      "[3558]\tvalid_0's l2: 0.00643233\n",
      "[3560]\tvalid_0's l2: 0.00643232\n",
      "[3562]\tvalid_0's l2: 0.00643212\n",
      "[3564]\tvalid_0's l2: 0.00643194\n",
      "[3566]\tvalid_0's l2: 0.00643206\n",
      "[3568]\tvalid_0's l2: 0.00643207\n",
      "[3570]\tvalid_0's l2: 0.00643194\n",
      "[3572]\tvalid_0's l2: 0.0064318\n",
      "[3574]\tvalid_0's l2: 0.00643173\n",
      "[3576]\tvalid_0's l2: 0.00643167\n",
      "[3578]\tvalid_0's l2: 0.00643175\n",
      "[3580]\tvalid_0's l2: 0.00643162\n",
      "[3582]\tvalid_0's l2: 0.00643147\n",
      "[3584]\tvalid_0's l2: 0.00643136\n",
      "[3586]\tvalid_0's l2: 0.0064314\n",
      "[3588]\tvalid_0's l2: 0.00643154\n",
      "[3590]\tvalid_0's l2: 0.00643146\n",
      "[3592]\tvalid_0's l2: 0.00643145\n",
      "[3594]\tvalid_0's l2: 0.00643138\n",
      "[3596]\tvalid_0's l2: 0.00643132\n",
      "[3598]\tvalid_0's l2: 0.00643127\n",
      "[3600]\tvalid_0's l2: 0.00643114\n",
      "[3602]\tvalid_0's l2: 0.00643098\n",
      "[3604]\tvalid_0's l2: 0.0064308\n",
      "[3606]\tvalid_0's l2: 0.00643071\n",
      "[3608]\tvalid_0's l2: 0.0064307\n",
      "[3610]\tvalid_0's l2: 0.00643062\n",
      "[3612]\tvalid_0's l2: 0.00643045\n",
      "[3614]\tvalid_0's l2: 0.00643041\n",
      "[3616]\tvalid_0's l2: 0.00643033\n",
      "[3618]\tvalid_0's l2: 0.00643022\n",
      "[3620]\tvalid_0's l2: 0.00643018\n",
      "[3622]\tvalid_0's l2: 0.00643008\n",
      "[3624]\tvalid_0's l2: 0.00643016\n",
      "[3626]\tvalid_0's l2: 0.00643013\n",
      "[3628]\tvalid_0's l2: 0.00643019\n",
      "[3630]\tvalid_0's l2: 0.00643021\n",
      "[3632]\tvalid_0's l2: 0.00643005\n",
      "[3634]\tvalid_0's l2: 0.00643005\n",
      "[3636]\tvalid_0's l2: 0.00643007\n",
      "[3638]\tvalid_0's l2: 0.00643007\n",
      "[3640]\tvalid_0's l2: 0.00643013\n",
      "[3642]\tvalid_0's l2: 0.00643011\n",
      "[3644]\tvalid_0's l2: 0.00643004\n",
      "[3646]\tvalid_0's l2: 0.00642986\n",
      "[3648]\tvalid_0's l2: 0.00642981\n",
      "[3650]\tvalid_0's l2: 0.00642985\n",
      "[3652]\tvalid_0's l2: 0.00642973\n",
      "[3654]\tvalid_0's l2: 0.00642965\n",
      "[3656]\tvalid_0's l2: 0.00642967\n",
      "[3658]\tvalid_0's l2: 0.00642953\n",
      "[3660]\tvalid_0's l2: 0.00642959\n",
      "[3662]\tvalid_0's l2: 0.00642964\n",
      "[3664]\tvalid_0's l2: 0.00642965\n",
      "[3666]\tvalid_0's l2: 0.00642969\n",
      "[3668]\tvalid_0's l2: 0.00642965\n",
      "[3670]\tvalid_0's l2: 0.0064297\n",
      "[3672]\tvalid_0's l2: 0.00642972\n",
      "[3674]\tvalid_0's l2: 0.00642969\n",
      "[3676]\tvalid_0's l2: 0.00642961\n",
      "[3678]\tvalid_0's l2: 0.00642958\n",
      "[3680]\tvalid_0's l2: 0.00642969\n",
      "[3682]\tvalid_0's l2: 0.00642959\n",
      "[3684]\tvalid_0's l2: 0.0064295\n",
      "[3686]\tvalid_0's l2: 0.00642945\n",
      "[3688]\tvalid_0's l2: 0.00642937\n",
      "[3690]\tvalid_0's l2: 0.00642917\n",
      "[3692]\tvalid_0's l2: 0.00642912\n",
      "[3694]\tvalid_0's l2: 0.00642904\n",
      "[3696]\tvalid_0's l2: 0.00642905\n",
      "[3698]\tvalid_0's l2: 0.00642909\n",
      "[3700]\tvalid_0's l2: 0.00642894\n",
      "[3702]\tvalid_0's l2: 0.00642881\n",
      "[3704]\tvalid_0's l2: 0.00642865\n",
      "[3706]\tvalid_0's l2: 0.00642851\n",
      "[3708]\tvalid_0's l2: 0.0064286\n",
      "[3710]\tvalid_0's l2: 0.00642866\n",
      "[3712]\tvalid_0's l2: 0.00642866\n",
      "[3714]\tvalid_0's l2: 0.00642855\n",
      "[3716]\tvalid_0's l2: 0.00642854\n",
      "[3718]\tvalid_0's l2: 0.00642848\n",
      "[3720]\tvalid_0's l2: 0.00642837\n",
      "[3722]\tvalid_0's l2: 0.00642831\n",
      "[3724]\tvalid_0's l2: 0.00642818\n",
      "[3726]\tvalid_0's l2: 0.00642822\n",
      "[3728]\tvalid_0's l2: 0.00642813\n",
      "[3730]\tvalid_0's l2: 0.00642812\n",
      "[3732]\tvalid_0's l2: 0.00642799\n",
      "[3734]\tvalid_0's l2: 0.00642805\n",
      "[3736]\tvalid_0's l2: 0.00642785\n",
      "[3738]\tvalid_0's l2: 0.00642784\n",
      "[3740]\tvalid_0's l2: 0.00642772\n",
      "[3742]\tvalid_0's l2: 0.00642767\n",
      "[3744]\tvalid_0's l2: 0.0064276\n",
      "[3746]\tvalid_0's l2: 0.00642752\n",
      "[3748]\tvalid_0's l2: 0.00642744\n",
      "[3750]\tvalid_0's l2: 0.00642724\n",
      "[3752]\tvalid_0's l2: 0.0064273\n",
      "[3754]\tvalid_0's l2: 0.00642712\n",
      "[3756]\tvalid_0's l2: 0.00642711\n",
      "[3758]\tvalid_0's l2: 0.00642698\n",
      "[3760]\tvalid_0's l2: 0.00642706\n",
      "[3762]\tvalid_0's l2: 0.006427\n",
      "[3764]\tvalid_0's l2: 0.00642684\n",
      "[3766]\tvalid_0's l2: 0.00642671\n",
      "[3768]\tvalid_0's l2: 0.0064266\n",
      "[3770]\tvalid_0's l2: 0.00642654\n",
      "[3772]\tvalid_0's l2: 0.00642653\n",
      "[3774]\tvalid_0's l2: 0.00642637\n",
      "[3776]\tvalid_0's l2: 0.0064263\n",
      "[3778]\tvalid_0's l2: 0.00642625\n",
      "[3780]\tvalid_0's l2: 0.00642612\n",
      "[3782]\tvalid_0's l2: 0.00642605\n",
      "[3784]\tvalid_0's l2: 0.00642598\n",
      "[3786]\tvalid_0's l2: 0.00642599\n",
      "[3788]\tvalid_0's l2: 0.00642591\n",
      "[3790]\tvalid_0's l2: 0.00642581\n",
      "[3792]\tvalid_0's l2: 0.00642576\n",
      "[3794]\tvalid_0's l2: 0.00642576\n",
      "[3796]\tvalid_0's l2: 0.00642564\n",
      "[3798]\tvalid_0's l2: 0.00642557\n",
      "[3800]\tvalid_0's l2: 0.00642559\n",
      "[3802]\tvalid_0's l2: 0.00642552\n",
      "[3804]\tvalid_0's l2: 0.00642543\n",
      "[3806]\tvalid_0's l2: 0.00642543\n",
      "[3808]\tvalid_0's l2: 0.00642541\n",
      "[3810]\tvalid_0's l2: 0.00642534\n",
      "[3812]\tvalid_0's l2: 0.00642509\n",
      "[3814]\tvalid_0's l2: 0.00642492\n",
      "[3816]\tvalid_0's l2: 0.00642487\n",
      "[3818]\tvalid_0's l2: 0.00642471\n",
      "[3820]\tvalid_0's l2: 0.00642473\n",
      "[3822]\tvalid_0's l2: 0.00642468\n",
      "[3824]\tvalid_0's l2: 0.00642477\n",
      "[3826]\tvalid_0's l2: 0.00642486\n",
      "[3828]\tvalid_0's l2: 0.00642478\n",
      "[3830]\tvalid_0's l2: 0.00642481\n",
      "[3832]\tvalid_0's l2: 0.00642477\n",
      "[3834]\tvalid_0's l2: 0.00642465\n",
      "[3836]\tvalid_0's l2: 0.00642457\n",
      "[3838]\tvalid_0's l2: 0.00642444\n",
      "[3840]\tvalid_0's l2: 0.00642442\n",
      "[3842]\tvalid_0's l2: 0.00642443\n",
      "[3844]\tvalid_0's l2: 0.00642445\n",
      "[3846]\tvalid_0's l2: 0.00642452\n",
      "[3848]\tvalid_0's l2: 0.00642458\n",
      "[3850]\tvalid_0's l2: 0.00642458\n",
      "[3852]\tvalid_0's l2: 0.00642456\n",
      "[3854]\tvalid_0's l2: 0.00642459\n",
      "[3856]\tvalid_0's l2: 0.0064245\n",
      "[3858]\tvalid_0's l2: 0.00642432\n",
      "[3860]\tvalid_0's l2: 0.00642436\n",
      "[3862]\tvalid_0's l2: 0.00642422\n",
      "[3864]\tvalid_0's l2: 0.0064242\n",
      "[3866]\tvalid_0's l2: 0.00642423\n",
      "[3868]\tvalid_0's l2: 0.0064241\n",
      "[3870]\tvalid_0's l2: 0.00642399\n",
      "[3872]\tvalid_0's l2: 0.00642411\n",
      "[3874]\tvalid_0's l2: 0.00642406\n",
      "[3876]\tvalid_0's l2: 0.00642402\n",
      "[3878]\tvalid_0's l2: 0.00642407\n",
      "[3880]\tvalid_0's l2: 0.00642397\n",
      "[3882]\tvalid_0's l2: 0.00642383\n",
      "[3884]\tvalid_0's l2: 0.00642381\n",
      "[3886]\tvalid_0's l2: 0.00642379\n",
      "[3888]\tvalid_0's l2: 0.00642383\n",
      "[3890]\tvalid_0's l2: 0.00642386\n",
      "[3892]\tvalid_0's l2: 0.00642391\n",
      "[3894]\tvalid_0's l2: 0.00642378\n",
      "[3896]\tvalid_0's l2: 0.00642373\n",
      "[3898]\tvalid_0's l2: 0.00642374\n",
      "[3900]\tvalid_0's l2: 0.00642358\n",
      "[3902]\tvalid_0's l2: 0.00642343\n",
      "[3904]\tvalid_0's l2: 0.00642337\n",
      "[3906]\tvalid_0's l2: 0.00642339\n",
      "[3908]\tvalid_0's l2: 0.00642343\n",
      "[3910]\tvalid_0's l2: 0.0064233\n",
      "[3912]\tvalid_0's l2: 0.00642328\n",
      "[3914]\tvalid_0's l2: 0.00642339\n",
      "[3916]\tvalid_0's l2: 0.00642333\n",
      "[3918]\tvalid_0's l2: 0.00642335\n",
      "[3920]\tvalid_0's l2: 0.00642356\n",
      "[3922]\tvalid_0's l2: 0.00642351\n",
      "[3924]\tvalid_0's l2: 0.00642354\n",
      "[3926]\tvalid_0's l2: 0.00642352\n",
      "[3928]\tvalid_0's l2: 0.00642356\n",
      "[3930]\tvalid_0's l2: 0.00642344\n",
      "[3932]\tvalid_0's l2: 0.00642337\n",
      "[3934]\tvalid_0's l2: 0.00642339\n",
      "[3936]\tvalid_0's l2: 0.00642347\n",
      "[3938]\tvalid_0's l2: 0.00642356\n",
      "[3940]\tvalid_0's l2: 0.00642347\n",
      "[3942]\tvalid_0's l2: 0.00642341\n",
      "Early stopping, best iteration is:\n",
      "[3913]\tvalid_0's l2: 0.00642327\n"
     ]
    },
    {
     "data": {
      "text/plain": [
       "LGBMRegressor(bagging_fraction=0.8, bagging_freq=1, boosting_type='gbdt',\n",
       "              class_weight=None, colsample_bytree=0.9, depth=2,\n",
       "              importance_type='split', learning_rate=0.001, max_bin=100000,\n",
       "              max_depth=-1, metric='mse', min_child_samples=20,\n",
       "              min_child_weight=250, min_split_gain=0.0, n_estimators=99999,\n",
       "              n_jobs=-1, n_threads=3, num_leaves=5, objective='regression',\n",
       "              random_state=None, reg_alpha=0.0, reg_lambda=0.0,\n",
       "              scale_pos_weight=1, silent=True, subsample=1.0,\n",
       "              subsample_for_bin=200000, subsample_freq=0)"
      ]
     },
     "execution_count": 20,
     "metadata": {},
     "output_type": "execute_result"
    }
   ],
   "source": [
    "clf = lgb.LGBMRegressor(boosting_type=\"gbdt\",objective=\"regression\",learning_rate=0.001, \\\n",
    "                        bagging_freq=1, \\\n",
    "                        max_bin=100000, scale_pos_weight=1, \\\n",
    "                        metric= \"mse\", n_threads = 3,n_estimators= 99999, \\\n",
    "                        depth = 2, num_leaves = 5, min_child_weight = 250, \\\n",
    "                        colsample_bytree = 0.9, bagging_fraction = 0.8)\n",
    "clf.fit(X_train, y_train, eval_set = [(X_test, y_test)], early_stopping_rounds = 30, verbose = 2, categorical_feature = [1,2,3,5,6,9,12,13])"
   ]
  }
 ],
 "metadata": {
  "kernelspec": {
   "display_name": "Python 3",
   "language": "python",
   "name": "python3"
  },
  "language_info": {
   "codemirror_mode": {
    "name": "ipython",
    "version": 3
   },
   "file_extension": ".py",
   "mimetype": "text/x-python",
   "name": "python",
   "nbconvert_exporter": "python",
   "pygments_lexer": "ipython3",
   "version": "3.7.3"
  }
 },
 "nbformat": 4,
 "nbformat_minor": 4
}
